{
 "cells": [
  {
   "cell_type": "code",
   "execution_count": 41,
   "id": "3a85d375",
   "metadata": {
    "ExecuteTime": {
     "end_time": "2024-02-04T06:24:43.384069700Z",
     "start_time": "2024-02-04T06:24:43.053527500Z"
    }
   },
   "outputs": [],
   "source": [
    "import pandas as pd\n",
    "import numpy as np\n",
    "from matplotlib import pyplot as plt\n",
    "import seaborn as sns\n",
    "import warnings\n",
    "import os\n",
    "import importlib\n",
    "warnings.filterwarnings('ignore')\n",
    "sns.set_theme(color_codes=True)"
   ]
  },
  {
   "cell_type": "code",
   "outputs": [],
   "source": [
    "# Load the dataset and set the column names\n",
    "df = pd.read_csv('Dataset/ratings_Electronics.csv' ,names=['userId', 'productId','rating','timestamp'])"
   ],
   "metadata": {
    "collapsed": false,
    "ExecuteTime": {
     "end_time": "2024-02-04T06:24:51.126586400Z",
     "start_time": "2024-02-04T06:24:43.372889700Z"
    }
   },
   "id": "a2f7dd1f2cbb0894",
   "execution_count": 42
  },
  {
   "cell_type": "code",
   "outputs": [
    {
     "data": {
      "text/plain": "(7824482, 4)"
     },
     "execution_count": 43,
     "metadata": {},
     "output_type": "execute_result"
    }
   ],
   "source": [
    "# See shape\n",
    "df.shape"
   ],
   "metadata": {
    "collapsed": false,
    "ExecuteTime": {
     "end_time": "2024-02-04T06:24:51.138386400Z",
     "start_time": "2024-02-04T06:24:51.123545500Z"
    }
   },
   "id": "e17ce4af296db191",
   "execution_count": 43
  },
  {
   "cell_type": "code",
   "outputs": [
    {
     "data": {
      "text/plain": "Index(['userId', 'productId', 'rating', 'timestamp'], dtype='object')"
     },
     "execution_count": 44,
     "metadata": {},
     "output_type": "execute_result"
    }
   ],
   "source": [
    "# See columns\n",
    "df.columns"
   ],
   "metadata": {
    "collapsed": false,
    "ExecuteTime": {
     "end_time": "2024-02-04T06:24:51.169873100Z",
     "start_time": "2024-02-04T06:24:51.134283700Z"
    }
   },
   "id": "113fb050019e3024",
   "execution_count": 44
  },
  {
   "cell_type": "markdown",
   "source": [
    "The dataset contains over 7.8 million entries. \n",
    "Taking 200000 random entries from the dataset as a sample because the dataset is too large."
   ],
   "metadata": {
    "collapsed": false
   },
   "id": "3044b6abb09c305b"
  },
  {
   "cell_type": "code",
   "outputs": [],
   "source": [
    "product_data = df.sample(n=2000000, ignore_index=True)"
   ],
   "metadata": {
    "collapsed": false,
    "ExecuteTime": {
     "end_time": "2024-02-04T06:24:51.697027600Z",
     "start_time": "2024-02-04T06:24:51.147265600Z"
    }
   },
   "id": "19c31f5006aa9600",
   "execution_count": 45
  },
  {
   "cell_type": "code",
   "outputs": [],
   "source": [
    "# delete the previous dataframe to release the memory\n",
    "del df"
   ],
   "metadata": {
    "collapsed": false,
    "ExecuteTime": {
     "end_time": "2024-02-04T06:24:51.839836600Z",
     "start_time": "2024-02-04T06:24:51.698065500Z"
    }
   },
   "id": "a65a804f8c334156",
   "execution_count": 46
  },
  {
   "cell_type": "code",
   "outputs": [
    {
     "data": {
      "text/plain": "           userId   productId  rating   timestamp\n0  A26LI2QS0LHKOT  B005U7O0YU     4.0  1325635200\n1  A3H8QXSDLBYA0A  B0038R9C8I     5.0  1361404800\n2  A2C1AHZEFR0WIH  B004RCUIJU     5.0  1328140800\n3  A2R5GW7HMGBBUI  B007PRHNHO     5.0  1403136000\n4  A3V0LTZ2W7PBC0  B000A6PPOK     2.0  1379635200",
      "text/html": "<div>\n<style scoped>\n    .dataframe tbody tr th:only-of-type {\n        vertical-align: middle;\n    }\n\n    .dataframe tbody tr th {\n        vertical-align: top;\n    }\n\n    .dataframe thead th {\n        text-align: right;\n    }\n</style>\n<table border=\"1\" class=\"dataframe\">\n  <thead>\n    <tr style=\"text-align: right;\">\n      <th></th>\n      <th>userId</th>\n      <th>productId</th>\n      <th>rating</th>\n      <th>timestamp</th>\n    </tr>\n  </thead>\n  <tbody>\n    <tr>\n      <th>0</th>\n      <td>A26LI2QS0LHKOT</td>\n      <td>B005U7O0YU</td>\n      <td>4.0</td>\n      <td>1325635200</td>\n    </tr>\n    <tr>\n      <th>1</th>\n      <td>A3H8QXSDLBYA0A</td>\n      <td>B0038R9C8I</td>\n      <td>5.0</td>\n      <td>1361404800</td>\n    </tr>\n    <tr>\n      <th>2</th>\n      <td>A2C1AHZEFR0WIH</td>\n      <td>B004RCUIJU</td>\n      <td>5.0</td>\n      <td>1328140800</td>\n    </tr>\n    <tr>\n      <th>3</th>\n      <td>A2R5GW7HMGBBUI</td>\n      <td>B007PRHNHO</td>\n      <td>5.0</td>\n      <td>1403136000</td>\n    </tr>\n    <tr>\n      <th>4</th>\n      <td>A3V0LTZ2W7PBC0</td>\n      <td>B000A6PPOK</td>\n      <td>2.0</td>\n      <td>1379635200</td>\n    </tr>\n  </tbody>\n</table>\n</div>"
     },
     "execution_count": 47,
     "metadata": {},
     "output_type": "execute_result"
    }
   ],
   "source": [
    "# See the top 5 records of the dataframe\n",
    "product_data.head()"
   ],
   "metadata": {
    "collapsed": false,
    "ExecuteTime": {
     "end_time": "2024-02-04T06:24:51.872659100Z",
     "start_time": "2024-02-04T06:24:51.841498500Z"
    }
   },
   "id": "24977e12008241ed",
   "execution_count": 47
  },
  {
   "cell_type": "code",
   "outputs": [
    {
     "name": "stdout",
     "output_type": "stream",
     "text": [
      "<class 'pandas.core.frame.DataFrame'>\n",
      "RangeIndex: 2000000 entries, 0 to 1999999\n",
      "Data columns (total 4 columns):\n",
      " #   Column     Dtype  \n",
      "---  ------     -----  \n",
      " 0   userId     object \n",
      " 1   productId  object \n",
      " 2   rating     float64\n",
      " 3   timestamp  int64  \n",
      "dtypes: float64(1), int64(1), object(2)\n",
      "memory usage: 61.0+ MB\n"
     ]
    }
   ],
   "source": [
    "# See information of the dataframe\n",
    "product_data.info()"
   ],
   "metadata": {
    "collapsed": false,
    "ExecuteTime": {
     "end_time": "2024-02-04T06:24:52.036929300Z",
     "start_time": "2024-02-04T06:24:51.862451400Z"
    }
   },
   "id": "9e00557dc2e87105",
   "execution_count": 48
  },
  {
   "cell_type": "code",
   "outputs": [],
   "source": [
    " # Delete the unnecessary timestamp column\n",
    "product_data.drop('timestamp', axis=1, inplace=True)"
   ],
   "metadata": {
    "collapsed": false,
    "ExecuteTime": {
     "end_time": "2024-02-04T06:24:52.123891600Z",
     "start_time": "2024-02-04T06:24:51.895784900Z"
    }
   },
   "id": "e39bc49f47ba5c0c",
   "execution_count": 49
  },
  {
   "cell_type": "code",
   "outputs": [
    {
     "data": {
      "text/plain": "             rating\ncount  2.000000e+06\nmean   4.010198e+00\nstd    1.381759e+00\nmin    1.000000e+00\n25%    3.000000e+00\n50%    5.000000e+00\n75%    5.000000e+00\nmax    5.000000e+00",
      "text/html": "<div>\n<style scoped>\n    .dataframe tbody tr th:only-of-type {\n        vertical-align: middle;\n    }\n\n    .dataframe tbody tr th {\n        vertical-align: top;\n    }\n\n    .dataframe thead th {\n        text-align: right;\n    }\n</style>\n<table border=\"1\" class=\"dataframe\">\n  <thead>\n    <tr style=\"text-align: right;\">\n      <th></th>\n      <th>rating</th>\n    </tr>\n  </thead>\n  <tbody>\n    <tr>\n      <th>count</th>\n      <td>2.000000e+06</td>\n    </tr>\n    <tr>\n      <th>mean</th>\n      <td>4.010198e+00</td>\n    </tr>\n    <tr>\n      <th>std</th>\n      <td>1.381759e+00</td>\n    </tr>\n    <tr>\n      <th>min</th>\n      <td>1.000000e+00</td>\n    </tr>\n    <tr>\n      <th>25%</th>\n      <td>3.000000e+00</td>\n    </tr>\n    <tr>\n      <th>50%</th>\n      <td>5.000000e+00</td>\n    </tr>\n    <tr>\n      <th>75%</th>\n      <td>5.000000e+00</td>\n    </tr>\n    <tr>\n      <th>max</th>\n      <td>5.000000e+00</td>\n    </tr>\n  </tbody>\n</table>\n</div>"
     },
     "execution_count": 50,
     "metadata": {},
     "output_type": "execute_result"
    }
   ],
   "source": [
    "# See data description\n",
    "product_data.describe()"
   ],
   "metadata": {
    "collapsed": false,
    "ExecuteTime": {
     "end_time": "2024-02-04T06:24:52.178362Z",
     "start_time": "2024-02-04T06:24:51.987596Z"
    }
   },
   "id": "7175640e02bbc850",
   "execution_count": 50
  },
  {
   "cell_type": "code",
   "outputs": [
    {
     "data": {
      "text/plain": "userId       0\nproductId    0\nrating       0\ndtype: int64"
     },
     "execution_count": 51,
     "metadata": {},
     "output_type": "execute_result"
    }
   ],
   "source": [
    "# Count null values\n",
    "product_data.isnull().sum()"
   ],
   "metadata": {
    "collapsed": false,
    "ExecuteTime": {
     "end_time": "2024-02-04T06:24:52.507107100Z",
     "start_time": "2024-02-04T06:24:52.491781400Z"
    }
   },
   "id": "93e0fe13b52c2e3e",
   "execution_count": 51
  },
  {
   "cell_type": "code",
   "outputs": [
    {
     "data": {
      "text/plain": "0"
     },
     "execution_count": 52,
     "metadata": {},
     "output_type": "execute_result"
    }
   ],
   "source": [
    "# Count duplicated values\n",
    "product_data.duplicated().sum()"
   ],
   "metadata": {
    "collapsed": false,
    "ExecuteTime": {
     "end_time": "2024-02-04T06:24:54.212215900Z",
     "start_time": "2024-02-04T06:24:52.505037200Z"
    }
   },
   "id": "89feb41f1c225e07",
   "execution_count": 52
  },
  {
   "cell_type": "markdown",
   "source": [
    "Proceeding forward due to zero null and duplicated values"
   ],
   "metadata": {
    "collapsed": false
   },
   "id": "b21cfcf8e6dac037"
  },
  {
   "cell_type": "markdown",
   "source": [
    "Displaying Rating Distribution as a graph"
   ],
   "metadata": {
    "collapsed": false
   },
   "id": "21ddd423d8afa2ec"
  },
  {
   "cell_type": "code",
   "outputs": [
    {
     "data": {
      "text/plain": "<Figure size 800x400 with 1 Axes>",
      "image/png": "[encoded data removed]"
     },
     "metadata": {},
     "output_type": "display_data"
    }
   ],
   "source": [
    "# Set size of the figure\n",
    "plt.figure(figsize=(8,4))\n",
    "\n",
    "# Creates a count plot based on the 'rating' column\n",
    "sns.countplot(x='rating',data=product_data)\n",
    "\n",
    "# Adds a title to the plot\n",
    "plt.title('Rating Distribution')\n",
    "\n",
    "# Adds a label to the x-axis\n",
    "plt.xlabel('Rating')\n",
    "\n",
    "# Adds a label to the y-axis\n",
    "plt.ylabel('Count')\n",
    "\n",
    "# Adds a grid to the plot\n",
    "plt.grid()\n",
    "\n",
    "# Displays plot\n",
    "plt.show()"
   ],
   "metadata": {
    "collapsed": false,
    "ExecuteTime": {
     "end_time": "2024-02-04T06:24:58.012335700Z",
     "start_time": "2024-02-04T06:24:54.212716800Z"
    }
   },
   "id": "90606d60c6dfb81c",
   "execution_count": 53
  },
  {
   "cell_type": "markdown",
   "source": [
    "Analyzing the rating by user"
   ],
   "metadata": {
    "collapsed": false
   },
   "id": "629e44c4e3162bfa"
  },
  {
   "cell_type": "code",
   "outputs": [
    {
     "name": "stdout",
     "output_type": "stream",
     "text": [
      "Total rating :  2000000\n",
      "Total unique users :  1502545\n",
      "Total unique products :  267260\n"
     ]
    }
   ],
   "source": [
    "print('Total rating : ',product_data.shape[0])\n",
    "print('Total unique users : ',product_data['userId'].nunique())\n",
    "print('Total unique products : ',product_data['productId'].nunique())"
   ],
   "metadata": {
    "collapsed": false,
    "ExecuteTime": {
     "end_time": "2024-02-04T06:24:59.678981800Z",
     "start_time": "2024-02-04T06:24:58.015401600Z"
    }
   },
   "id": "b2e18f0933899b98",
   "execution_count": 54
  },
  {
   "cell_type": "code",
   "outputs": [
    {
     "data": {
      "text/plain": "userId\nA3OXHLG6DIBRW8    135\nA5JLAU2ARJ0BO     132\nADLVFFE4VBT8      130\nA6FIAB28IS79      107\nA680RUE1FDO8B     107\nName: rating, dtype: int64"
     },
     "execution_count": 58,
     "metadata": {},
     "output_type": "execute_result"
    }
   ],
   "source": [
    "# Counting the number of rated products per user\n",
    "no_of_rated_products_per_user = product_data.groupby(by='userId')['rating'].count().sort_values(ascending=False)\n",
    "no_of_rated_products_per_user.head()"
   ],
   "metadata": {
    "collapsed": false,
    "ExecuteTime": {
     "end_time": "2024-02-04T06:35:25.856239900Z",
     "start_time": "2024-02-04T06:35:03.678530Z"
    }
   },
   "id": "8c1422ade3cf8fd5",
   "execution_count": 58
  },
  {
   "cell_type": "code",
   "outputs": [
    {
     "name": "stdout",
     "output_type": "stream",
     "text": [
      "Number of users who have rated more than 50 products : 54 \n"
     ]
    }
   ],
   "source": [
    "# Counting the number of users who have rated more than 50 products\n",
    "print('Number of users who have rated more than 50 products : {} '.format(sum(no_of_rated_products_per_user >= 50)))"
   ],
   "metadata": {
    "collapsed": false,
    "ExecuteTime": {
     "end_time": "2024-02-04T06:34:57.133616100Z",
     "start_time": "2024-02-04T06:34:57.024794600Z"
    }
   },
   "id": "f8b5b074f64de0c3",
   "execution_count": 57
  },
  {
   "cell_type": "markdown",
   "source": [
    "## Popularity Based Recommendation\n",
    "To suggest products to user who just signed up"
   ],
   "metadata": {
    "collapsed": false
   },
   "id": "caa2b9bd2b3260c2"
  },
  {
   "cell_type": "code",
   "outputs": [],
   "source": [
    "# Filtering the products with more than 50 ratings and making a new dataframe\n",
    "data = product_data.groupby('productId').filter(lambda x:x['rating'].count()>=50)"
   ],
   "metadata": {
    "collapsed": false,
    "ExecuteTime": {
     "end_time": "2024-02-04T08:09:10.555146400Z",
     "start_time": "2024-02-04T08:08:52.259925700Z"
    }
   },
   "id": "adf3f4b054a865e",
   "execution_count": 59
  },
  {
   "cell_type": "code",
   "outputs": [
    {
     "data": {
      "text/plain": "           userId   productId  rating\n0  A26LI2QS0LHKOT  B005U7O0YU     4.0\n3  A2R5GW7HMGBBUI  B007PRHNHO     5.0\n4  A3V0LTZ2W7PBC0  B000A6PPOK     2.0\n6   A8HAQBJ81BD0Z  B0002U1TJY     4.0\n7  A39S9NXOMT36PQ  B00328HR76     4.0",
      "text/html": "<div>\n<style scoped>\n    .dataframe tbody tr th:only-of-type {\n        vertical-align: middle;\n    }\n\n    .dataframe tbody tr th {\n        vertical-align: top;\n    }\n\n    .dataframe thead th {\n        text-align: right;\n    }\n</style>\n<table border=\"1\" class=\"dataframe\">\n  <thead>\n    <tr style=\"text-align: right;\">\n      <th></th>\n      <th>userId</th>\n      <th>productId</th>\n      <th>rating</th>\n    </tr>\n  </thead>\n  <tbody>\n    <tr>\n      <th>0</th>\n      <td>A26LI2QS0LHKOT</td>\n      <td>B005U7O0YU</td>\n      <td>4.0</td>\n    </tr>\n    <tr>\n      <th>3</th>\n      <td>A2R5GW7HMGBBUI</td>\n      <td>B007PRHNHO</td>\n      <td>5.0</td>\n    </tr>\n    <tr>\n      <th>4</th>\n      <td>A3V0LTZ2W7PBC0</td>\n      <td>B000A6PPOK</td>\n      <td>2.0</td>\n    </tr>\n    <tr>\n      <th>6</th>\n      <td>A8HAQBJ81BD0Z</td>\n      <td>B0002U1TJY</td>\n      <td>4.0</td>\n    </tr>\n    <tr>\n      <th>7</th>\n      <td>A39S9NXOMT36PQ</td>\n      <td>B00328HR76</td>\n      <td>4.0</td>\n    </tr>\n  </tbody>\n</table>\n</div>"
     },
     "execution_count": 61,
     "metadata": {},
     "output_type": "execute_result"
    }
   ],
   "source": [
    "data.head()"
   ],
   "metadata": {
    "collapsed": false,
    "ExecuteTime": {
     "end_time": "2024-02-04T08:10:16.553596400Z",
     "start_time": "2024-02-04T08:10:16.547298500Z"
    }
   },
   "id": "314fdfbbea0cc2de",
   "execution_count": 61
  },
  {
   "cell_type": "code",
   "outputs": [],
   "source": [
    "# Calculating the number of ratings per product\n",
    "# Sorting the results in the descending order \n",
    "no_of_rating_per_product = data.groupby('productId')['rating'].count().sort_values(ascending=False)"
   ],
   "metadata": {
    "collapsed": false,
    "ExecuteTime": {
     "end_time": "2024-02-04T08:18:38.763347400Z",
     "start_time": "2024-02-04T08:18:38.334808700Z"
    }
   },
   "id": "22ca9e1b6acd5541",
   "execution_count": 62
  },
  {
   "cell_type": "code",
   "outputs": [
    {
     "data": {
      "text/plain": "productId\nB0074BW614    4642\nB00DR0PDNE    4222\nB007WTAJTO    3654\nB0019EHU8G    3194\nB006GWO5WK    3187\nName: rating, dtype: int64"
     },
     "execution_count": 63,
     "metadata": {},
     "output_type": "execute_result"
    }
   ],
   "source": [
    "no_of_rating_per_product.head()"
   ],
   "metadata": {
    "collapsed": false,
    "ExecuteTime": {
     "end_time": "2024-02-04T08:18:57.147825Z",
     "start_time": "2024-02-04T08:18:57.116757400Z"
    }
   },
   "id": "9ee785dafd4f8455",
   "execution_count": 63
  },
  {
   "cell_type": "code",
   "outputs": [
    {
     "data": {
      "text/plain": "<Figure size 640x480 with 1 Axes>",
      "image/png": "[encoded data removed]"
     },
     "metadata": {},
     "output_type": "display_data"
    }
   ],
   "source": [
    "# Creates a bar plot of the top 20 most rated products\n",
    "no_of_rating_per_product.head(20).plot(kind='bar')\n",
    "\n",
    "# Adds a title to the plot\n",
    "plt.title('top 20 product')\n",
    "\n",
    "# Adds label to the x-axis\n",
    "plt.xlabel('Product ID')\n",
    "\n",
    "# Adds label to the x-axis\n",
    "plt.ylabel('num of rating')\n",
    "\n",
    "# Displays plot\n",
    "plt.show()"
   ],
   "metadata": {
    "collapsed": false,
    "ExecuteTime": {
     "end_time": "2024-02-04T12:05:38.115996300Z",
     "start_time": "2024-02-04T12:05:37.377600900Z"
    }
   },
   "id": "9167137bf4276905",
   "execution_count": 64
  },
  {
   "cell_type": "code",
   "outputs": [],
   "source": [
    "# Calculating the average rating for each product\n",
    "# Creating a new dataframe from that data\n",
    "mean_rating_per_product = pd.DataFrame(data.groupby('productId')['rating'].mean())"
   ],
   "metadata": {
    "collapsed": false,
    "ExecuteTime": {
     "end_time": "2024-02-04T14:50:40.217824200Z",
     "start_time": "2024-02-04T14:50:39.818422700Z"
    }
   },
   "id": "8dd5e0a037a2ea8f",
   "execution_count": 65
  },
  {
   "cell_type": "code",
   "outputs": [
    {
     "data": {
      "text/plain": "              rating\nproductId           \n0972683275  4.492308\n1400501466  3.576271\n1400532655  3.696000\n140053271X  3.876106\n9573212919  3.849057",
      "text/html": "<div>\n<style scoped>\n    .dataframe tbody tr th:only-of-type {\n        vertical-align: middle;\n    }\n\n    .dataframe tbody tr th {\n        vertical-align: top;\n    }\n\n    .dataframe thead th {\n        text-align: right;\n    }\n</style>\n<table border=\"1\" class=\"dataframe\">\n  <thead>\n    <tr style=\"text-align: right;\">\n      <th></th>\n      <th>rating</th>\n    </tr>\n    <tr>\n      <th>productId</th>\n      <th></th>\n    </tr>\n  </thead>\n  <tbody>\n    <tr>\n      <th>0972683275</th>\n      <td>4.492308</td>\n    </tr>\n    <tr>\n      <th>1400501466</th>\n      <td>3.576271</td>\n    </tr>\n    <tr>\n      <th>1400532655</th>\n      <td>3.696000</td>\n    </tr>\n    <tr>\n      <th>140053271X</th>\n      <td>3.876106</td>\n    </tr>\n    <tr>\n      <th>9573212919</th>\n      <td>3.849057</td>\n    </tr>\n  </tbody>\n</table>\n</div>"
     },
     "execution_count": 66,
     "metadata": {},
     "output_type": "execute_result"
    }
   ],
   "source": [
    "mean_rating_per_product.head()"
   ],
   "metadata": {
    "collapsed": false,
    "ExecuteTime": {
     "end_time": "2024-02-04T14:50:42.840882700Z",
     "start_time": "2024-02-04T14:50:42.818812900Z"
    }
   },
   "id": "e10653e1ae825021",
   "execution_count": 66
  },
  {
   "cell_type": "code",
   "outputs": [
    {
     "data": {
      "text/plain": "<Figure size 640x480 with 1 Axes>",
      "image/png": "[encoded data removed]"
     },
     "metadata": {},
     "output_type": "display_data"
    }
   ],
   "source": [
    "# Creates histogram with 100 bins\n",
    "plt.hist(mean_rating_per_product['rating'],bins=100)\n",
    "\n",
    "# Adds a title to the histogram \n",
    "plt.title('Mean Rating distribution')\n",
    "\n",
    "# Displays histogram\n",
    "plt.show()"
   ],
   "metadata": {
    "collapsed": false,
    "ExecuteTime": {
     "end_time": "2024-02-04T14:56:21.100097200Z",
     "start_time": "2024-02-04T14:56:20.883832300Z"
    }
   },
   "id": "77a11a9ac827b97d",
   "execution_count": 70
  },
  {
   "cell_type": "code",
   "outputs": [
    {
     "data": {
      "text/plain": "-0.8930261819093388"
     },
     "execution_count": 71,
     "metadata": {},
     "output_type": "execute_result"
    }
   ],
   "source": [
    "# Checking the skewness of the mean rating data\n",
    "mean_rating_per_product['rating'].skew()"
   ],
   "metadata": {
    "collapsed": false,
    "ExecuteTime": {
     "end_time": "2024-02-04T15:30:21.274950400Z",
     "start_time": "2024-02-04T15:30:21.221668Z"
    }
   },
   "id": "5cf0722bf09bae5b",
   "execution_count": 71
  },
  {
   "cell_type": "markdown",
   "source": [
    "Moderately negatively skewed "
   ],
   "metadata": {
    "collapsed": false
   },
   "id": "46c29c5bce551823"
  },
  {
   "cell_type": "code",
   "outputs": [],
   "source": [
    "# Adding a rating_count column to the mean_rating_per_product dataframe\n",
    "mean_rating_per_product['rating_counts'] = data.groupby('productId')['rating'].count()"
   ],
   "metadata": {
    "collapsed": false,
    "ExecuteTime": {
     "end_time": "2024-02-04T15:37:45.163361600Z",
     "start_time": "2024-02-04T15:37:45.077001Z"
    }
   },
   "id": "6bf94b098820ae87",
   "execution_count": 76
  },
  {
   "cell_type": "code",
   "outputs": [
    {
     "data": {
      "text/plain": "              rating  rating_counts\nproductId                          \n0972683275  4.492308            260\n1400501466  3.576271             59\n1400532655  3.696000            125\n140053271X  3.876106            113\n9573212919  3.849057             53",
      "text/html": "<div>\n<style scoped>\n    .dataframe tbody tr th:only-of-type {\n        vertical-align: middle;\n    }\n\n    .dataframe tbody tr th {\n        vertical-align: top;\n    }\n\n    .dataframe thead th {\n        text-align: right;\n    }\n</style>\n<table border=\"1\" class=\"dataframe\">\n  <thead>\n    <tr style=\"text-align: right;\">\n      <th></th>\n      <th>rating</th>\n      <th>rating_counts</th>\n    </tr>\n    <tr>\n      <th>productId</th>\n      <th></th>\n      <th></th>\n    </tr>\n  </thead>\n  <tbody>\n    <tr>\n      <th>0972683275</th>\n      <td>4.492308</td>\n      <td>260</td>\n    </tr>\n    <tr>\n      <th>1400501466</th>\n      <td>3.576271</td>\n      <td>59</td>\n    </tr>\n    <tr>\n      <th>1400532655</th>\n      <td>3.696000</td>\n      <td>125</td>\n    </tr>\n    <tr>\n      <th>140053271X</th>\n      <td>3.876106</td>\n      <td>113</td>\n    </tr>\n    <tr>\n      <th>9573212919</th>\n      <td>3.849057</td>\n      <td>53</td>\n    </tr>\n  </tbody>\n</table>\n</div>"
     },
     "execution_count": 77,
     "metadata": {},
     "output_type": "execute_result"
    }
   ],
   "source": [
    "mean_rating_per_product.head()"
   ],
   "metadata": {
    "collapsed": false,
    "ExecuteTime": {
     "end_time": "2024-02-04T15:37:50.197861100Z",
     "start_time": "2024-02-04T15:37:50.179454500Z"
    }
   },
   "id": "95b17686625d65c5",
   "execution_count": 77
  },
  {
   "cell_type": "code",
   "outputs": [
    {
     "data": {
      "text/plain": "              rating  rating_counts\nproductId                          \nB0074BW614  4.500862           4642",
      "text/html": "<div>\n<style scoped>\n    .dataframe tbody tr th:only-of-type {\n        vertical-align: middle;\n    }\n\n    .dataframe tbody tr th {\n        vertical-align: top;\n    }\n\n    .dataframe thead th {\n        text-align: right;\n    }\n</style>\n<table border=\"1\" class=\"dataframe\">\n  <thead>\n    <tr style=\"text-align: right;\">\n      <th></th>\n      <th>rating</th>\n      <th>rating_counts</th>\n    </tr>\n    <tr>\n      <th>productId</th>\n      <th></th>\n      <th></th>\n    </tr>\n  </thead>\n  <tbody>\n    <tr>\n      <th>B0074BW614</th>\n      <td>4.500862</td>\n      <td>4642</td>\n    </tr>\n  </tbody>\n</table>\n</div>"
     },
     "execution_count": 78,
     "metadata": {},
     "output_type": "execute_result"
    }
   ],
   "source": [
    "# Finding the product with the highest mean rating\n",
    "mean_rating_per_product[mean_rating_per_product['rating_counts'] == mean_rating_per_product['rating_counts'].max()]"
   ],
   "metadata": {
    "collapsed": false,
    "ExecuteTime": {
     "end_time": "2024-02-04T15:46:05.596350500Z",
     "start_time": "2024-02-04T15:46:05.402472600Z"
    }
   },
   "id": "8b9b77d58ba90b3b",
   "execution_count": 78
  },
  {
   "cell_type": "code",
   "outputs": [
    {
     "name": "stdout",
     "output_type": "stream",
     "text": [
      "min average rating product: 50\n",
      "total min average rating products: 147\n"
     ]
    }
   ],
   "source": [
    "# The minimum number of ratings a product can have\n",
    "min_rating_counts = mean_rating_per_product['rating_counts'].min()\n",
    "\n",
    "# The number of products with the minimum number of ratings\n",
    "total_min_rating_products = mean_rating_per_product[mean_rating_per_product['rating_counts']==min_rating_counts].shape[0]\n",
    "\n",
    "print('Minimum rating count for a product :', min_rating_counts)\n",
    "print('Total products with the minimum rating count :', total_min_rating_products)"
   ],
   "metadata": {
    "collapsed": false,
    "ExecuteTime": {
     "end_time": "2024-02-04T15:53:55.862272700Z",
     "start_time": "2024-02-04T15:53:55.809770500Z"
    }
   },
   "id": "168d5948f30b74e4",
   "execution_count": 80
  },
  {
   "cell_type": "code",
   "outputs": [
    {
     "data": {
      "text/plain": "<Figure size 640x480 with 1 Axes>",
      "image/png": "[encoded data removed]"
     },
     "metadata": {},
     "output_type": "display_data"
    }
   ],
   "source": [
    "# Creates histogram with 100 bins\n",
    "plt.hist(mean_rating_per_product['rating_counts'],bins=100)\n",
    "\n",
    "# Adds a title to the histogram \n",
    "plt.title('rating count distribution')\n",
    "\n",
    "# Displays histogram\n",
    "plt.show()"
   ],
   "metadata": {
    "collapsed": false,
    "ExecuteTime": {
     "end_time": "2024-02-04T16:10:12.800138Z",
     "start_time": "2024-02-04T16:10:12.050971Z"
    }
   },
   "id": "f53faad26d9e9b43",
   "execution_count": 81
  }
 ],
 "metadata": {
  "kernelspec": {
   "display_name": "Python 3 (ipykernel)",
   "language": "python",
   "name": "python3"
  },
  "language_info": {
   "codemirror_mode": {
    "name": "ipython",
    "version": 3
   },
   "file_extension": ".py",
   "mimetype": "text/x-python",
   "name": "python",
   "nbconvert_exporter": "python",
   "pygments_lexer": "ipython3",
   "version": "3.11.5"
  }
 },
 "nbformat": 4,
 "nbformat_minor": 5
}
