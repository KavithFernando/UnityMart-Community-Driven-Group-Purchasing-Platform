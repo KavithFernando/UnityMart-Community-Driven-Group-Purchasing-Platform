{
 "cells": [
  {
   "cell_type": "code",
   "execution_count": 2,
   "id": "3a85d375",
   "metadata": {
    "ExecuteTime": {
     "end_time": "2024-02-07T03:59:42.257212400Z",
     "start_time": "2024-02-07T03:59:41.858732600Z"
    }
   },
   "outputs": [],
   "source": [
    "import pandas as pd\n",
    "import numpy as np\n",
    "from matplotlib import pyplot as plt\n",
    "import seaborn as sns\n",
    "import warnings\n",
    "warnings.filterwarnings('ignore')\n",
    "sns.set_theme(color_codes=True)"
   ]
  },
  {
   "cell_type": "code",
   "execution_count": 3,
   "id": "a2f7dd1f2cbb0894",
   "metadata": {
    "ExecuteTime": {
     "end_time": "2024-02-07T03:59:47.194933800Z",
     "start_time": "2024-02-07T03:59:42.249109100Z"
    }
   },
   "outputs": [],
   "source": [
    "# Load the dataset and set the column names\n",
    "df = pd.read_csv('Dataset/ratings_Electronics.csv' ,names=['userId', 'productId','rating','timestamp'])"
   ]
  },
  {
   "cell_type": "code",
   "execution_count": 4,
   "id": "e17ce4af296db191",
   "metadata": {
    "ExecuteTime": {
     "end_time": "2024-02-07T03:59:47.221578400Z",
     "start_time": "2024-02-07T03:59:47.192879200Z"
    }
   },
   "outputs": [
    {
     "data": {
      "text/plain": "(7824482, 4)"
     },
     "execution_count": 4,
     "metadata": {},
     "output_type": "execute_result"
    }
   ],
   "source": [
    "# Display shape\n",
    "df.shape"
   ]
  },
  {
   "cell_type": "code",
   "execution_count": 5,
   "id": "113fb050019e3024",
   "metadata": {
    "ExecuteTime": {
     "end_time": "2024-02-07T03:59:47.222590800Z",
     "start_time": "2024-02-07T03:59:47.201255300Z"
    }
   },
   "outputs": [
    {
     "data": {
      "text/plain": "Index(['userId', 'productId', 'rating', 'timestamp'], dtype='object')"
     },
     "execution_count": 5,
     "metadata": {},
     "output_type": "execute_result"
    }
   ],
   "source": [
    "# Display columns\n",
    "df.columns"
   ]
  },
  {
   "cell_type": "markdown",
   "id": "3044b6abb09c305b",
   "metadata": {},
   "source": [
    "The dataset contains over 7.8 million entries. \n",
    "Taking 2000000 random entries from the dataset as a sample because the dataset is too large."
   ]
  },
  {
   "cell_type": "code",
   "execution_count": 6,
   "id": "19c31f5006aa9600",
   "metadata": {
    "ExecuteTime": {
     "end_time": "2024-02-07T03:59:47.709606400Z",
     "start_time": "2024-02-07T03:59:47.209060300Z"
    }
   },
   "outputs": [],
   "source": [
    "product_data = df.sample(n=2000000, ignore_index=True)"
   ]
  },
  {
   "cell_type": "code",
   "execution_count": 7,
   "id": "a65a804f8c334156",
   "metadata": {
    "ExecuteTime": {
     "end_time": "2024-02-07T03:59:47.856976600Z",
     "start_time": "2024-02-07T03:59:47.710603200Z"
    }
   },
   "outputs": [],
   "source": [
    "# Delete the previous dataframe to release the memory\n",
    "del df"
   ]
  },
  {
   "cell_type": "code",
   "execution_count": 8,
   "id": "24977e12008241ed",
   "metadata": {
    "ExecuteTime": {
     "end_time": "2024-02-07T03:59:47.911649200Z",
     "start_time": "2024-02-07T03:59:47.854922100Z"
    }
   },
   "outputs": [
    {
     "data": {
      "text/plain": "           userId   productId  rating   timestamp\n0  A2CCQAOYUQ5U49  B001LK8P14     5.0  1276128000\n1  A3SURXJ7B7JWME  B000WXF2Y4     4.0  1369699200\n2  A3N0WN21Z90MUK  B001TCOPR2     5.0  1271980800\n3   AX0CK9EXVI255  B009WVJ9VE     4.0  1370131200\n4  A3CLNSX71IFFB9  B00FS4UNG4     4.0  1389139200",
      "text/html": "<div>\n<style scoped>\n    .dataframe tbody tr th:only-of-type {\n        vertical-align: middle;\n    }\n\n    .dataframe tbody tr th {\n        vertical-align: top;\n    }\n\n    .dataframe thead th {\n        text-align: right;\n    }\n</style>\n<table border=\"1\" class=\"dataframe\">\n  <thead>\n    <tr style=\"text-align: right;\">\n      <th></th>\n      <th>userId</th>\n      <th>productId</th>\n      <th>rating</th>\n      <th>timestamp</th>\n    </tr>\n  </thead>\n  <tbody>\n    <tr>\n      <th>0</th>\n      <td>A2CCQAOYUQ5U49</td>\n      <td>B001LK8P14</td>\n      <td>5.0</td>\n      <td>1276128000</td>\n    </tr>\n    <tr>\n      <th>1</th>\n      <td>A3SURXJ7B7JWME</td>\n      <td>B000WXF2Y4</td>\n      <td>4.0</td>\n      <td>1369699200</td>\n    </tr>\n    <tr>\n      <th>2</th>\n      <td>A3N0WN21Z90MUK</td>\n      <td>B001TCOPR2</td>\n      <td>5.0</td>\n      <td>1271980800</td>\n    </tr>\n    <tr>\n      <th>3</th>\n      <td>AX0CK9EXVI255</td>\n      <td>B009WVJ9VE</td>\n      <td>4.0</td>\n      <td>1370131200</td>\n    </tr>\n    <tr>\n      <th>4</th>\n      <td>A3CLNSX71IFFB9</td>\n      <td>B00FS4UNG4</td>\n      <td>4.0</td>\n      <td>1389139200</td>\n    </tr>\n  </tbody>\n</table>\n</div>"
     },
     "execution_count": 8,
     "metadata": {},
     "output_type": "execute_result"
    }
   ],
   "source": [
    "# Display the top 5 records of the dataframe\n",
    "product_data.head()"
   ]
  },
  {
   "cell_type": "code",
   "execution_count": 9,
   "id": "9e00557dc2e87105",
   "metadata": {
    "ExecuteTime": {
     "end_time": "2024-02-07T03:59:47.913645300Z",
     "start_time": "2024-02-07T03:59:47.889500700Z"
    }
   },
   "outputs": [
    {
     "name": "stdout",
     "output_type": "stream",
     "text": [
      "<class 'pandas.core.frame.DataFrame'>\n",
      "RangeIndex: 2000000 entries, 0 to 1999999\n",
      "Data columns (total 4 columns):\n",
      " #   Column     Dtype  \n",
      "---  ------     -----  \n",
      " 0   userId     object \n",
      " 1   productId  object \n",
      " 2   rating     float64\n",
      " 3   timestamp  int64  \n",
      "dtypes: float64(1), int64(1), object(2)\n",
      "memory usage: 61.0+ MB\n"
     ]
    }
   ],
   "source": [
    "# Display information of the dataframe\n",
    "product_data.info()"
   ]
  },
  {
   "cell_type": "code",
   "execution_count": 10,
   "id": "e39bc49f47ba5c0c",
   "metadata": {
    "ExecuteTime": {
     "end_time": "2024-02-07T03:59:48.055616600Z",
     "start_time": "2024-02-07T03:59:47.903390300Z"
    }
   },
   "outputs": [],
   "source": [
    "# Delete the unnecessary timestamp column\n",
    "product_data.drop('timestamp', axis=1, inplace=True)"
   ]
  },
  {
   "cell_type": "code",
   "execution_count": 11,
   "id": "7175640e02bbc850",
   "metadata": {
    "ExecuteTime": {
     "end_time": "2024-02-07T03:59:48.117534200Z",
     "start_time": "2024-02-07T03:59:48.011324200Z"
    }
   },
   "outputs": [
    {
     "data": {
      "text/plain": "             rating\ncount  2.000000e+06\nmean   4.013199e+00\nstd    1.380103e+00\nmin    1.000000e+00\n25%    3.000000e+00\n50%    5.000000e+00\n75%    5.000000e+00\nmax    5.000000e+00",
      "text/html": "<div>\n<style scoped>\n    .dataframe tbody tr th:only-of-type {\n        vertical-align: middle;\n    }\n\n    .dataframe tbody tr th {\n        vertical-align: top;\n    }\n\n    .dataframe thead th {\n        text-align: right;\n    }\n</style>\n<table border=\"1\" class=\"dataframe\">\n  <thead>\n    <tr style=\"text-align: right;\">\n      <th></th>\n      <th>rating</th>\n    </tr>\n  </thead>\n  <tbody>\n    <tr>\n      <th>count</th>\n      <td>2.000000e+06</td>\n    </tr>\n    <tr>\n      <th>mean</th>\n      <td>4.013199e+00</td>\n    </tr>\n    <tr>\n      <th>std</th>\n      <td>1.380103e+00</td>\n    </tr>\n    <tr>\n      <th>min</th>\n      <td>1.000000e+00</td>\n    </tr>\n    <tr>\n      <th>25%</th>\n      <td>3.000000e+00</td>\n    </tr>\n    <tr>\n      <th>50%</th>\n      <td>5.000000e+00</td>\n    </tr>\n    <tr>\n      <th>75%</th>\n      <td>5.000000e+00</td>\n    </tr>\n    <tr>\n      <th>max</th>\n      <td>5.000000e+00</td>\n    </tr>\n  </tbody>\n</table>\n</div>"
     },
     "execution_count": 11,
     "metadata": {},
     "output_type": "execute_result"
    }
   ],
   "source": [
    "# Display data description\n",
    "product_data.describe()"
   ]
  },
  {
   "cell_type": "code",
   "execution_count": 12,
   "id": "93e0fe13b52c2e3e",
   "metadata": {
    "ExecuteTime": {
     "end_time": "2024-02-07T03:59:48.549879600Z",
     "start_time": "2024-02-07T03:59:48.102263100Z"
    }
   },
   "outputs": [
    {
     "data": {
      "text/plain": "userId       0\nproductId    0\nrating       0\ndtype: int64"
     },
     "execution_count": 12,
     "metadata": {},
     "output_type": "execute_result"
    }
   ],
   "source": [
    "# Count null values\n",
    "product_data.isnull().sum()"
   ]
  },
  {
   "cell_type": "code",
   "execution_count": 13,
   "id": "89feb41f1c225e07",
   "metadata": {
    "ExecuteTime": {
     "end_time": "2024-02-07T03:59:50.346288600Z",
     "start_time": "2024-02-07T03:59:48.536583800Z"
    }
   },
   "outputs": [
    {
     "data": {
      "text/plain": "0"
     },
     "execution_count": 13,
     "metadata": {},
     "output_type": "execute_result"
    }
   ],
   "source": [
    "# Count duplicated values\n",
    "product_data.duplicated().sum()"
   ]
  },
  {
   "cell_type": "markdown",
   "id": "b21cfcf8e6dac037",
   "metadata": {},
   "source": [
    "Proceeding forward due to zero null and duplicated values"
   ]
  },
  {
   "cell_type": "markdown",
   "id": "21ddd423d8afa2ec",
   "metadata": {},
   "source": [
    "Displaying Rating Distribution as a graph"
   ]
  },
  {
   "cell_type": "code",
   "execution_count": 14,
   "id": "90606d60c6dfb81c",
   "metadata": {
    "ExecuteTime": {
     "end_time": "2024-02-07T03:59:53.434673700Z",
     "start_time": "2024-02-07T03:59:50.347331700Z"
    }
   },
   "outputs": [
    {
     "data": {
      "text/plain": "<Figure size 800x400 with 1 Axes>",
      "image/png": "[encoded data removed]"
     },
     "metadata": {},
     "output_type": "display_data"
    }
   ],
   "source": [
    "# Set size of the figure\n",
    "plt.figure(figsize=(8,4))\n",
    "\n",
    "# Create a count plot based on the 'rating' column\n",
    "sns.countplot(x='rating',data=product_data)\n",
    "\n",
    "# Add a title to the plot\n",
    "plt.title('Rating Distribution')\n",
    "\n",
    "# Add a label to the x-axis\n",
    "plt.xlabel('Rating')\n",
    "\n",
    "# Add a label to the y-axis\n",
    "plt.ylabel('Count')\n",
    "\n",
    "# Add a grid to the plot\n",
    "plt.grid()\n",
    "\n",
    "# Display plot\n",
    "plt.show()"
   ]
  },
  {
   "cell_type": "markdown",
   "id": "629e44c4e3162bfa",
   "metadata": {},
   "source": [
    "Analyzing the rating by user"
   ]
  },
  {
   "cell_type": "code",
   "execution_count": 15,
   "id": "b2e18f0933899b98",
   "metadata": {
    "ExecuteTime": {
     "end_time": "2024-02-07T03:59:55.086904500Z",
     "start_time": "2024-02-07T03:59:53.435670800Z"
    }
   },
   "outputs": [
    {
     "name": "stdout",
     "output_type": "stream",
     "text": [
      "Total rating :  2000000\n",
      "Total unique users :  1501400\n",
      "Total unique products :  267420\n"
     ]
    }
   ],
   "source": [
    "print('Total rating : ',product_data.shape[0])\n",
    "print('Total unique users : ',product_data['userId'].nunique())\n",
    "print('Total unique products : ',product_data['productId'].nunique())"
   ]
  },
  {
   "cell_type": "code",
   "execution_count": 16,
   "id": "8c1422ade3cf8fd5",
   "metadata": {
    "ExecuteTime": {
     "end_time": "2024-02-07T03:59:58.909037700Z",
     "start_time": "2024-02-07T03:59:55.086904500Z"
    }
   },
   "outputs": [
    {
     "data": {
      "text/plain": "userId\nA5JLAU2ARJ0BO     121\nA3OXHLG6DIBRW8    119\nA6FIAB28IS79      119\nADLVFFE4VBT8      115\nA680RUE1FDO8B     102\nName: rating, dtype: int64"
     },
     "execution_count": 16,
     "metadata": {},
     "output_type": "execute_result"
    }
   ],
   "source": [
    "# Count the number of rated products per user\n",
    "no_of_rated_products_per_user = product_data.groupby(by='userId')['rating'].count().sort_values(ascending=False)\n",
    "no_of_rated_products_per_user.head()"
   ]
  },
  {
   "cell_type": "code",
   "execution_count": 17,
   "id": "f8b5b074f64de0c3",
   "metadata": {
    "ExecuteTime": {
     "end_time": "2024-02-07T03:59:58.977398100Z",
     "start_time": "2024-02-07T03:59:58.909037700Z"
    }
   },
   "outputs": [
    {
     "name": "stdout",
     "output_type": "stream",
     "text": [
      "Number of users who have rated more than 50 products : 64 \n"
     ]
    }
   ],
   "source": [
    "# Count the number of users who have rated more than 50 products\n",
    "print('Number of users who have rated more than 50 products : {} '.format(sum(no_of_rated_products_per_user >= 50)))"
   ]
  },
  {
   "cell_type": "markdown",
   "id": "caa2b9bd2b3260c2",
   "metadata": {},
   "source": [
    "## Popularity Based Recommendation\n",
    "To suggest products to user who just signed up"
   ]
  },
  {
   "cell_type": "code",
   "execution_count": 18,
   "id": "adf3f4b054a865e",
   "metadata": {
    "ExecuteTime": {
     "end_time": "2024-02-07T04:00:08.616187200Z",
     "start_time": "2024-02-07T03:59:58.978412800Z"
    }
   },
   "outputs": [],
   "source": [
    "# Filter the products with more than 50 ratings and making a new dataframe\n",
    "data = product_data.groupby('productId').filter(lambda x:x['rating'].count()>=50)"
   ]
  },
  {
   "cell_type": "code",
   "execution_count": 19,
   "id": "314fdfbbea0cc2de",
   "metadata": {
    "ExecuteTime": {
     "end_time": "2024-02-07T04:00:08.630999600Z",
     "start_time": "2024-02-07T04:00:08.617326400Z"
    }
   },
   "outputs": [
    {
     "data": {
      "text/plain": "           userId   productId  rating\n0  A2CCQAOYUQ5U49  B001LK8P14     5.0\n3   AX0CK9EXVI255  B009WVJ9VE     4.0\n6  A2T4X3JDES3TF1  B0002L5R78     5.0\n7    AOM8LICJ51R1  B005DIBHA6     5.0\n9  A1P1QN4RJYF15B  B0036VO2B8     5.0",
      "text/html": "<div>\n<style scoped>\n    .dataframe tbody tr th:only-of-type {\n        vertical-align: middle;\n    }\n\n    .dataframe tbody tr th {\n        vertical-align: top;\n    }\n\n    .dataframe thead th {\n        text-align: right;\n    }\n</style>\n<table border=\"1\" class=\"dataframe\">\n  <thead>\n    <tr style=\"text-align: right;\">\n      <th></th>\n      <th>userId</th>\n      <th>productId</th>\n      <th>rating</th>\n    </tr>\n  </thead>\n  <tbody>\n    <tr>\n      <th>0</th>\n      <td>A2CCQAOYUQ5U49</td>\n      <td>B001LK8P14</td>\n      <td>5.0</td>\n    </tr>\n    <tr>\n      <th>3</th>\n      <td>AX0CK9EXVI255</td>\n      <td>B009WVJ9VE</td>\n      <td>4.0</td>\n    </tr>\n    <tr>\n      <th>6</th>\n      <td>A2T4X3JDES3TF1</td>\n      <td>B0002L5R78</td>\n      <td>5.0</td>\n    </tr>\n    <tr>\n      <th>7</th>\n      <td>AOM8LICJ51R1</td>\n      <td>B005DIBHA6</td>\n      <td>5.0</td>\n    </tr>\n    <tr>\n      <th>9</th>\n      <td>A1P1QN4RJYF15B</td>\n      <td>B0036VO2B8</td>\n      <td>5.0</td>\n    </tr>\n  </tbody>\n</table>\n</div>"
     },
     "execution_count": 19,
     "metadata": {},
     "output_type": "execute_result"
    }
   ],
   "source": [
    "data.head()"
   ]
  },
  {
   "cell_type": "code",
   "execution_count": 20,
   "id": "22ca9e1b6acd5541",
   "metadata": {
    "ExecuteTime": {
     "end_time": "2024-02-07T04:00:08.776660200Z",
     "start_time": "2024-02-07T04:00:08.625699500Z"
    }
   },
   "outputs": [],
   "source": [
    "# Calculate the number of ratings per product\n",
    "# Sort the results in the descending order \n",
    "no_of_rating_per_product = data.groupby('productId')['rating'].count().sort_values(ascending=False)"
   ]
  },
  {
   "cell_type": "code",
   "execution_count": 21,
   "id": "9ee785dafd4f8455",
   "metadata": {
    "ExecuteTime": {
     "end_time": "2024-02-07T04:00:08.776660200Z",
     "start_time": "2024-02-07T04:00:08.726963900Z"
    }
   },
   "outputs": [
    {
     "data": {
      "text/plain": "productId\nB0074BW614    4791\nB00DR0PDNE    4195\nB007WTAJTO    3655\nB0019EHU8G    3193\nB006GWO5WK    3135\nName: rating, dtype: int64"
     },
     "execution_count": 21,
     "metadata": {},
     "output_type": "execute_result"
    }
   ],
   "source": [
    "no_of_rating_per_product.head()"
   ]
  },
  {
   "cell_type": "code",
   "execution_count": 22,
   "id": "9167137bf4276905",
   "metadata": {
    "ExecuteTime": {
     "end_time": "2024-02-07T04:00:08.965433100Z",
     "start_time": "2024-02-07T04:00:08.735488900Z"
    }
   },
   "outputs": [
    {
     "data": {
      "text/plain": "<Figure size 640x480 with 1 Axes>",
      "image/png": "[encoded data removed]"
     },
     "metadata": {},
     "output_type": "display_data"
    }
   ],
   "source": [
    "# Create a bar plot of the top 20 most rated products\n",
    "no_of_rating_per_product.head(20).plot(kind='bar')\n",
    "\n",
    "# Add a title to the plot\n",
    "plt.title('top 20 product')\n",
    "\n",
    "# Add label to the x-axis\n",
    "plt.xlabel('Product ID')\n",
    "\n",
    "# Add label to the x-axis\n",
    "plt.ylabel('num of rating')\n",
    "\n",
    "# Display plot\n",
    "plt.show()"
   ]
  },
  {
   "cell_type": "code",
   "execution_count": 23,
   "id": "8dd5e0a037a2ea8f",
   "metadata": {
    "ExecuteTime": {
     "end_time": "2024-02-07T04:00:09.076534800Z",
     "start_time": "2024-02-07T04:00:08.964282600Z"
    }
   },
   "outputs": [],
   "source": [
    "# Calculate the average rating for each product\n",
    "# Create a new dataframe from that data\n",
    "mean_rating_per_product = pd.DataFrame(data.groupby('productId')['rating'].mean())"
   ]
  },
  {
   "cell_type": "code",
   "execution_count": 24,
   "id": "e10653e1ae825021",
   "metadata": {
    "ExecuteTime": {
     "end_time": "2024-02-07T04:00:09.079641800Z",
     "start_time": "2024-02-07T04:00:09.062980500Z"
    }
   },
   "outputs": [
    {
     "data": {
      "text/plain": "              rating\nproductId           \n0972683275  4.450549\n1400501466  4.070175\n1400532655  3.669492\n140053271X  3.908333\n1400599997  3.407407",
      "text/html": "<div>\n<style scoped>\n    .dataframe tbody tr th:only-of-type {\n        vertical-align: middle;\n    }\n\n    .dataframe tbody tr th {\n        vertical-align: top;\n    }\n\n    .dataframe thead th {\n        text-align: right;\n    }\n</style>\n<table border=\"1\" class=\"dataframe\">\n  <thead>\n    <tr style=\"text-align: right;\">\n      <th></th>\n      <th>rating</th>\n    </tr>\n    <tr>\n      <th>productId</th>\n      <th></th>\n    </tr>\n  </thead>\n  <tbody>\n    <tr>\n      <th>0972683275</th>\n      <td>4.450549</td>\n    </tr>\n    <tr>\n      <th>1400501466</th>\n      <td>4.070175</td>\n    </tr>\n    <tr>\n      <th>1400532655</th>\n      <td>3.669492</td>\n    </tr>\n    <tr>\n      <th>140053271X</th>\n      <td>3.908333</td>\n    </tr>\n    <tr>\n      <th>1400599997</th>\n      <td>3.407407</td>\n    </tr>\n  </tbody>\n</table>\n</div>"
     },
     "execution_count": 24,
     "metadata": {},
     "output_type": "execute_result"
    }
   ],
   "source": [
    "mean_rating_per_product.head()"
   ]
  },
  {
   "cell_type": "code",
   "execution_count": 25,
   "id": "77a11a9ac827b97d",
   "metadata": {
    "ExecuteTime": {
     "end_time": "2024-02-07T04:00:09.299436800Z",
     "start_time": "2024-02-07T04:00:09.071311200Z"
    }
   },
   "outputs": [
    {
     "data": {
      "text/plain": "<Figure size 640x480 with 1 Axes>",
      "image/png": "[encoded data removed]"
     },
     "metadata": {},
     "output_type": "display_data"
    }
   ],
   "source": [
    "# Create histogram with 100 bins\n",
    "plt.hist(mean_rating_per_product['rating'],bins=100)\n",
    "\n",
    "# Add a title to the histogram \n",
    "plt.title('Mean Rating distribution')\n",
    "\n",
    "# Display histogram\n",
    "plt.show()"
   ]
  },
  {
   "cell_type": "code",
   "execution_count": 26,
   "id": "5cf0722bf09bae5b",
   "metadata": {
    "ExecuteTime": {
     "end_time": "2024-02-07T04:00:09.301564400Z",
     "start_time": "2024-02-07T04:00:09.292110500Z"
    }
   },
   "outputs": [
    {
     "data": {
      "text/plain": "-0.9242720534863534"
     },
     "execution_count": 26,
     "metadata": {},
     "output_type": "execute_result"
    }
   ],
   "source": [
    "# Check the skewness of the mean rating data\n",
    "mean_rating_per_product['rating'].skew()"
   ]
  },
  {
   "cell_type": "markdown",
   "id": "46c29c5bce551823",
   "metadata": {},
   "source": [
    "Moderately negatively skewed "
   ]
  },
  {
   "cell_type": "code",
   "execution_count": 27,
   "id": "6bf94b098820ae87",
   "metadata": {
    "ExecuteTime": {
     "end_time": "2024-02-07T04:00:09.409932800Z",
     "start_time": "2024-02-07T04:00:09.300470100Z"
    }
   },
   "outputs": [],
   "source": [
    "# Add a rating_count column to the mean_rating_per_product dataframe\n",
    "mean_rating_per_product['rating_counts'] = data.groupby('productId')['rating'].count()"
   ]
  },
  {
   "cell_type": "code",
   "execution_count": 28,
   "id": "95b17686625d65c5",
   "metadata": {
    "ExecuteTime": {
     "end_time": "2024-02-07T04:00:09.413164200Z",
     "start_time": "2024-02-07T04:00:09.389287300Z"
    }
   },
   "outputs": [
    {
     "data": {
      "text/plain": "              rating  rating_counts\nproductId                          \n0972683275  4.450549            273\n1400501466  4.070175             57\n1400532655  3.669492            118\n140053271X  3.908333            120\n1400599997  3.407407             54",
      "text/html": "<div>\n<style scoped>\n    .dataframe tbody tr th:only-of-type {\n        vertical-align: middle;\n    }\n\n    .dataframe tbody tr th {\n        vertical-align: top;\n    }\n\n    .dataframe thead th {\n        text-align: right;\n    }\n</style>\n<table border=\"1\" class=\"dataframe\">\n  <thead>\n    <tr style=\"text-align: right;\">\n      <th></th>\n      <th>rating</th>\n      <th>rating_counts</th>\n    </tr>\n    <tr>\n      <th>productId</th>\n      <th></th>\n      <th></th>\n    </tr>\n  </thead>\n  <tbody>\n    <tr>\n      <th>0972683275</th>\n      <td>4.450549</td>\n      <td>273</td>\n    </tr>\n    <tr>\n      <th>1400501466</th>\n      <td>4.070175</td>\n      <td>57</td>\n    </tr>\n    <tr>\n      <th>1400532655</th>\n      <td>3.669492</td>\n      <td>118</td>\n    </tr>\n    <tr>\n      <th>140053271X</th>\n      <td>3.908333</td>\n      <td>120</td>\n    </tr>\n    <tr>\n      <th>1400599997</th>\n      <td>3.407407</td>\n      <td>54</td>\n    </tr>\n  </tbody>\n</table>\n</div>"
     },
     "execution_count": 28,
     "metadata": {},
     "output_type": "execute_result"
    }
   ],
   "source": [
    "mean_rating_per_product.head()"
   ]
  },
  {
   "cell_type": "code",
   "execution_count": 29,
   "id": "8b9b77d58ba90b3b",
   "metadata": {
    "ExecuteTime": {
     "end_time": "2024-02-07T04:00:09.429673800Z",
     "start_time": "2024-02-07T04:00:09.397862200Z"
    }
   },
   "outputs": [
    {
     "data": {
      "text/plain": "              rating  rating_counts\nproductId                          \nB0074BW614  4.492799           4791",
      "text/html": "<div>\n<style scoped>\n    .dataframe tbody tr th:only-of-type {\n        vertical-align: middle;\n    }\n\n    .dataframe tbody tr th {\n        vertical-align: top;\n    }\n\n    .dataframe thead th {\n        text-align: right;\n    }\n</style>\n<table border=\"1\" class=\"dataframe\">\n  <thead>\n    <tr style=\"text-align: right;\">\n      <th></th>\n      <th>rating</th>\n      <th>rating_counts</th>\n    </tr>\n    <tr>\n      <th>productId</th>\n      <th></th>\n      <th></th>\n    </tr>\n  </thead>\n  <tbody>\n    <tr>\n      <th>B0074BW614</th>\n      <td>4.492799</td>\n      <td>4791</td>\n    </tr>\n  </tbody>\n</table>\n</div>"
     },
     "execution_count": 29,
     "metadata": {},
     "output_type": "execute_result"
    }
   ],
   "source": [
    "# Find the product with the highest mean rating\n",
    "mean_rating_per_product[mean_rating_per_product['rating_counts'] == mean_rating_per_product['rating_counts'].max()]"
   ]
  },
  {
   "cell_type": "code",
   "execution_count": 30,
   "id": "168d5948f30b74e4",
   "metadata": {
    "ExecuteTime": {
     "end_time": "2024-02-07T04:00:09.454156600Z",
     "start_time": "2024-02-07T04:00:09.408892200Z"
    }
   },
   "outputs": [
    {
     "name": "stdout",
     "output_type": "stream",
     "text": [
      "Minimum rating count for a product : 50\n",
      "Total products with the minimum rating count : 155\n"
     ]
    }
   ],
   "source": [
    "# The minimum number of ratings a product can have\n",
    "min_rating_counts = mean_rating_per_product['rating_counts'].min()\n",
    "\n",
    "# The number of products with the minimum number of ratings\n",
    "total_min_rating_products = mean_rating_per_product[mean_rating_per_product['rating_counts']==min_rating_counts].shape[0]\n",
    "\n",
    "print('Minimum rating count for a product :', min_rating_counts)\n",
    "print('Total products with the minimum rating count :', total_min_rating_products)"
   ]
  },
  {
   "cell_type": "code",
   "execution_count": 31,
   "id": "f53faad26d9e9b43",
   "metadata": {
    "ExecuteTime": {
     "end_time": "2024-02-07T04:00:09.803084600Z",
     "start_time": "2024-02-07T04:00:09.415720500Z"
    }
   },
   "outputs": [
    {
     "data": {
      "text/plain": "<Figure size 640x480 with 1 Axes>",
      "image/png": "[encoded data removed]"
     },
     "metadata": {},
     "output_type": "display_data"
    }
   ],
   "source": [
    "# Create histogram with 100 bins\n",
    "plt.hist(mean_rating_per_product['rating_counts'],bins=100)\n",
    "\n",
    "# Add a title to the histogram \n",
    "plt.title('rating count distribution')\n",
    "\n",
    "# Display histogram\n",
    "plt.show()"
   ]
  },
  {
   "cell_type": "code",
   "execution_count": 32,
   "id": "8a7234d8beaa268",
   "metadata": {
    "ExecuteTime": {
     "end_time": "2024-02-07T04:00:10.879858600Z",
     "start_time": "2024-02-07T04:00:09.706765100Z"
    }
   },
   "outputs": [
    {
     "data": {
      "text/plain": "<Figure size 600x600 with 3 Axes>",
      "image/png": "[encoded data removed]"
     },
     "metadata": {},
     "output_type": "display_data"
    }
   ],
   "source": [
    "# Create a joint plot with x and y axes representing mean rating and rating count\n",
    "sns.jointplot(x='rating',y='rating_counts',data=mean_rating_per_product)\n",
    "\n",
    "# Add a title to the joint plot\n",
    "plt.title('Joint Plot of rating and rating counts')\n",
    "\n",
    "# Prevent subplots from overlapping\n",
    "plt.tight_layout()\n",
    "\n",
    "# Display the joint plot\n",
    "plt.show()"
   ]
  },
  {
   "cell_type": "code",
   "execution_count": 33,
   "id": "2ac3d686db17f5b8",
   "metadata": {
    "ExecuteTime": {
     "end_time": "2024-02-07T04:00:11.026481500Z",
     "start_time": "2024-02-07T04:00:10.881466100Z"
    }
   },
   "outputs": [
    {
     "data": {
      "text/plain": "<Figure size 640x480 with 1 Axes>",
      "image/png": "[encoded data removed]"
     },
     "metadata": {},
     "output_type": "display_data"
    }
   ],
   "source": [
    "# Create a scatter plot with x and y axes representing mean rating and rating count\n",
    "plt.scatter(x=mean_rating_per_product['rating'], y=mean_rating_per_product['rating_counts'])\n",
    "\n",
    "# Display the scatter plot\n",
    "plt.show()"
   ]
  },
  {
   "cell_type": "code",
   "execution_count": 34,
   "id": "30bfddd5f7c202e1",
   "metadata": {
    "ExecuteTime": {
     "end_time": "2024-02-07T04:00:11.043174300Z",
     "start_time": "2024-02-07T04:00:11.027478400Z"
    }
   },
   "outputs": [
    {
     "name": "stdout",
     "output_type": "stream",
     "text": [
      "Correlation between Rating and Rating Counts is : 0.10386695460769872\n"
     ]
    }
   ],
   "source": [
    "# Calculate the Pearson correlation coefficient between mean rating and ratings count\n",
    "correlation = mean_rating_per_product['rating'].corr(mean_rating_per_product['rating_counts'])\n",
    "print(f'Correlation between Rating and Rating Counts is : {correlation}')"
   ]
  },
  {
   "cell_type": "markdown",
   "id": "6cf21197102bc460",
   "metadata": {},
   "source": [
    "Not much of a correlation"
   ]
  },
  {
   "cell_type": "markdown",
   "id": "a57f2c5917942ec9",
   "metadata": {},
   "source": [
    "## Collaborative Filtering"
   ]
  },
  {
   "cell_type": "code",
   "execution_count": 35,
   "id": "c4b6468b4e695464",
   "metadata": {
    "ExecuteTime": {
     "end_time": "2024-02-07T04:00:11.301465300Z",
     "start_time": "2024-02-07T04:00:11.035807Z"
    }
   },
   "outputs": [],
   "source": [
    "# Import libraries for collaborative filtering approach\n",
    "from surprise import KNNWithMeans\n",
    "from surprise import Dataset\n",
    "from surprise import accuracy\n",
    "from surprise import Reader\n",
    "from surprise.model_selection import train_test_split"
   ]
  },
  {
   "cell_type": "code",
   "execution_count": 36,
   "id": "23717b0f",
   "metadata": {
    "ExecuteTime": {
     "end_time": "2024-02-07T04:00:11.969075800Z",
     "start_time": "2024-02-07T04:00:11.302462200Z"
    }
   },
   "outputs": [],
   "source": [
    "# Specify the rating scale of data \n",
    "reader = Reader(rating_scale=(1, 5))\n",
    "\n",
    "# load the data from \"data\" into a format suitable for collaborative filtering\n",
    "surprise_data = Dataset.load_from_df(data, reader)"
   ]
  },
  {
   "cell_type": "code",
   "execution_count": 37,
   "id": "29181139",
   "metadata": {
    "ExecuteTime": {
     "end_time": "2024-02-07T04:00:13.902344300Z",
     "start_time": "2024-02-07T04:00:11.970072600Z"
    }
   },
   "outputs": [],
   "source": [
    "#Split the surprise dataset into 80:20 ratio using train_test_split\n",
    "trainSet, testSet = train_test_split(surprise_data, test_size=0.3,random_state=42)"
   ]
  },
  {
   "cell_type": "markdown",
   "id": "a64ac681",
   "metadata": {},
   "source": [
    "#### Creating a collaborative filtering algorithm (KNNWithMeans) with specified parameters\n",
    "k=5: Number of neighbors to consider\n",
    "\n",
    "'name': Similarity measure (how similar two things are) to use 'pearson_baseline'\n",
    "\n",
    "'user_based': Whether to use user-based or item-based collaborative filtering (set to False for item-based)"
   ]
  },
  {
   "cell_type": "code",
   "execution_count": 38,
   "id": "f03f8119",
   "metadata": {
    "ExecuteTime": {
     "end_time": "2024-02-07T04:00:17.619094300Z",
     "start_time": "2024-02-07T04:00:13.903341100Z"
    }
   },
   "outputs": [
    {
     "name": "stdout",
     "output_type": "stream",
     "text": [
      "Estimating biases using als...\n",
      "Computing the pearson_baseline similarity matrix...\n",
      "Done computing similarity matrix.\n"
     ]
    },
    {
     "data": {
      "text/plain": "<surprise.prediction_algorithms.knns.KNNWithMeans at 0x11cf4448090>"
     },
     "execution_count": 38,
     "metadata": {},
     "output_type": "execute_result"
    }
   ],
   "source": [
    "algo = KNNWithMeans(k=5, sim_options={'name': 'pearson_baseline', 'user_based': False})\n",
    "\n",
    "# Train the collaborative filtering algorithm on the training dataset\n",
    "algo.fit(trainSet)"
   ]
  },
  {
   "cell_type": "code",
   "execution_count": 39,
   "id": "baadbf23",
   "metadata": {
    "ExecuteTime": {
     "end_time": "2024-02-07T04:00:19.324028400Z",
     "start_time": "2024-02-07T04:00:17.633386900Z"
    }
   },
   "outputs": [],
   "source": [
    "# Make predictions on the testing dataset and store the prediction objects in the 'test_pred' list\n",
    "test_pred = algo.test(testSet)"
   ]
  },
  {
   "cell_type": "markdown",
   "source": [
    "Calculate and print the Root Mean Squared Error (RMSE) for the collaborative filtering model on the test set\n",
    "###### RMSE is a metric for evaluating the accuracy of predictions"
   ],
   "metadata": {
    "collapsed": false
   },
   "id": "6dc04c6f8eba69e7"
  },
  {
   "cell_type": "code",
   "execution_count": 40,
   "id": "9c46289f",
   "metadata": {
    "ExecuteTime": {
     "end_time": "2024-02-07T04:00:19.470582200Z",
     "start_time": "2024-02-07T04:00:19.325046800Z"
    }
   },
   "outputs": [
    {
     "name": "stdout",
     "output_type": "stream",
     "text": [
      "Item-based Model : Test Set\n",
      "RMSE: 1.3171\n"
     ]
    },
    {
     "data": {
      "text/plain": "1.3170645007633348"
     },
     "execution_count": 40,
     "metadata": {},
     "output_type": "execute_result"
    }
   ],
   "source": [
    "print(\"Item-based Model : Test Set\")\n",
    "# 'verbose=True' is set to display additional information (Print \"RMSE: x\")\n",
    "accuracy.rmse(test_pred ,verbose=True)"
   ]
  },
  {
   "cell_type": "markdown",
   "source": [
    "#### Model-based Collaborative Filtering "
   ],
   "metadata": {
    "collapsed": false
   },
   "id": "45180c53fa76a184"
  },
  {
   "cell_type": "code",
   "outputs": [
    {
     "data": {
      "text/plain": "userId      A00818852NAIGLP5KZLND  A00850438H0YYT7OD6KL  A0110255Y4ER0RTKEKXS  \\\nproductId                                                                       \n0972683275                    0.0                   0.0                   0.0   \n1400501466                    0.0                   0.0                   0.0   \n1400532655                    0.0                   0.0                   0.0   \n140053271X                    0.0                   0.0                   0.0   \nB00000J061                    0.0                   0.0                   0.0   \n\nuserId      A01207993SNWKZOPI8D7P  A01428281H1HG7C574WL1  \\\nproductId                                                  \n0972683275                    0.0                    0.0   \n1400501466                    0.0                    0.0   \n1400532655                    0.0                    0.0   \n140053271X                    0.0                    0.0   \nB00000J061                    0.0                    0.0   \n\nuserId      A0210339WPEG1DSC5KXH  A0220159ZRNBTRKLG08H  A0265288N4QKTDEE9OUD  \\\nproductId                                                                      \n0972683275                   0.0                   0.0                   0.0   \n1400501466                   0.0                   0.0                   0.0   \n1400532655                   0.0                   0.0                   0.0   \n140053271X                   0.0                   0.0                   0.0   \nB00000J061                   0.0                   0.0                   0.0   \n\nuserId      A02751083RQ4FV21S0VFU  A02814502GJCMYT5QTC9T  ...  AZYJE40XW6MFG  \\\nproductId                                                 ...                  \n0972683275                    0.0                    0.0  ...            0.0   \n1400501466                    0.0                    0.0  ...            0.0   \n1400532655                    0.0                    0.0  ...            0.0   \n140053271X                    0.0                    0.0  ...            0.0   \nB00000J061                    0.0                    0.0  ...            0.0   \n\nuserId      AZYQ60ZR354HC  AZYSLPX9HUWPW  AZYVXNAUD5JS1  AZZB6XD153BP  \\\nproductId                                                               \n0972683275            0.0            0.0            0.0           0.0   \n1400501466            0.0            0.0            0.0           0.0   \n1400532655            0.0            0.0            0.0           0.0   \n140053271X            0.0            0.0            0.0           0.0   \nB00000J061            0.0            0.0            0.0           0.0   \n\nuserId      AZZJZQGBP0GNE  AZZNHVT9AH73R  AZZSJ1D2KEBT7  AZZYBP8LG3NQW  \\\nproductId                                                                \n0972683275            0.0            0.0            0.0            0.0   \n1400501466            0.0            0.0            0.0            0.0   \n1400532655            0.0            0.0            0.0            0.0   \n140053271X            0.0            0.0            0.0            0.0   \nB00000J061            0.0            0.0            0.0            0.0   \n\nuserId      AZZZRS1YZ8HVP  \nproductId                  \n0972683275            0.0  \n1400501466            0.0  \n1400532655            0.0  \n140053271X            0.0  \nB00000J061            0.0  \n\n[5 rows x 19871 columns]",
      "text/html": "<div>\n<style scoped>\n    .dataframe tbody tr th:only-of-type {\n        vertical-align: middle;\n    }\n\n    .dataframe tbody tr th {\n        vertical-align: top;\n    }\n\n    .dataframe thead th {\n        text-align: right;\n    }\n</style>\n<table border=\"1\" class=\"dataframe\">\n  <thead>\n    <tr style=\"text-align: right;\">\n      <th>userId</th>\n      <th>A00818852NAIGLP5KZLND</th>\n      <th>A00850438H0YYT7OD6KL</th>\n      <th>A0110255Y4ER0RTKEKXS</th>\n      <th>A01207993SNWKZOPI8D7P</th>\n      <th>A01428281H1HG7C574WL1</th>\n      <th>A0210339WPEG1DSC5KXH</th>\n      <th>A0220159ZRNBTRKLG08H</th>\n      <th>A0265288N4QKTDEE9OUD</th>\n      <th>A02751083RQ4FV21S0VFU</th>\n      <th>A02814502GJCMYT5QTC9T</th>\n      <th>...</th>\n      <th>AZYJE40XW6MFG</th>\n      <th>AZYQ60ZR354HC</th>\n      <th>AZYSLPX9HUWPW</th>\n      <th>AZYVXNAUD5JS1</th>\n      <th>AZZB6XD153BP</th>\n      <th>AZZJZQGBP0GNE</th>\n      <th>AZZNHVT9AH73R</th>\n      <th>AZZSJ1D2KEBT7</th>\n      <th>AZZYBP8LG3NQW</th>\n      <th>AZZZRS1YZ8HVP</th>\n    </tr>\n    <tr>\n      <th>productId</th>\n      <th></th>\n      <th></th>\n      <th></th>\n      <th></th>\n      <th></th>\n      <th></th>\n      <th></th>\n      <th></th>\n      <th></th>\n      <th></th>\n      <th></th>\n      <th></th>\n      <th></th>\n      <th></th>\n      <th></th>\n      <th></th>\n      <th></th>\n      <th></th>\n      <th></th>\n      <th></th>\n      <th></th>\n    </tr>\n  </thead>\n  <tbody>\n    <tr>\n      <th>0972683275</th>\n      <td>0.0</td>\n      <td>0.0</td>\n      <td>0.0</td>\n      <td>0.0</td>\n      <td>0.0</td>\n      <td>0.0</td>\n      <td>0.0</td>\n      <td>0.0</td>\n      <td>0.0</td>\n      <td>0.0</td>\n      <td>...</td>\n      <td>0.0</td>\n      <td>0.0</td>\n      <td>0.0</td>\n      <td>0.0</td>\n      <td>0.0</td>\n      <td>0.0</td>\n      <td>0.0</td>\n      <td>0.0</td>\n      <td>0.0</td>\n      <td>0.0</td>\n    </tr>\n    <tr>\n      <th>1400501466</th>\n      <td>0.0</td>\n      <td>0.0</td>\n      <td>0.0</td>\n      <td>0.0</td>\n      <td>0.0</td>\n      <td>0.0</td>\n      <td>0.0</td>\n      <td>0.0</td>\n      <td>0.0</td>\n      <td>0.0</td>\n      <td>...</td>\n      <td>0.0</td>\n      <td>0.0</td>\n      <td>0.0</td>\n      <td>0.0</td>\n      <td>0.0</td>\n      <td>0.0</td>\n      <td>0.0</td>\n      <td>0.0</td>\n      <td>0.0</td>\n      <td>0.0</td>\n    </tr>\n    <tr>\n      <th>1400532655</th>\n      <td>0.0</td>\n      <td>0.0</td>\n      <td>0.0</td>\n      <td>0.0</td>\n      <td>0.0</td>\n      <td>0.0</td>\n      <td>0.0</td>\n      <td>0.0</td>\n      <td>0.0</td>\n      <td>0.0</td>\n      <td>...</td>\n      <td>0.0</td>\n      <td>0.0</td>\n      <td>0.0</td>\n      <td>0.0</td>\n      <td>0.0</td>\n      <td>0.0</td>\n      <td>0.0</td>\n      <td>0.0</td>\n      <td>0.0</td>\n      <td>0.0</td>\n    </tr>\n    <tr>\n      <th>140053271X</th>\n      <td>0.0</td>\n      <td>0.0</td>\n      <td>0.0</td>\n      <td>0.0</td>\n      <td>0.0</td>\n      <td>0.0</td>\n      <td>0.0</td>\n      <td>0.0</td>\n      <td>0.0</td>\n      <td>0.0</td>\n      <td>...</td>\n      <td>0.0</td>\n      <td>0.0</td>\n      <td>0.0</td>\n      <td>0.0</td>\n      <td>0.0</td>\n      <td>0.0</td>\n      <td>0.0</td>\n      <td>0.0</td>\n      <td>0.0</td>\n      <td>0.0</td>\n    </tr>\n    <tr>\n      <th>B00000J061</th>\n      <td>0.0</td>\n      <td>0.0</td>\n      <td>0.0</td>\n      <td>0.0</td>\n      <td>0.0</td>\n      <td>0.0</td>\n      <td>0.0</td>\n      <td>0.0</td>\n      <td>0.0</td>\n      <td>0.0</td>\n      <td>...</td>\n      <td>0.0</td>\n      <td>0.0</td>\n      <td>0.0</td>\n      <td>0.0</td>\n      <td>0.0</td>\n      <td>0.0</td>\n      <td>0.0</td>\n      <td>0.0</td>\n      <td>0.0</td>\n      <td>0.0</td>\n    </tr>\n  </tbody>\n</table>\n<p>5 rows × 19871 columns</p>\n</div>"
     },
     "execution_count": 42,
     "metadata": {},
     "output_type": "execute_result"
    }
   ],
   "source": [
    "# Create smaller dataframe with 20000 random samples from 'data'\n",
    "data2 = data.sample(20000)\n",
    "\n",
    "# Create pivot table from the data2 DataFrame\n",
    "ratings_matrix = data2.pivot_table(values='rating', index='productId', columns='userId', fill_value=0)\n",
    "ratings_matrix.head()"
   ],
   "metadata": {
    "collapsed": false,
    "ExecuteTime": {
     "end_time": "2024-02-07T04:00:22.790922100Z",
     "start_time": "2024-02-07T04:00:19.475844900Z"
    }
   },
   "id": "c1ba33bff30407b3",
   "execution_count": 42
  },
  {
   "cell_type": "code",
   "outputs": [
    {
     "data": {
      "text/plain": "(5471, 10)"
     },
     "execution_count": 43,
     "metadata": {},
     "output_type": "execute_result"
    }
   ],
   "source": [
    "# Decompose ratings matrix using Truncated Singular Value Decomposition (SVD)\n",
    "from sklearn.decomposition import TruncatedSVD\n",
    "SVD = TruncatedSVD(n_components=10)\n",
    "decomposed_matrix = SVD.fit_transform(ratings_matrix)\n",
    "decomposed_matrix.shape"
   ],
   "metadata": {
    "collapsed": false,
    "ExecuteTime": {
     "end_time": "2024-02-07T04:00:26.467951500Z",
     "start_time": "2024-02-07T04:00:22.791994900Z"
    }
   },
   "id": "b1787572226fcf8c",
   "execution_count": 43
  },
  {
   "cell_type": "code",
   "outputs": [
    {
     "data": {
      "text/plain": "(5471, 5471)"
     },
     "execution_count": 44,
     "metadata": {},
     "output_type": "execute_result"
    }
   ],
   "source": [
    "# Calculate the correlation matrix\n",
    "correlation_matrix = np.corrcoef(decomposed_matrix)\n",
    "correlation_matrix.shape"
   ],
   "metadata": {
    "collapsed": false,
    "ExecuteTime": {
     "end_time": "2024-02-07T04:00:26.731770300Z",
     "start_time": "2024-02-07T04:00:26.456102600Z"
    }
   },
   "id": "392709abc351447",
   "execution_count": 44
  },
  {
   "cell_type": "code",
   "outputs": [
    {
     "name": "stdout",
     "output_type": "stream",
     "text": [
      "10\n"
     ]
    }
   ],
   "source": [
    "# product_id_string = \"B00001P4ZH\"\n",
    "# \n",
    "# # Make a list of index values\n",
    "# product_names = list(ratings_matrix.index)\n",
    "# \n",
    "# # Find the index of a particular product ID from that list\n",
    "# product_id_index = product_names.index(product_id_string)\n",
    "# print(product_id_index)"
   ],
   "metadata": {
    "collapsed": false,
    "ExecuteTime": {
     "end_time": "2024-02-07T04:00:26.739732100Z",
     "start_time": "2024-02-07T04:00:26.733300200Z"
    }
   },
   "id": "5c2cc922d327b8f9",
   "execution_count": 45
  },
  {
   "cell_type": "code",
   "outputs": [
    {
     "data": {
      "text/plain": "(5471,)"
     },
     "execution_count": 46,
     "metadata": {},
     "output_type": "execute_result"
    }
   ],
   "source": [
    "# Extract the row corresponding to a specific product ID from the correlation matrix\n",
    "correlation_product_ID = correlation_matrix[product_id_index]\n",
    "correlation_product_ID.shape"
   ],
   "metadata": {
    "collapsed": false,
    "ExecuteTime": {
     "end_time": "2024-02-07T04:00:26.759209400Z",
     "start_time": "2024-02-07T04:00:26.742074300Z"
    }
   },
   "id": "c93294f19dcf5c36",
   "execution_count": 46
  },
  {
   "cell_type": "code",
   "outputs": [
    {
     "data": {
      "text/plain": "(130, 5471)"
     },
     "execution_count": 72,
     "metadata": {},
     "output_type": "execute_result"
    }
   ],
   "source": [
    "# Filter the rows of the correlation matrix with products with correlation value of more than 0.85\n",
    "correlation_matrix[correlation_product_ID>0.85].shape"
   ],
   "metadata": {
    "collapsed": false,
    "ExecuteTime": {
     "end_time": "2024-02-07T04:50:10.977806400Z",
     "start_time": "2024-02-07T04:50:09.995383Z"
    }
   },
   "id": "aa83b8b3c6051955",
   "execution_count": 72
  },
  {
   "cell_type": "code",
   "outputs": [
    {
     "name": "stdout",
     "output_type": "stream",
     "text": [
      "Correlation Dictionary:\n",
      "Product ID: B00001P4ZH, Correlation Value: 1.0\n",
      "Product ID: B009EVLN7K, Correlation Value: 0.9818457500299684\n",
      "Product ID: B0034JWXBI, Correlation Value: 0.9787824059176413\n",
      "Product ID: B000DLB91A, Correlation Value: 0.9773978136064815\n",
      "Product ID: B003EW81Q6, Correlation Value: 0.9731613752587275\n",
      "Product ID: B006ZW4H4C, Correlation Value: 0.9667375859484938\n",
      "Product ID: B00009UT9B, Correlation Value: 0.9534822182550861\n",
      "Product ID: B002AH8T3Q, Correlation Value: 0.9492542465427146\n",
      "Product ID: B005E7KMH0, Correlation Value: 0.9469148172832134\n",
      "Product ID: B00021XIJW, Correlation Value: 0.9442977137392898\n"
     ]
    }
   ],
   "source": [
    "# Get the indices of the top 20 highest correlation values\n",
    "top_indices = np.argsort(correlation_product_ID)[-20:][::-1]\n",
    "\n",
    "# Create a list of 20 product IDs with the highest correlation values\n",
    "top_product_ids = [product_names[i] for i in top_indices]\n",
    "\n",
    "# Create a dictionary with product IDs as keys and their correlation values as values\n",
    "correlation_dict = {product_names[i]: correlation_product_ID[i] for i in top_indices}\n",
    "\n",
    "# Print the results\n",
    "print(\"Correlation Dictionary:\")\n",
    "for product_id, correlation_value in correlation_dict.items():\n",
    "    print(f\"Product ID: {product_id}, Correlation Value: {correlation_value}\")"
   ],
   "metadata": {
    "collapsed": false,
    "ExecuteTime": {
     "end_time": "2024-02-07T04:51:07.161551600Z",
     "start_time": "2024-02-07T04:51:07.157622200Z"
    }
   },
   "id": "367bf1a847c25a20",
   "execution_count": 74
  },
  {
   "cell_type": "code",
   "outputs": [],
   "source": [],
   "metadata": {
    "collapsed": false
   },
   "id": "4841d4f0e3071ae7"
  },
  {
   "cell_type": "code",
   "outputs": [
    {
     "name": "stdout",
     "output_type": "stream",
     "text": [
      "Top 20 Recommended Products for 'B00001P4ZH':\n",
      "Product ID: B00001P4ZH, Correlation Value: 1.0\n",
      "Product ID: B009EVLN7K, Correlation Value: 0.9818457500299684\n",
      "Product ID: B0034JWXBI, Correlation Value: 0.9787824059176413\n",
      "Product ID: B000DLB91A, Correlation Value: 0.9773978136064815\n",
      "Product ID: B003EW81Q6, Correlation Value: 0.9731613752587275\n",
      "Product ID: B006ZW4H4C, Correlation Value: 0.9667375859484938\n",
      "Product ID: B00009UT9B, Correlation Value: 0.9534822182550861\n",
      "Product ID: B002AH8T3Q, Correlation Value: 0.9492542465427146\n",
      "Product ID: B005E7KMH0, Correlation Value: 0.9469148172832134\n",
      "Product ID: B00021XIJW, Correlation Value: 0.9442977137392898\n",
      "Product ID: B00BF9MUAS, Correlation Value: 0.9384234325923663\n",
      "Product ID: B008CS5T76, Correlation Value: 0.9371301018133616\n",
      "Product ID: B00DUKJ5CQ, Correlation Value: 0.9368344384691111\n",
      "Product ID: B000JLO31M, Correlation Value: 0.9354471007361942\n",
      "Product ID: B005KDY8NM, Correlation Value: 0.9350456796694389\n",
      "Product ID: B00007056H, Correlation Value: 0.9346453181718097\n",
      "Product ID: B00005LEN4, Correlation Value: 0.9318562047094305\n",
      "Product ID: B001O4EPHA, Correlation Value: 0.9289860041018075\n",
      "Product ID: B007JPOX8O, Correlation Value: 0.9288068576722228\n",
      "Product ID: B007PV0LAQ, Correlation Value: 0.9286072150916819\n"
     ]
    }
   ],
   "source": [
    "import numpy as np\n",
    "\n",
    "def recommend_products(product_id, top_n=20, correlation_threshold=0.85):\n",
    "    # Find the index of the specified product ID\n",
    "    try:\n",
    "        # Make a list of index values\n",
    "        product_names = list(ratings_matrix.index)\n",
    "        product_id_index = product_names.index(product_id)\n",
    "    except ValueError:\n",
    "        print(f\"Product ID '{product_id}' not found in the dataset.\")\n",
    "        return None\n",
    "\n",
    "    # Extract the row corresponding to the specified product ID from the correlation matrix\n",
    "    correlation_product_ID = correlation_matrix[product_id_index]\n",
    "\n",
    "    # Filter the rows of the correlation matrix with products with a correlation value above the threshold\n",
    "    similar_products_indices = np.where(correlation_product_ID > correlation_threshold)[0]\n",
    "\n",
    "    # Get the indices of the top N highest correlation values\n",
    "    top_indices = np.argsort(correlation_product_ID[similar_products_indices])[-top_n:][::-1]\n",
    "\n",
    "    # Create a list of top N product IDs with the highest correlation values\n",
    "    top_product_ids = [product_names[similar_products_indices[i]] for i in top_indices]\n",
    "\n",
    "    # Create a dictionary with product IDs as keys and their correlation values as values\n",
    "    correlation_dict = {product_names[similar_products_indices[i]]: correlation_product_ID[similar_products_indices[i]] for i in top_indices}\n",
    "\n",
    "    # Print the recommended products\n",
    "    print(f\"Top {top_n} Recommended Products for '{product_id}':\")\n",
    "    for recommended_product_id, correlation_value in correlation_dict.items():\n",
    "        print(f\"Product ID: {recommended_product_id}, Correlation Value: {correlation_value}\")\n",
    "\n",
    "    # return top_product_ids\n",
    "\n",
    "# Example usage:\n",
    "# Assuming product_names, correlation_matrix, and product_id_string are available from previous code\n",
    "recommend_products(\"B00001P4ZH\")\n"
   ],
   "metadata": {
    "collapsed": false,
    "ExecuteTime": {
     "end_time": "2024-02-07T05:06:05.391924700Z",
     "start_time": "2024-02-07T05:06:05.376611500Z"
    }
   },
   "id": "f0cf50d8535d14a6",
   "execution_count": 78
  }
 ],
 "metadata": {
  "kernelspec": {
   "display_name": "Python 3 (ipykernel)",
   "language": "python",
   "name": "python3"
  },
  "language_info": {
   "codemirror_mode": {
    "name": "ipython",
    "version": 3
   },
   "file_extension": ".py",
   "mimetype": "text/x-python",
   "name": "python",
   "nbconvert_exporter": "python",
   "pygments_lexer": "ipython3",
   "version": "3.11.5"
  }
 },
 "nbformat": 4,
 "nbformat_minor": 5
}
