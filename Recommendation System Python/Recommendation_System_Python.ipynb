{
 "cells": [
  {
   "cell_type": "code",
   "execution_count": 1,
   "id": "3a85d375",
   "metadata": {
    "ExecuteTime": {
     "end_time": "2024-02-07T14:05:44.350195100Z",
     "start_time": "2024-02-07T14:05:44.338029900Z"
    }
   },
   "outputs": [],
   "source": [
    "import pandas as pd\n",
    "import numpy as np\n",
    "from matplotlib import pyplot as plt\n",
    "import seaborn as sns\n",
    "import warnings\n",
    "warnings.filterwarnings('ignore')\n",
    "sns.set_theme(color_codes=True)"
   ]
  },
  {
   "cell_type": "code",
   "execution_count": 2,
   "id": "a2f7dd1f2cbb0894",
   "metadata": {
    "ExecuteTime": {
     "end_time": "2024-02-07T14:05:48.145120400Z",
     "start_time": "2024-02-07T14:05:44.347080600Z"
    }
   },
   "outputs": [],
   "source": [
    "# Load the dataset and set the column names\n",
    "df = pd.read_csv('Dataset/ratings_Electronics.csv', names=['userId', 'productId','rating','timestamp'])"
   ]
  },
  {
   "cell_type": "code",
   "execution_count": 3,
   "id": "e17ce4af296db191",
   "metadata": {
    "ExecuteTime": {
     "end_time": "2024-02-07T14:05:48.172364500Z",
     "start_time": "2024-02-07T14:05:48.146874100Z"
    }
   },
   "outputs": [
    {
     "data": {
      "text/plain": "(7824482, 4)"
     },
     "execution_count": 3,
     "metadata": {},
     "output_type": "execute_result"
    }
   ],
   "source": [
    "# Display shape\n",
    "df.shape"
   ]
  },
  {
   "cell_type": "code",
   "execution_count": 4,
   "id": "113fb050019e3024",
   "metadata": {
    "ExecuteTime": {
     "end_time": "2024-02-07T14:05:48.175465300Z",
     "start_time": "2024-02-07T14:05:48.154919900Z"
    }
   },
   "outputs": [
    {
     "data": {
      "text/plain": "Index(['userId', 'productId', 'rating', 'timestamp'], dtype='object')"
     },
     "execution_count": 4,
     "metadata": {},
     "output_type": "execute_result"
    }
   ],
   "source": [
    "# Display columns\n",
    "df.columns"
   ]
  },
  {
   "cell_type": "markdown",
   "id": "3044b6abb09c305b",
   "metadata": {},
   "source": [
    "The dataset contains over 7.8 million entries. \n",
    "Taking 2000000 random entries from the dataset as a sample because the dataset is too large."
   ]
  },
  {
   "cell_type": "code",
   "execution_count": 5,
   "id": "19c31f5006aa9600",
   "metadata": {
    "ExecuteTime": {
     "end_time": "2024-02-07T14:05:48.665381100Z",
     "start_time": "2024-02-07T14:05:48.163481Z"
    }
   },
   "outputs": [],
   "source": [
    "# Create dataframe from taking a sample from 'df' with 2000000 records\n",
    "product_data = df.sample(n=2000000, ignore_index=True)"
   ]
  },
  {
   "cell_type": "code",
   "execution_count": 6,
   "id": "a65a804f8c334156",
   "metadata": {
    "ExecuteTime": {
     "end_time": "2024-02-07T14:05:48.800926900Z",
     "start_time": "2024-02-07T14:05:48.665381100Z"
    }
   },
   "outputs": [],
   "source": [
    "# Delete the previous dataframe to release the memory\n",
    "del df"
   ]
  },
  {
   "cell_type": "code",
   "execution_count": 7,
   "id": "24977e12008241ed",
   "metadata": {
    "ExecuteTime": {
     "end_time": "2024-02-07T14:05:48.826658200Z",
     "start_time": "2024-02-07T14:05:48.802015900Z"
    }
   },
   "outputs": [
    {
     "data": {
      "text/plain": "           userId   productId  rating   timestamp\n0  A33M5G6V9LNGJ3  B001NJ0D0Y     5.0  1335312000\n1   ABZD1TT699GLH  B00DZTVST0     5.0  1394150400\n2  A18HE80910BTZI  B00AR95EVE     5.0  1366675200\n3   AE2EDF2SUZXOU  B001JHSD3Y     2.0  1249430400\n4  A3BXHHJZGNAXEF  B000TKHGL2     4.0  1262822400",
      "text/html": "<div>\n<style scoped>\n    .dataframe tbody tr th:only-of-type {\n        vertical-align: middle;\n    }\n\n    .dataframe tbody tr th {\n        vertical-align: top;\n    }\n\n    .dataframe thead th {\n        text-align: right;\n    }\n</style>\n<table border=\"1\" class=\"dataframe\">\n  <thead>\n    <tr style=\"text-align: right;\">\n      <th></th>\n      <th>userId</th>\n      <th>productId</th>\n      <th>rating</th>\n      <th>timestamp</th>\n    </tr>\n  </thead>\n  <tbody>\n    <tr>\n      <th>0</th>\n      <td>A33M5G6V9LNGJ3</td>\n      <td>B001NJ0D0Y</td>\n      <td>5.0</td>\n      <td>1335312000</td>\n    </tr>\n    <tr>\n      <th>1</th>\n      <td>ABZD1TT699GLH</td>\n      <td>B00DZTVST0</td>\n      <td>5.0</td>\n      <td>1394150400</td>\n    </tr>\n    <tr>\n      <th>2</th>\n      <td>A18HE80910BTZI</td>\n      <td>B00AR95EVE</td>\n      <td>5.0</td>\n      <td>1366675200</td>\n    </tr>\n    <tr>\n      <th>3</th>\n      <td>AE2EDF2SUZXOU</td>\n      <td>B001JHSD3Y</td>\n      <td>2.0</td>\n      <td>1249430400</td>\n    </tr>\n    <tr>\n      <th>4</th>\n      <td>A3BXHHJZGNAXEF</td>\n      <td>B000TKHGL2</td>\n      <td>4.0</td>\n      <td>1262822400</td>\n    </tr>\n  </tbody>\n</table>\n</div>"
     },
     "execution_count": 7,
     "metadata": {},
     "output_type": "execute_result"
    }
   ],
   "source": [
    "# Display the top 5 records of the dataframe\n",
    "product_data.head()"
   ]
  },
  {
   "cell_type": "code",
   "execution_count": 8,
   "id": "9e00557dc2e87105",
   "metadata": {
    "ExecuteTime": {
     "end_time": "2024-02-07T14:05:48.846770600Z",
     "start_time": "2024-02-07T14:05:48.814933800Z"
    }
   },
   "outputs": [
    {
     "name": "stdout",
     "output_type": "stream",
     "text": [
      "<class 'pandas.core.frame.DataFrame'>\n",
      "RangeIndex: 2000000 entries, 0 to 1999999\n",
      "Data columns (total 4 columns):\n",
      " #   Column     Dtype  \n",
      "---  ------     -----  \n",
      " 0   userId     object \n",
      " 1   productId  object \n",
      " 2   rating     float64\n",
      " 3   timestamp  int64  \n",
      "dtypes: float64(1), int64(1), object(2)\n",
      "memory usage: 61.0+ MB\n"
     ]
    }
   ],
   "source": [
    "# Display information of the dataframe\n",
    "product_data.info()"
   ]
  },
  {
   "cell_type": "code",
   "execution_count": 9,
   "id": "e39bc49f47ba5c0c",
   "metadata": {
    "ExecuteTime": {
     "end_time": "2024-02-07T14:05:49.039361600Z",
     "start_time": "2024-02-07T14:05:48.829269200Z"
    }
   },
   "outputs": [],
   "source": [
    "# Delete the unnecessary timestamp column\n",
    "product_data.drop('timestamp', axis=1, inplace=True)"
   ]
  },
  {
   "cell_type": "code",
   "execution_count": 10,
   "id": "7175640e02bbc850",
   "metadata": {
    "ExecuteTime": {
     "end_time": "2024-02-07T14:05:49.099605100Z",
     "start_time": "2024-02-07T14:05:48.974174200Z"
    }
   },
   "outputs": [
    {
     "data": {
      "text/plain": "             rating\ncount  2.000000e+06\nmean   4.013307e+00\nstd    1.380227e+00\nmin    1.000000e+00\n25%    3.000000e+00\n50%    5.000000e+00\n75%    5.000000e+00\nmax    5.000000e+00",
      "text/html": "<div>\n<style scoped>\n    .dataframe tbody tr th:only-of-type {\n        vertical-align: middle;\n    }\n\n    .dataframe tbody tr th {\n        vertical-align: top;\n    }\n\n    .dataframe thead th {\n        text-align: right;\n    }\n</style>\n<table border=\"1\" class=\"dataframe\">\n  <thead>\n    <tr style=\"text-align: right;\">\n      <th></th>\n      <th>rating</th>\n    </tr>\n  </thead>\n  <tbody>\n    <tr>\n      <th>count</th>\n      <td>2.000000e+06</td>\n    </tr>\n    <tr>\n      <th>mean</th>\n      <td>4.013307e+00</td>\n    </tr>\n    <tr>\n      <th>std</th>\n      <td>1.380227e+00</td>\n    </tr>\n    <tr>\n      <th>min</th>\n      <td>1.000000e+00</td>\n    </tr>\n    <tr>\n      <th>25%</th>\n      <td>3.000000e+00</td>\n    </tr>\n    <tr>\n      <th>50%</th>\n      <td>5.000000e+00</td>\n    </tr>\n    <tr>\n      <th>75%</th>\n      <td>5.000000e+00</td>\n    </tr>\n    <tr>\n      <th>max</th>\n      <td>5.000000e+00</td>\n    </tr>\n  </tbody>\n</table>\n</div>"
     },
     "execution_count": 10,
     "metadata": {},
     "output_type": "execute_result"
    }
   ],
   "source": [
    "# Display data description\n",
    "product_data.describe()"
   ]
  },
  {
   "cell_type": "code",
   "execution_count": 11,
   "id": "93e0fe13b52c2e3e",
   "metadata": {
    "ExecuteTime": {
     "end_time": "2024-02-07T14:05:49.545571200Z",
     "start_time": "2024-02-07T14:05:49.067020300Z"
    }
   },
   "outputs": [
    {
     "data": {
      "text/plain": "userId       0\nproductId    0\nrating       0\ndtype: int64"
     },
     "execution_count": 11,
     "metadata": {},
     "output_type": "execute_result"
    }
   ],
   "source": [
    "# Count null values\n",
    "product_data.isnull().sum()"
   ]
  },
  {
   "cell_type": "code",
   "execution_count": 12,
   "id": "89feb41f1c225e07",
   "metadata": {
    "ExecuteTime": {
     "end_time": "2024-02-07T14:05:51.611273400Z",
     "start_time": "2024-02-07T14:05:49.546568Z"
    }
   },
   "outputs": [
    {
     "data": {
      "text/plain": "0"
     },
     "execution_count": 12,
     "metadata": {},
     "output_type": "execute_result"
    }
   ],
   "source": [
    "# Count duplicated values\n",
    "product_data.duplicated().sum()"
   ]
  },
  {
   "cell_type": "markdown",
   "id": "b21cfcf8e6dac037",
   "metadata": {},
   "source": [
    "Proceeding forward due to zero null and duplicated values"
   ]
  },
  {
   "cell_type": "markdown",
   "id": "21ddd423d8afa2ec",
   "metadata": {},
   "source": [
    "Displaying Rating Distribution as a graph"
   ]
  },
  {
   "cell_type": "code",
   "execution_count": 13,
   "id": "90606d60c6dfb81c",
   "metadata": {
    "ExecuteTime": {
     "end_time": "2024-02-07T14:05:54.858465200Z",
     "start_time": "2024-02-07T14:05:51.614668500Z"
    }
   },
   "outputs": [
    {
     "data": {
      "text/plain": "<Figure size 800x400 with 1 Axes>",
      "image/png": "[encoded data removed]"
     },
     "metadata": {},
     "output_type": "display_data"
    }
   ],
   "source": [
    "# Set size of the figure\n",
    "plt.figure(figsize=(8,4))\n",
    "\n",
    "# Create a count plot based on the 'rating' column\n",
    "sns.countplot(x='rating',data=product_data)\n",
    "\n",
    "# Add a title to the plot\n",
    "plt.title('Rating Distribution')\n",
    "\n",
    "# Add a label to the x-axis\n",
    "plt.xlabel('Rating')\n",
    "\n",
    "# Add a label to the y-axis\n",
    "plt.ylabel('Count')\n",
    "\n",
    "# Add a grid to the plot\n",
    "plt.grid()\n",
    "\n",
    "# Display plot\n",
    "plt.show()"
   ]
  },
  {
   "cell_type": "markdown",
   "id": "629e44c4e3162bfa",
   "metadata": {},
   "source": [
    "Analyzing the rating by user"
   ]
  },
  {
   "cell_type": "code",
   "execution_count": 14,
   "id": "b2e18f0933899b98",
   "metadata": {
    "ExecuteTime": {
     "end_time": "2024-02-07T14:05:56.415551500Z",
     "start_time": "2024-02-07T14:05:54.856561800Z"
    }
   },
   "outputs": [
    {
     "name": "stdout",
     "output_type": "stream",
     "text": [
      "Total rating :  2000000\n",
      "Total unique users :  1502048\n",
      "Total unique products :  266852\n"
     ]
    }
   ],
   "source": [
    "print('Total rating : ',product_data.shape[0])\n",
    "print('Total unique users : ',product_data['userId'].nunique())\n",
    "print('Total unique products : ',product_data['productId'].nunique())"
   ]
  },
  {
   "cell_type": "code",
   "execution_count": 15,
   "id": "8c1422ade3cf8fd5",
   "metadata": {
    "ExecuteTime": {
     "end_time": "2024-02-07T14:06:00.376624100Z",
     "start_time": "2024-02-07T14:05:56.409391400Z"
    }
   },
   "outputs": [
    {
     "data": {
      "text/plain": "userId\nA5JLAU2ARJ0BO     143\nADLVFFE4VBT8      131\nA3OXHLG6DIBRW8    127\nA680RUE1FDO8B     114\nA6FIAB28IS79      102\nName: rating, dtype: int64"
     },
     "execution_count": 15,
     "metadata": {},
     "output_type": "execute_result"
    }
   ],
   "source": [
    "# Count the number of rated products per user\n",
    "no_of_rated_products_per_user = product_data.groupby(by='userId')['rating'].count().sort_values(ascending=False)\n",
    "no_of_rated_products_per_user.head()"
   ]
  },
  {
   "cell_type": "code",
   "execution_count": 16,
   "id": "f8b5b074f64de0c3",
   "metadata": {
    "ExecuteTime": {
     "end_time": "2024-02-07T14:06:00.410750300Z",
     "start_time": "2024-02-07T14:06:00.262809300Z"
    }
   },
   "outputs": [
    {
     "name": "stdout",
     "output_type": "stream",
     "text": [
      "Number of users who have rated more than 50 products : 60 \n"
     ]
    }
   ],
   "source": [
    "# Count the number of users who have rated more than 50 products\n",
    "print('Number of users who have rated more than 50 products : {} '.format(sum(no_of_rated_products_per_user >= 50)))"
   ]
  },
  {
   "cell_type": "markdown",
   "id": "caa2b9bd2b3260c2",
   "metadata": {},
   "source": [
    "## Popularity Based Recommendation\n",
    "To suggest products to user who just signed up"
   ]
  },
  {
   "cell_type": "code",
   "execution_count": 17,
   "id": "adf3f4b054a865e",
   "metadata": {
    "ExecuteTime": {
     "end_time": "2024-02-07T14:06:09.809913100Z",
     "start_time": "2024-02-07T14:06:00.335304200Z"
    }
   },
   "outputs": [],
   "source": [
    "# Filter the products with more than 50 ratings and making a new dataframe\n",
    "data = product_data.groupby('productId').filter(lambda x:x['rating'].count()>=50)"
   ]
  },
  {
   "cell_type": "code",
   "execution_count": 18,
   "id": "314fdfbbea0cc2de",
   "metadata": {
    "ExecuteTime": {
     "end_time": "2024-02-07T14:06:09.822042800Z",
     "start_time": "2024-02-07T14:06:09.810934700Z"
    }
   },
   "outputs": [
    {
     "data": {
      "text/plain": "           userId   productId  rating\n0  A33M5G6V9LNGJ3  B001NJ0D0Y     5.0\n1   ABZD1TT699GLH  B00DZTVST0     5.0\n4  A3BXHHJZGNAXEF  B000TKHGL2     4.0\n5   A1L4T389E8UJ2  B007R5YDYA     5.0\n8   AXGUQZJU2BDDC  B001D9IGRG     5.0",
      "text/html": "<div>\n<style scoped>\n    .dataframe tbody tr th:only-of-type {\n        vertical-align: middle;\n    }\n\n    .dataframe tbody tr th {\n        vertical-align: top;\n    }\n\n    .dataframe thead th {\n        text-align: right;\n    }\n</style>\n<table border=\"1\" class=\"dataframe\">\n  <thead>\n    <tr style=\"text-align: right;\">\n      <th></th>\n      <th>userId</th>\n      <th>productId</th>\n      <th>rating</th>\n    </tr>\n  </thead>\n  <tbody>\n    <tr>\n      <th>0</th>\n      <td>A33M5G6V9LNGJ3</td>\n      <td>B001NJ0D0Y</td>\n      <td>5.0</td>\n    </tr>\n    <tr>\n      <th>1</th>\n      <td>ABZD1TT699GLH</td>\n      <td>B00DZTVST0</td>\n      <td>5.0</td>\n    </tr>\n    <tr>\n      <th>4</th>\n      <td>A3BXHHJZGNAXEF</td>\n      <td>B000TKHGL2</td>\n      <td>4.0</td>\n    </tr>\n    <tr>\n      <th>5</th>\n      <td>A1L4T389E8UJ2</td>\n      <td>B007R5YDYA</td>\n      <td>5.0</td>\n    </tr>\n    <tr>\n      <th>8</th>\n      <td>AXGUQZJU2BDDC</td>\n      <td>B001D9IGRG</td>\n      <td>5.0</td>\n    </tr>\n  </tbody>\n</table>\n</div>"
     },
     "execution_count": 18,
     "metadata": {},
     "output_type": "execute_result"
    }
   ],
   "source": [
    "data.head()"
   ]
  },
  {
   "cell_type": "code",
   "execution_count": 19,
   "id": "22ca9e1b6acd5541",
   "metadata": {
    "ExecuteTime": {
     "end_time": "2024-02-07T14:06:09.956247600Z",
     "start_time": "2024-02-07T14:06:09.822042800Z"
    }
   },
   "outputs": [],
   "source": [
    "# Calculate the number of ratings per product\n",
    "# Sort the results in the descending order \n",
    "no_of_rating_per_product = data.groupby('productId')['rating'].count().sort_values(ascending=False)"
   ]
  },
  {
   "cell_type": "code",
   "execution_count": 20,
   "id": "9ee785dafd4f8455",
   "metadata": {
    "ExecuteTime": {
     "end_time": "2024-02-07T14:06:09.958274200Z",
     "start_time": "2024-02-07T14:06:09.917760200Z"
    }
   },
   "outputs": [
    {
     "data": {
      "text/plain": "productId\nB0074BW614    4688\nB00DR0PDNE    4261\nB007WTAJTO    3565\nB0019EHU8G    3245\nB006GWO5WK    3132\nName: rating, dtype: int64"
     },
     "execution_count": 20,
     "metadata": {},
     "output_type": "execute_result"
    }
   ],
   "source": [
    "no_of_rating_per_product.head()"
   ]
  },
  {
   "cell_type": "code",
   "outputs": [
    {
     "name": "stdout",
     "output_type": "stream",
     "text": [
      "Top 20 Products based on Number of Ratings:\n",
      "1. Product ID: B0074BW614\n",
      "2. Product ID: B00DR0PDNE\n",
      "3. Product ID: B007WTAJTO\n",
      "4. Product ID: B0019EHU8G\n",
      "5. Product ID: B006GWO5WK\n",
      "6. Product ID: B003ELYQGG\n",
      "7. Product ID: B003ES5ZUU\n",
      "8. Product ID: B007R5YDYA\n",
      "9. Product ID: B00622AG6S\n",
      "10. Product ID: B0002L5R78\n",
      "11. Product ID: B008OHNZI0\n",
      "12. Product ID: B003LR7ME6\n",
      "13. Product ID: B000LRMS66\n",
      "14. Product ID: B009SYZ8OC\n",
      "15. Product ID: B00BGA9WK2\n",
      "16. Product ID: B004QK7HI8\n",
      "17. Product ID: B00BGGDVOO\n",
      "18. Product ID: B009A5204K\n",
      "19. Product ID: B0098F5W0Q\n",
      "20. Product ID: B002WE6D44\n"
     ]
    }
   ],
   "source": [
    "# Create a list of the top 20 products\n",
    "top_20_products = no_of_rating_per_product.head(20).index.tolist()\n",
    "\n",
    "# Print the top 20 products using a for loop\n",
    "print(\"Top 20 Products based on Number of Ratings:\")\n",
    "for i, product_id in enumerate(top_20_products, 1):\n",
    "    print(f\"{i}. Product ID: {product_id}\")\n"
   ],
   "metadata": {
    "collapsed": false,
    "ExecuteTime": {
     "end_time": "2024-02-07T14:06:09.959272700Z",
     "start_time": "2024-02-07T14:06:09.924683Z"
    }
   },
   "id": "6c934eec58b759a9",
   "execution_count": 21
  },
  {
   "cell_type": "code",
   "execution_count": 22,
   "id": "9167137bf4276905",
   "metadata": {
    "ExecuteTime": {
     "end_time": "2024-02-07T14:06:10.128319Z",
     "start_time": "2024-02-07T14:06:09.931314700Z"
    }
   },
   "outputs": [
    {
     "data": {
      "text/plain": "<Figure size 640x480 with 1 Axes>",
      "image/png": "[encoded data removed]"
     },
     "metadata": {},
     "output_type": "display_data"
    }
   ],
   "source": [
    "# Create a bar plot of the top 20 most rated products\n",
    "no_of_rating_per_product.head(20).plot(kind='bar')\n",
    "\n",
    "# Add a title to the plot\n",
    "plt.title('top 20 product')\n",
    "\n",
    "# Add label to the x-axis\n",
    "plt.xlabel('Product ID')\n",
    "\n",
    "# Add label to the x-axis\n",
    "plt.ylabel('num of rating')\n",
    "\n",
    "# Display plot\n",
    "plt.show()"
   ]
  },
  {
   "cell_type": "code",
   "execution_count": 23,
   "id": "8dd5e0a037a2ea8f",
   "metadata": {
    "ExecuteTime": {
     "end_time": "2024-02-07T14:06:10.240966800Z",
     "start_time": "2024-02-07T14:06:10.129360800Z"
    }
   },
   "outputs": [],
   "source": [
    "# Calculate the average rating for each product\n",
    "# Create a new dataframe from that data\n",
    "mean_rating_per_product = pd.DataFrame(data.groupby('productId')['rating'].mean())"
   ]
  },
  {
   "cell_type": "code",
   "execution_count": 24,
   "id": "e10653e1ae825021",
   "metadata": {
    "ExecuteTime": {
     "end_time": "2024-02-07T14:06:10.251598600Z",
     "start_time": "2024-02-07T14:06:10.239941800Z"
    }
   },
   "outputs": [
    {
     "data": {
      "text/plain": "              rating\nproductId           \n0972683275  4.416667\n1400501466  3.753846\n1400532655  3.878788\n140053271X  3.645161\n1400599997  3.560000",
      "text/html": "<div>\n<style scoped>\n    .dataframe tbody tr th:only-of-type {\n        vertical-align: middle;\n    }\n\n    .dataframe tbody tr th {\n        vertical-align: top;\n    }\n\n    .dataframe thead th {\n        text-align: right;\n    }\n</style>\n<table border=\"1\" class=\"dataframe\">\n  <thead>\n    <tr style=\"text-align: right;\">\n      <th></th>\n      <th>rating</th>\n    </tr>\n    <tr>\n      <th>productId</th>\n      <th></th>\n    </tr>\n  </thead>\n  <tbody>\n    <tr>\n      <th>0972683275</th>\n      <td>4.416667</td>\n    </tr>\n    <tr>\n      <th>1400501466</th>\n      <td>3.753846</td>\n    </tr>\n    <tr>\n      <th>1400532655</th>\n      <td>3.878788</td>\n    </tr>\n    <tr>\n      <th>140053271X</th>\n      <td>3.645161</td>\n    </tr>\n    <tr>\n      <th>1400599997</th>\n      <td>3.560000</td>\n    </tr>\n  </tbody>\n</table>\n</div>"
     },
     "execution_count": 24,
     "metadata": {},
     "output_type": "execute_result"
    }
   ],
   "source": [
    "mean_rating_per_product.head()"
   ]
  },
  {
   "cell_type": "code",
   "execution_count": 25,
   "id": "77a11a9ac827b97d",
   "metadata": {
    "ExecuteTime": {
     "end_time": "2024-02-07T14:06:10.462462800Z",
     "start_time": "2024-02-07T14:06:10.248062600Z"
    }
   },
   "outputs": [
    {
     "data": {
      "text/plain": "<Figure size 640x480 with 1 Axes>",
      "image/png": "[encoded data removed]"
     },
     "metadata": {},
     "output_type": "display_data"
    }
   ],
   "source": [
    "# Create histogram with 100 bins\n",
    "plt.hist(mean_rating_per_product['rating'],bins=100)\n",
    "\n",
    "# Add a title to the histogram \n",
    "plt.title('Mean Rating distribution')\n",
    "\n",
    "# Display histogram\n",
    "plt.show()"
   ]
  },
  {
   "cell_type": "code",
   "execution_count": 26,
   "id": "5cf0722bf09bae5b",
   "metadata": {
    "ExecuteTime": {
     "end_time": "2024-02-07T14:06:10.468482200Z",
     "start_time": "2024-02-07T14:06:10.462462800Z"
    }
   },
   "outputs": [
    {
     "data": {
      "text/plain": "-0.8991356572130553"
     },
     "execution_count": 26,
     "metadata": {},
     "output_type": "execute_result"
    }
   ],
   "source": [
    "# Check the skewness of the mean rating data\n",
    "mean_rating_per_product['rating'].skew()"
   ]
  },
  {
   "cell_type": "markdown",
   "id": "46c29c5bce551823",
   "metadata": {},
   "source": [
    "Moderately negatively skewed "
   ]
  },
  {
   "cell_type": "code",
   "execution_count": 27,
   "id": "6bf94b098820ae87",
   "metadata": {
    "ExecuteTime": {
     "end_time": "2024-02-07T14:06:10.595753700Z",
     "start_time": "2024-02-07T14:06:10.468482200Z"
    }
   },
   "outputs": [],
   "source": [
    "# Add a rating_count column to the mean_rating_per_product dataframe\n",
    "mean_rating_per_product['rating_counts'] = data.groupby('productId')['rating'].count()"
   ]
  },
  {
   "cell_type": "code",
   "execution_count": 28,
   "id": "95b17686625d65c5",
   "metadata": {
    "ExecuteTime": {
     "end_time": "2024-02-07T14:06:10.598839400Z",
     "start_time": "2024-02-07T14:06:10.554269500Z"
    }
   },
   "outputs": [
    {
     "data": {
      "text/plain": "              rating  rating_counts\nproductId                          \n0972683275  4.416667            252\n1400501466  3.753846             65\n1400532655  3.878788            132\n140053271X  3.645161             93\n1400599997  3.560000             50",
      "text/html": "<div>\n<style scoped>\n    .dataframe tbody tr th:only-of-type {\n        vertical-align: middle;\n    }\n\n    .dataframe tbody tr th {\n        vertical-align: top;\n    }\n\n    .dataframe thead th {\n        text-align: right;\n    }\n</style>\n<table border=\"1\" class=\"dataframe\">\n  <thead>\n    <tr style=\"text-align: right;\">\n      <th></th>\n      <th>rating</th>\n      <th>rating_counts</th>\n    </tr>\n    <tr>\n      <th>productId</th>\n      <th></th>\n      <th></th>\n    </tr>\n  </thead>\n  <tbody>\n    <tr>\n      <th>0972683275</th>\n      <td>4.416667</td>\n      <td>252</td>\n    </tr>\n    <tr>\n      <th>1400501466</th>\n      <td>3.753846</td>\n      <td>65</td>\n    </tr>\n    <tr>\n      <th>1400532655</th>\n      <td>3.878788</td>\n      <td>132</td>\n    </tr>\n    <tr>\n      <th>140053271X</th>\n      <td>3.645161</td>\n      <td>93</td>\n    </tr>\n    <tr>\n      <th>1400599997</th>\n      <td>3.560000</td>\n      <td>50</td>\n    </tr>\n  </tbody>\n</table>\n</div>"
     },
     "execution_count": 28,
     "metadata": {},
     "output_type": "execute_result"
    }
   ],
   "source": [
    "mean_rating_per_product.head()"
   ]
  },
  {
   "cell_type": "code",
   "execution_count": 29,
   "id": "8b9b77d58ba90b3b",
   "metadata": {
    "ExecuteTime": {
     "end_time": "2024-02-07T14:06:10.621503400Z",
     "start_time": "2024-02-07T14:06:10.563771700Z"
    }
   },
   "outputs": [
    {
     "data": {
      "text/plain": "              rating  rating_counts\nproductId                          \nB0074BW614  4.485708           4688",
      "text/html": "<div>\n<style scoped>\n    .dataframe tbody tr th:only-of-type {\n        vertical-align: middle;\n    }\n\n    .dataframe tbody tr th {\n        vertical-align: top;\n    }\n\n    .dataframe thead th {\n        text-align: right;\n    }\n</style>\n<table border=\"1\" class=\"dataframe\">\n  <thead>\n    <tr style=\"text-align: right;\">\n      <th></th>\n      <th>rating</th>\n      <th>rating_counts</th>\n    </tr>\n    <tr>\n      <th>productId</th>\n      <th></th>\n      <th></th>\n    </tr>\n  </thead>\n  <tbody>\n    <tr>\n      <th>B0074BW614</th>\n      <td>4.485708</td>\n      <td>4688</td>\n    </tr>\n  </tbody>\n</table>\n</div>"
     },
     "execution_count": 29,
     "metadata": {},
     "output_type": "execute_result"
    }
   ],
   "source": [
    "# Find the product with the highest mean rating\n",
    "mean_rating_per_product[mean_rating_per_product['rating_counts'] == mean_rating_per_product['rating_counts'].max()]"
   ]
  },
  {
   "cell_type": "code",
   "execution_count": 30,
   "id": "168d5948f30b74e4",
   "metadata": {
    "ExecuteTime": {
     "end_time": "2024-02-07T14:06:10.650279800Z",
     "start_time": "2024-02-07T14:06:10.572130200Z"
    }
   },
   "outputs": [
    {
     "name": "stdout",
     "output_type": "stream",
     "text": [
      "Minimum rating count for a product : 50\n",
      "Total products with the minimum rating count : 161\n"
     ]
    }
   ],
   "source": [
    "# The minimum number of ratings a product can have\n",
    "min_rating_counts = mean_rating_per_product['rating_counts'].min()\n",
    "\n",
    "# The number of products with the minimum number of ratings\n",
    "total_min_rating_products = mean_rating_per_product[mean_rating_per_product['rating_counts']==min_rating_counts].shape[0]\n",
    "\n",
    "print('Minimum rating count for a product :', min_rating_counts)\n",
    "print('Total products with the minimum rating count :', total_min_rating_products)"
   ]
  },
  {
   "cell_type": "code",
   "execution_count": 31,
   "id": "f53faad26d9e9b43",
   "metadata": {
    "ExecuteTime": {
     "end_time": "2024-02-07T14:06:10.921982700Z",
     "start_time": "2024-02-07T14:06:10.580448100Z"
    }
   },
   "outputs": [
    {
     "data": {
      "text/plain": "<Figure size 640x480 with 1 Axes>",
      "image/png": "[encoded data removed]"
     },
     "metadata": {},
     "output_type": "display_data"
    }
   ],
   "source": [
    "# Create histogram with 100 bins\n",
    "plt.hist(mean_rating_per_product['rating_counts'],bins=100)\n",
    "\n",
    "# Add a title to the histogram \n",
    "plt.title('rating count distribution')\n",
    "\n",
    "# Display histogram\n",
    "plt.show()"
   ]
  },
  {
   "cell_type": "code",
   "execution_count": 32,
   "id": "8a7234d8beaa268",
   "metadata": {
    "ExecuteTime": {
     "end_time": "2024-02-07T14:06:11.973707Z",
     "start_time": "2024-02-07T14:06:10.856467900Z"
    }
   },
   "outputs": [
    {
     "data": {
      "text/plain": "<Figure size 600x600 with 3 Axes>",
      "image/png": "[encoded data removed]"
     },
     "metadata": {},
     "output_type": "display_data"
    }
   ],
   "source": [
    "# Create a joint plot with x and y axes representing mean rating and rating count\n",
    "sns.jointplot(x='rating',y='rating_counts',data=mean_rating_per_product)\n",
    "\n",
    "# Add a title to the joint plot\n",
    "plt.title('Joint Plot of rating and rating counts')\n",
    "\n",
    "# Prevent subplots from overlapping\n",
    "plt.tight_layout()\n",
    "\n",
    "# Display the joint plot\n",
    "plt.show()"
   ]
  },
  {
   "cell_type": "code",
   "execution_count": 33,
   "id": "2ac3d686db17f5b8",
   "metadata": {
    "ExecuteTime": {
     "end_time": "2024-02-07T14:06:12.159795900Z",
     "start_time": "2024-02-07T14:06:11.971927600Z"
    }
   },
   "outputs": [
    {
     "data": {
      "text/plain": "<Figure size 640x480 with 1 Axes>",
      "image/png": "[encoded data removed]"
     },
     "metadata": {},
     "output_type": "display_data"
    }
   ],
   "source": [
    "# Create a scatter plot with x and y axes representing mean rating and rating count\n",
    "plt.scatter(x=mean_rating_per_product['rating'], y=mean_rating_per_product['rating_counts'])\n",
    "\n",
    "# Display the scatter plot\n",
    "plt.show()"
   ]
  },
  {
   "cell_type": "code",
   "execution_count": 34,
   "id": "30bfddd5f7c202e1",
   "metadata": {
    "ExecuteTime": {
     "end_time": "2024-02-07T14:06:12.166271600Z",
     "start_time": "2024-02-07T14:06:12.158243600Z"
    }
   },
   "outputs": [
    {
     "name": "stdout",
     "output_type": "stream",
     "text": [
      "Correlation between Rating and Rating Counts is : 0.10532652555357228\n"
     ]
    }
   ],
   "source": [
    "# Calculate the Pearson correlation coefficient between mean rating and ratings count\n",
    "correlation = mean_rating_per_product['rating'].corr(mean_rating_per_product['rating_counts'])\n",
    "print(f'Correlation between Rating and Rating Counts is : {correlation}')"
   ]
  },
  {
   "cell_type": "markdown",
   "id": "6cf21197102bc460",
   "metadata": {},
   "source": [
    "Not much of a correlation"
   ]
  },
  {
   "cell_type": "markdown",
   "id": "a57f2c5917942ec9",
   "metadata": {},
   "source": [
    "## Collaborative Filtering"
   ]
  },
  {
   "cell_type": "code",
   "execution_count": 35,
   "id": "c4b6468b4e695464",
   "metadata": {
    "ExecuteTime": {
     "end_time": "2024-02-07T14:06:12.431752900Z",
     "start_time": "2024-02-07T14:06:12.170948700Z"
    }
   },
   "outputs": [],
   "source": [
    "# Import libraries for collaborative filtering approach\n",
    "from surprise import KNNWithMeans\n",
    "from surprise import Dataset\n",
    "from surprise import accuracy\n",
    "from surprise import Reader\n",
    "from surprise.model_selection import train_test_split"
   ]
  },
  {
   "cell_type": "code",
   "execution_count": 36,
   "id": "23717b0f",
   "metadata": {
    "ExecuteTime": {
     "end_time": "2024-02-07T14:06:13.111368900Z",
     "start_time": "2024-02-07T14:06:12.431752900Z"
    }
   },
   "outputs": [],
   "source": [
    "# Specify the rating scale of data \n",
    "reader = Reader(rating_scale=(1, 5))\n",
    "\n",
    "# load the data from \"data\" into a format suitable for collaborative filtering\n",
    "surprise_data = Dataset.load_from_df(data, reader)"
   ]
  },
  {
   "cell_type": "code",
   "execution_count": 37,
   "id": "29181139",
   "metadata": {
    "ExecuteTime": {
     "end_time": "2024-02-07T14:06:15.096476200Z",
     "start_time": "2024-02-07T14:06:13.112440900Z"
    }
   },
   "outputs": [],
   "source": [
    "#Split the surprise dataset into 80:20 ratio using train_test_split\n",
    "trainSet, testSet = train_test_split(surprise_data, test_size=0.3,random_state=42)"
   ]
  },
  {
   "cell_type": "markdown",
   "id": "a64ac681",
   "metadata": {},
   "source": [
    "#### Creating a collaborative filtering algorithm (KNNWithMeans) with specified parameters\n",
    "k=5: Number of neighbors to consider\n",
    "\n",
    "'name': Similarity measure (how similar two things are) to use 'pearson_baseline'\n",
    "\n",
    "'user_based': Whether to use user-based or item-based collaborative filtering (set to False for item-based)"
   ]
  },
  {
   "cell_type": "code",
   "execution_count": 38,
   "id": "f03f8119",
   "metadata": {
    "ExecuteTime": {
     "end_time": "2024-02-07T14:06:18.258614Z",
     "start_time": "2024-02-07T14:06:15.098072400Z"
    }
   },
   "outputs": [
    {
     "name": "stdout",
     "output_type": "stream",
     "text": [
      "Estimating biases using als...\n",
      "Computing the pearson_baseline similarity matrix...\n",
      "Done computing similarity matrix.\n"
     ]
    },
    {
     "data": {
      "text/plain": "<surprise.prediction_algorithms.knns.KNNWithMeans at 0x22cfd234790>"
     },
     "execution_count": 38,
     "metadata": {},
     "output_type": "execute_result"
    }
   ],
   "source": [
    "algo = KNNWithMeans(k=5, sim_options={'name': 'pearson_baseline', 'user_based': False})\n",
    "\n",
    "# Train the collaborative filtering algorithm on the training dataset\n",
    "algo.fit(trainSet)"
   ]
  },
  {
   "cell_type": "code",
   "execution_count": 39,
   "id": "baadbf23",
   "metadata": {
    "ExecuteTime": {
     "end_time": "2024-02-07T14:06:19.878893600Z",
     "start_time": "2024-02-07T14:06:18.252025900Z"
    }
   },
   "outputs": [],
   "source": [
    "# Make predictions on the testing dataset and store the prediction objects in the 'test_pred' list\n",
    "test_pred = algo.test(testSet)"
   ]
  },
  {
   "cell_type": "markdown",
   "source": [
    "Calculate and print the Root Mean Squared Error (RMSE) for the collaborative filtering model on the test set\n",
    "###### RMSE is a metric for evaluating the accuracy of predictions"
   ],
   "metadata": {
    "collapsed": false
   },
   "id": "6dc04c6f8eba69e7"
  },
  {
   "cell_type": "code",
   "execution_count": 40,
   "id": "9c46289f",
   "metadata": {
    "ExecuteTime": {
     "end_time": "2024-02-07T14:06:20.013829700Z",
     "start_time": "2024-02-07T14:06:19.878893600Z"
    }
   },
   "outputs": [
    {
     "name": "stdout",
     "output_type": "stream",
     "text": [
      "Item-based Model : Test Set\n",
      "RMSE: 1.3178\n"
     ]
    },
    {
     "data": {
      "text/plain": "1.3177760746465115"
     },
     "execution_count": 40,
     "metadata": {},
     "output_type": "execute_result"
    }
   ],
   "source": [
    "print(\"Item-based Model : Test Set\")\n",
    "# 'verbose=True' is set to display additional information (Print \"RMSE: x\")\n",
    "accuracy.rmse(test_pred ,verbose=True)"
   ]
  },
  {
   "cell_type": "code",
   "outputs": [
    {
     "data": {
      "text/plain": "userId      A00033481VZEEGYXEN32T  A0077819240YSF8572N8A  \\\nproductId                                                  \n0972683275                    0.0                    0.0   \n1400532655                    0.0                    0.0   \n140053271X                    0.0                    0.0   \n1400599997                    0.0                    0.0   \nB000001ON6                    0.0                    0.0   \n\nuserId      A01316301UCJ0UCEUVRHB  A01569123INC4XUZXJ0RL  \\\nproductId                                                  \n0972683275                    0.0                    0.0   \n1400532655                    0.0                    0.0   \n140053271X                    0.0                    0.0   \n1400599997                    0.0                    0.0   \nB000001ON6                    0.0                    0.0   \n\nuserId      A0192486Q87XYFCG9OFW  A03299993GLHG3GY0QDI5  A0387329AGWZ5XQT07S2  \\\nproductId                                                                       \n0972683275                   0.0                    0.0                   0.0   \n1400532655                   0.0                    0.0                   0.0   \n140053271X                   0.0                    0.0                   0.0   \n1400599997                   0.0                    0.0                   0.0   \nB000001ON6                   0.0                    0.0                   0.0   \n\nuserId      A04276221VWQQ6W5WOUVI  A06391773PDSSTRNC534C  \\\nproductId                                                  \n0972683275                    0.0                    0.0   \n1400532655                    0.0                    0.0   \n140053271X                    0.0                    0.0   \n1400599997                    0.0                    0.0   \nB000001ON6                    0.0                    0.0   \n\nuserId      A06825387YP3WYRBNFI6  ...  AZYVS3H3V03SL  AZZ0DDJUOD3GA  \\\nproductId                         ...                                 \n0972683275                   0.0  ...            0.0            0.0   \n1400532655                   0.0  ...            0.0            0.0   \n140053271X                   0.0  ...            0.0            0.0   \n1400599997                   0.0  ...            0.0            0.0   \nB000001ON6                   0.0  ...            0.0            0.0   \n\nuserId      AZZ1B8DPRTHY9  AZZAX6DNC2VBP  AZZCVLYL921Q7  AZZDKAD5RYGX9  \\\nproductId                                                                \n0972683275            0.0            0.0            0.0            0.0   \n1400532655            0.0            0.0            0.0            0.0   \n140053271X            0.0            0.0            0.0            0.0   \n1400599997            0.0            0.0            0.0            0.0   \nB000001ON6            0.0            0.0            0.0            0.0   \n\nuserId      AZZM0MGLACRHJ  AZZMRAY3BHVN8  AZZTC2OYVNE2Q  AZZUDFTLIOYLI  \nproductId                                                               \n0972683275            0.0            0.0            0.0            0.0  \n1400532655            0.0            0.0            0.0            0.0  \n140053271X            0.0            0.0            0.0            0.0  \n1400599997            0.0            0.0            0.0            0.0  \nB000001ON6            0.0            0.0            0.0            0.0  \n\n[5 rows x 19886 columns]",
      "text/html": "<div>\n<style scoped>\n    .dataframe tbody tr th:only-of-type {\n        vertical-align: middle;\n    }\n\n    .dataframe tbody tr th {\n        vertical-align: top;\n    }\n\n    .dataframe thead th {\n        text-align: right;\n    }\n</style>\n<table border=\"1\" class=\"dataframe\">\n  <thead>\n    <tr style=\"text-align: right;\">\n      <th>userId</th>\n      <th>A00033481VZEEGYXEN32T</th>\n      <th>A0077819240YSF8572N8A</th>\n      <th>A01316301UCJ0UCEUVRHB</th>\n      <th>A01569123INC4XUZXJ0RL</th>\n      <th>A0192486Q87XYFCG9OFW</th>\n      <th>A03299993GLHG3GY0QDI5</th>\n      <th>A0387329AGWZ5XQT07S2</th>\n      <th>A04276221VWQQ6W5WOUVI</th>\n      <th>A06391773PDSSTRNC534C</th>\n      <th>A06825387YP3WYRBNFI6</th>\n      <th>...</th>\n      <th>AZYVS3H3V03SL</th>\n      <th>AZZ0DDJUOD3GA</th>\n      <th>AZZ1B8DPRTHY9</th>\n      <th>AZZAX6DNC2VBP</th>\n      <th>AZZCVLYL921Q7</th>\n      <th>AZZDKAD5RYGX9</th>\n      <th>AZZM0MGLACRHJ</th>\n      <th>AZZMRAY3BHVN8</th>\n      <th>AZZTC2OYVNE2Q</th>\n      <th>AZZUDFTLIOYLI</th>\n    </tr>\n    <tr>\n      <th>productId</th>\n      <th></th>\n      <th></th>\n      <th></th>\n      <th></th>\n      <th></th>\n      <th></th>\n      <th></th>\n      <th></th>\n      <th></th>\n      <th></th>\n      <th></th>\n      <th></th>\n      <th></th>\n      <th></th>\n      <th></th>\n      <th></th>\n      <th></th>\n      <th></th>\n      <th></th>\n      <th></th>\n      <th></th>\n    </tr>\n  </thead>\n  <tbody>\n    <tr>\n      <th>0972683275</th>\n      <td>0.0</td>\n      <td>0.0</td>\n      <td>0.0</td>\n      <td>0.0</td>\n      <td>0.0</td>\n      <td>0.0</td>\n      <td>0.0</td>\n      <td>0.0</td>\n      <td>0.0</td>\n      <td>0.0</td>\n      <td>...</td>\n      <td>0.0</td>\n      <td>0.0</td>\n      <td>0.0</td>\n      <td>0.0</td>\n      <td>0.0</td>\n      <td>0.0</td>\n      <td>0.0</td>\n      <td>0.0</td>\n      <td>0.0</td>\n      <td>0.0</td>\n    </tr>\n    <tr>\n      <th>1400532655</th>\n      <td>0.0</td>\n      <td>0.0</td>\n      <td>0.0</td>\n      <td>0.0</td>\n      <td>0.0</td>\n      <td>0.0</td>\n      <td>0.0</td>\n      <td>0.0</td>\n      <td>0.0</td>\n      <td>0.0</td>\n      <td>...</td>\n      <td>0.0</td>\n      <td>0.0</td>\n      <td>0.0</td>\n      <td>0.0</td>\n      <td>0.0</td>\n      <td>0.0</td>\n      <td>0.0</td>\n      <td>0.0</td>\n      <td>0.0</td>\n      <td>0.0</td>\n    </tr>\n    <tr>\n      <th>140053271X</th>\n      <td>0.0</td>\n      <td>0.0</td>\n      <td>0.0</td>\n      <td>0.0</td>\n      <td>0.0</td>\n      <td>0.0</td>\n      <td>0.0</td>\n      <td>0.0</td>\n      <td>0.0</td>\n      <td>0.0</td>\n      <td>...</td>\n      <td>0.0</td>\n      <td>0.0</td>\n      <td>0.0</td>\n      <td>0.0</td>\n      <td>0.0</td>\n      <td>0.0</td>\n      <td>0.0</td>\n      <td>0.0</td>\n      <td>0.0</td>\n      <td>0.0</td>\n    </tr>\n    <tr>\n      <th>1400599997</th>\n      <td>0.0</td>\n      <td>0.0</td>\n      <td>0.0</td>\n      <td>0.0</td>\n      <td>0.0</td>\n      <td>0.0</td>\n      <td>0.0</td>\n      <td>0.0</td>\n      <td>0.0</td>\n      <td>0.0</td>\n      <td>...</td>\n      <td>0.0</td>\n      <td>0.0</td>\n      <td>0.0</td>\n      <td>0.0</td>\n      <td>0.0</td>\n      <td>0.0</td>\n      <td>0.0</td>\n      <td>0.0</td>\n      <td>0.0</td>\n      <td>0.0</td>\n    </tr>\n    <tr>\n      <th>B000001ON6</th>\n      <td>0.0</td>\n      <td>0.0</td>\n      <td>0.0</td>\n      <td>0.0</td>\n      <td>0.0</td>\n      <td>0.0</td>\n      <td>0.0</td>\n      <td>0.0</td>\n      <td>0.0</td>\n      <td>0.0</td>\n      <td>...</td>\n      <td>0.0</td>\n      <td>0.0</td>\n      <td>0.0</td>\n      <td>0.0</td>\n      <td>0.0</td>\n      <td>0.0</td>\n      <td>0.0</td>\n      <td>0.0</td>\n      <td>0.0</td>\n      <td>0.0</td>\n    </tr>\n  </tbody>\n</table>\n<p>5 rows × 19886 columns</p>\n</div>"
     },
     "execution_count": 41,
     "metadata": {},
     "output_type": "execute_result"
    }
   ],
   "source": [
    "# Create smaller dataframe with 20000 random samples from 'data'\n",
    "data2 = data.sample(20000)\n",
    "\n",
    "# Create pivot table from the data2 DataFrame\n",
    "ratings_matrix = data2.pivot_table(values='rating', index='productId', columns='userId', fill_value=0)\n",
    "ratings_matrix.head()"
   ],
   "metadata": {
    "collapsed": false,
    "ExecuteTime": {
     "end_time": "2024-02-07T14:06:23.287863900Z",
     "start_time": "2024-02-07T14:06:20.015950900Z"
    }
   },
   "id": "c1ba33bff30407b3",
   "execution_count": 41
  },
  {
   "cell_type": "code",
   "outputs": [
    {
     "data": {
      "text/plain": "(5430, 10)"
     },
     "execution_count": 42,
     "metadata": {},
     "output_type": "execute_result"
    }
   ],
   "source": [
    "# Decompose ratings matrix using Truncated Singular Value Decomposition (SVD)\n",
    "from sklearn.decomposition import TruncatedSVD\n",
    "SVD = TruncatedSVD(n_components=10)\n",
    "decomposed_matrix = SVD.fit_transform(ratings_matrix)\n",
    "decomposed_matrix.shape"
   ],
   "metadata": {
    "collapsed": false,
    "ExecuteTime": {
     "end_time": "2024-02-07T14:06:26.696689200Z",
     "start_time": "2024-02-07T14:06:23.301351400Z"
    }
   },
   "id": "b1787572226fcf8c",
   "execution_count": 42
  },
  {
   "cell_type": "code",
   "outputs": [
    {
     "data": {
      "text/plain": "(5430, 5430)"
     },
     "execution_count": 43,
     "metadata": {},
     "output_type": "execute_result"
    }
   ],
   "source": [
    "# Calculate the correlation matrix\n",
    "correlation_matrix = np.corrcoef(decomposed_matrix)\n",
    "correlation_matrix.shape"
   ],
   "metadata": {
    "collapsed": false,
    "ExecuteTime": {
     "end_time": "2024-02-07T14:06:26.977270300Z",
     "start_time": "2024-02-07T14:06:26.703812900Z"
    }
   },
   "id": "392709abc351447",
   "execution_count": 43
  },
  {
   "cell_type": "code",
   "outputs": [
    {
     "name": "stdout",
     "output_type": "stream",
     "text": [
      "Top 21 Recommended Products for 'B002WE6D44':\n",
      "Product ID: B00030097G, Correlation Value: 0.9897145451072141\n",
      "Product ID: B0039825LM, Correlation Value: 0.9835442345522758\n",
      "Product ID: B00A2T6X0K, Correlation Value: 0.9774972534816574\n",
      "Product ID: B00126PHV8, Correlation Value: 0.9755651230532626\n",
      "Product ID: B00DXFDHV8, Correlation Value: 0.9720280443776125\n",
      "Product ID: B001F7AJKI, Correlation Value: 0.9715160192070658\n",
      "Product ID: B000I6F0T2, Correlation Value: 0.9690109568886254\n",
      "Product ID: B008R77ZCO, Correlation Value: 0.9689731458926841\n",
      "Product ID: B003I4FHNA, Correlation Value: 0.9684930366232346\n",
      "Product ID: B004JOQSEA, Correlation Value: 0.9673947281050649\n",
      "Product ID: B000ETTFRG, Correlation Value: 0.9667253479788368\n",
      "Product ID: B005D2JE2A, Correlation Value: 0.9663453117677135\n",
      "Product ID: B00GPH6T8E, Correlation Value: 0.9657774316716444\n",
      "Product ID: B0043CVH2Q, Correlation Value: 0.963881567942303\n",
      "Product ID: B00CRQUKQ4, Correlation Value: 0.9634789393765171\n",
      "Product ID: B000063TJY, Correlation Value: 0.9605881919425732\n",
      "Product ID: B00478O0JI, Correlation Value: 0.9593181214995586\n",
      "Product ID: B000KO0GY6, Correlation Value: 0.9583283046541228\n",
      "Product ID: B001KFH6IS, Correlation Value: 0.9564952830012216\n",
      "Product ID: B00005LEN4, Correlation Value: 0.9558825679468128\n"
     ]
    }
   ],
   "source": [
    "def recommend_products(selected_product_id, print_correlation = False, top_n=21, correlation_threshold=0.85):\n",
    "    # Find the index of the specified product ID\n",
    "    try:\n",
    "        # Make a list of index values\n",
    "        product_names = list(ratings_matrix.index)\n",
    "        product_id_index = product_names.index(selected_product_id)\n",
    "    except ValueError:\n",
    "        print(f\"Product ID '{selected_product_id}' not found in the dataset.\")\n",
    "        return None\n",
    "\n",
    "    # Extract the row corresponding to the specified product ID from the correlation matrix\n",
    "    correlation_product_id = correlation_matrix[product_id_index]\n",
    "\n",
    "    # Filter the rows of the correlation matrix with products with a correlation value above the threshold\n",
    "    similar_products_indices = np.where(correlation_product_id > correlation_threshold)[0]\n",
    "\n",
    "    # Get the indices of the top N highest correlation values\n",
    "    top_indices = np.argsort(correlation_product_id[similar_products_indices])[-top_n:-1][::-1]\n",
    "\n",
    "    # Create a dictionary with product IDs as keys and their correlation values as values\n",
    "    correlation_dict = {product_names[similar_products_indices[x]]: correlation_product_id[similar_products_indices[x]] for x in top_indices}\n",
    "\n",
    "    # Print the recommended products\n",
    "    print(f\"Top {top_n} Recommended Products for '{product_id}':\")\n",
    "    if print_correlation:\n",
    "        for recommended_product_id, correlation_value in correlation_dict.items():\n",
    "            print(f\"Product ID: {recommended_product_id}, Correlation Value: {correlation_value}\")\n",
    "    else:\n",
    "        for recommended_product_id, correlation_value in correlation_dict.items():\n",
    "            print(f\"Product ID: {recommended_product_id}\")\n",
    "\n",
    "# Example usage:\n",
    "recommend_products(\"B00001P4ZH\", True)"
   ],
   "metadata": {
    "collapsed": false,
    "ExecuteTime": {
     "end_time": "2024-02-07T14:06:26.994461700Z",
     "start_time": "2024-02-07T14:06:26.983529800Z"
    }
   },
   "id": "f0cf50d8535d14a6",
   "execution_count": 44
  }
 ],
 "metadata": {
  "kernelspec": {
   "display_name": "Python 3 (ipykernel)",
   "language": "python",
   "name": "python3"
  },
  "language_info": {
   "codemirror_mode": {
    "name": "ipython",
    "version": 3
   },
   "file_extension": ".py",
   "mimetype": "text/x-python",
   "name": "python",
   "nbconvert_exporter": "python",
   "pygments_lexer": "ipython3",
   "version": "3.11.5"
  }
 },
 "nbformat": 4,
 "nbformat_minor": 5
}
