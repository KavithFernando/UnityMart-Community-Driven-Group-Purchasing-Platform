{
 "cells": [
  {
   "cell_type": "code",
   "execution_count": 1,
   "id": "3a85d375",
   "metadata": {
    "ExecuteTime": {
     "end_time": "2024-02-05T11:15:04.091409700Z",
     "start_time": "2024-02-05T11:15:04.064147200Z"
    }
   },
   "outputs": [],
   "source": [
    "import pandas as pd\n",
    "import numpy as np\n",
    "from matplotlib import pyplot as plt\n",
    "import seaborn as sns\n",
    "import warnings\n",
    "import os\n",
    "import importlib\n",
    "warnings.filterwarnings('ignore')\n",
    "sns.set_theme(color_codes=True)"
   ]
  },
  {
   "cell_type": "code",
   "execution_count": 2,
   "id": "a2f7dd1f2cbb0894",
   "metadata": {
    "ExecuteTime": {
     "end_time": "2024-02-05T06:00:41.715521300Z",
     "start_time": "2024-02-05T06:00:33.698808300Z"
    }
   },
   "outputs": [],
   "source": [
    "# Load the dataset and set the column names\n",
    "df = pd.read_csv('Dataset/ratings_Electronics.csv' ,names=['userId', 'productId','rating','timestamp'])"
   ]
  },
  {
   "cell_type": "code",
   "execution_count": 3,
   "id": "e17ce4af296db191",
   "metadata": {
    "ExecuteTime": {
     "end_time": "2024-02-05T11:16:45.739200800Z",
     "start_time": "2024-02-05T11:16:45.728718600Z"
    }
   },
   "outputs": [
    {
     "data": {
      "text/plain": [
       "(7824482, 4)"
      ]
     },
     "execution_count": 3,
     "metadata": {},
     "output_type": "execute_result"
    }
   ],
   "source": [
    "# Display shape\n",
    "df.shape"
   ]
  },
  {
   "cell_type": "code",
   "execution_count": 4,
   "id": "113fb050019e3024",
   "metadata": {
    "ExecuteTime": {
     "end_time": "2024-02-05T06:00:41.880335300Z",
     "start_time": "2024-02-05T06:00:41.790555Z"
    }
   },
   "outputs": [
    {
     "data": {
      "text/plain": [
       "Index(['userId', 'productId', 'rating', 'timestamp'], dtype='object')"
      ]
     },
     "execution_count": 4,
     "metadata": {},
     "output_type": "execute_result"
    }
   ],
   "source": [
    "# Display columns\n",
    "df.columns"
   ]
  },
  {
   "cell_type": "markdown",
   "id": "3044b6abb09c305b",
   "metadata": {},
   "source": [
    "The dataset contains over 7.8 million entries. \n",
    "Taking 200000 random entries from the dataset as a sample because the dataset is too large."
   ]
  },
  {
   "cell_type": "code",
   "execution_count": 5,
   "id": "19c31f5006aa9600",
   "metadata": {
    "ExecuteTime": {
     "end_time": "2024-02-05T06:00:42.451424700Z",
     "start_time": "2024-02-05T06:00:41.833053800Z"
    }
   },
   "outputs": [],
   "source": [
    "product_data = df.sample(n=2000000, ignore_index=True)"
   ]
  },
  {
   "cell_type": "code",
   "execution_count": 6,
   "id": "a65a804f8c334156",
   "metadata": {
    "ExecuteTime": {
     "end_time": "2024-02-05T06:00:42.614922300Z",
     "start_time": "2024-02-05T06:00:42.452222200Z"
    }
   },
   "outputs": [],
   "source": [
    "# Delete the previous dataframe to release the memory\n",
    "del df"
   ]
  },
  {
   "cell_type": "code",
   "execution_count": 7,
   "id": "24977e12008241ed",
   "metadata": {
    "ExecuteTime": {
     "end_time": "2024-02-05T06:00:42.673896500Z",
     "start_time": "2024-02-05T06:00:42.620079100Z"
    }
   },
   "outputs": [
    {
     "data": {
      "text/html": [
       "<div>\n",
       "<style scoped>\n",
       "    .dataframe tbody tr th:only-of-type {\n",
       "        vertical-align: middle;\n",
       "    }\n",
       "\n",
       "    .dataframe tbody tr th {\n",
       "        vertical-align: top;\n",
       "    }\n",
       "\n",
       "    .dataframe thead th {\n",
       "        text-align: right;\n",
       "    }\n",
       "</style>\n",
       "<table border=\"1\" class=\"dataframe\">\n",
       "  <thead>\n",
       "    <tr style=\"text-align: right;\">\n",
       "      <th></th>\n",
       "      <th>userId</th>\n",
       "      <th>productId</th>\n",
       "      <th>rating</th>\n",
       "      <th>timestamp</th>\n",
       "    </tr>\n",
       "  </thead>\n",
       "  <tbody>\n",
       "    <tr>\n",
       "      <th>0</th>\n",
       "      <td>A1X1XI6IAUF63B</td>\n",
       "      <td>B0041ELCE4</td>\n",
       "      <td>5.0</td>\n",
       "      <td>1377734400</td>\n",
       "    </tr>\n",
       "    <tr>\n",
       "      <th>1</th>\n",
       "      <td>A13QSTMJI6NKP1</td>\n",
       "      <td>B0037FS8WM</td>\n",
       "      <td>4.0</td>\n",
       "      <td>1317513600</td>\n",
       "    </tr>\n",
       "    <tr>\n",
       "      <th>2</th>\n",
       "      <td>A1R2V143B67E3O</td>\n",
       "      <td>B001NJ0D0Y</td>\n",
       "      <td>5.0</td>\n",
       "      <td>1402617600</td>\n",
       "    </tr>\n",
       "    <tr>\n",
       "      <th>3</th>\n",
       "      <td>A3J8UH1FQP10IP</td>\n",
       "      <td>B00AT91DNK</td>\n",
       "      <td>1.0</td>\n",
       "      <td>1401667200</td>\n",
       "    </tr>\n",
       "    <tr>\n",
       "      <th>4</th>\n",
       "      <td>A3RXPJOY5XEN8Y</td>\n",
       "      <td>B00CIUGG1M</td>\n",
       "      <td>4.0</td>\n",
       "      <td>1387238400</td>\n",
       "    </tr>\n",
       "  </tbody>\n",
       "</table>\n",
       "</div>"
      ],
      "text/plain": [
       "           userId   productId  rating   timestamp\n",
       "0  A1X1XI6IAUF63B  B0041ELCE4     5.0  1377734400\n",
       "1  A13QSTMJI6NKP1  B0037FS8WM     4.0  1317513600\n",
       "2  A1R2V143B67E3O  B001NJ0D0Y     5.0  1402617600\n",
       "3  A3J8UH1FQP10IP  B00AT91DNK     1.0  1401667200\n",
       "4  A3RXPJOY5XEN8Y  B00CIUGG1M     4.0  1387238400"
      ]
     },
     "execution_count": 7,
     "metadata": {},
     "output_type": "execute_result"
    }
   ],
   "source": [
    "# Display the top 5 records of the dataframe\n",
    "product_data.head()"
   ]
  },
  {
   "cell_type": "code",
   "execution_count": 8,
   "id": "9e00557dc2e87105",
   "metadata": {
    "ExecuteTime": {
     "end_time": "2024-02-05T06:00:42.783421100Z",
     "start_time": "2024-02-05T06:00:42.668666400Z"
    }
   },
   "outputs": [
    {
     "name": "stdout",
     "output_type": "stream",
     "text": [
      "<class 'pandas.core.frame.DataFrame'>\n",
      "RangeIndex: 2000000 entries, 0 to 1999999\n",
      "Data columns (total 4 columns):\n",
      " #   Column     Dtype  \n",
      "---  ------     -----  \n",
      " 0   userId     object \n",
      " 1   productId  object \n",
      " 2   rating     float64\n",
      " 3   timestamp  int64  \n",
      "dtypes: float64(1), int64(1), object(2)\n",
      "memory usage: 61.0+ MB\n"
     ]
    }
   ],
   "source": [
    "# Display information of the dataframe\n",
    "product_data.info()"
   ]
  },
  {
   "cell_type": "code",
   "execution_count": 9,
   "id": "e39bc49f47ba5c0c",
   "metadata": {
    "ExecuteTime": {
     "end_time": "2024-02-05T06:00:42.986847200Z",
     "start_time": "2024-02-05T06:00:42.710229800Z"
    }
   },
   "outputs": [],
   "source": [
    "# Delete the unnecessary timestamp column\n",
    "product_data.drop('timestamp', axis=1, inplace=True)"
   ]
  },
  {
   "cell_type": "code",
   "execution_count": 10,
   "id": "7175640e02bbc850",
   "metadata": {
    "ExecuteTime": {
     "end_time": "2024-02-05T06:00:43.000224900Z",
     "start_time": "2024-02-05T06:00:42.817374800Z"
    }
   },
   "outputs": [
    {
     "data": {
      "text/html": [
       "<div>\n",
       "<style scoped>\n",
       "    .dataframe tbody tr th:only-of-type {\n",
       "        vertical-align: middle;\n",
       "    }\n",
       "\n",
       "    .dataframe tbody tr th {\n",
       "        vertical-align: top;\n",
       "    }\n",
       "\n",
       "    .dataframe thead th {\n",
       "        text-align: right;\n",
       "    }\n",
       "</style>\n",
       "<table border=\"1\" class=\"dataframe\">\n",
       "  <thead>\n",
       "    <tr style=\"text-align: right;\">\n",
       "      <th></th>\n",
       "      <th>rating</th>\n",
       "    </tr>\n",
       "  </thead>\n",
       "  <tbody>\n",
       "    <tr>\n",
       "      <th>count</th>\n",
       "      <td>2.000000e+06</td>\n",
       "    </tr>\n",
       "    <tr>\n",
       "      <th>mean</th>\n",
       "      <td>4.011546e+00</td>\n",
       "    </tr>\n",
       "    <tr>\n",
       "      <th>std</th>\n",
       "      <td>1.381662e+00</td>\n",
       "    </tr>\n",
       "    <tr>\n",
       "      <th>min</th>\n",
       "      <td>1.000000e+00</td>\n",
       "    </tr>\n",
       "    <tr>\n",
       "      <th>25%</th>\n",
       "      <td>3.000000e+00</td>\n",
       "    </tr>\n",
       "    <tr>\n",
       "      <th>50%</th>\n",
       "      <td>5.000000e+00</td>\n",
       "    </tr>\n",
       "    <tr>\n",
       "      <th>75%</th>\n",
       "      <td>5.000000e+00</td>\n",
       "    </tr>\n",
       "    <tr>\n",
       "      <th>max</th>\n",
       "      <td>5.000000e+00</td>\n",
       "    </tr>\n",
       "  </tbody>\n",
       "</table>\n",
       "</div>"
      ],
      "text/plain": [
       "             rating\n",
       "count  2.000000e+06\n",
       "mean   4.011546e+00\n",
       "std    1.381662e+00\n",
       "min    1.000000e+00\n",
       "25%    3.000000e+00\n",
       "50%    5.000000e+00\n",
       "75%    5.000000e+00\n",
       "max    5.000000e+00"
      ]
     },
     "execution_count": 10,
     "metadata": {},
     "output_type": "execute_result"
    }
   ],
   "source": [
    "# Display data description\n",
    "product_data.describe()"
   ]
  },
  {
   "cell_type": "code",
   "execution_count": 11,
   "id": "93e0fe13b52c2e3e",
   "metadata": {
    "ExecuteTime": {
     "end_time": "2024-02-05T06:00:43.419706700Z",
     "start_time": "2024-02-05T06:00:42.902545300Z"
    }
   },
   "outputs": [
    {
     "data": {
      "text/plain": [
       "userId       0\n",
       "productId    0\n",
       "rating       0\n",
       "dtype: int64"
      ]
     },
     "execution_count": 11,
     "metadata": {},
     "output_type": "execute_result"
    }
   ],
   "source": [
    "# Count null values\n",
    "product_data.isnull().sum()"
   ]
  },
  {
   "cell_type": "code",
   "execution_count": 12,
   "id": "89feb41f1c225e07",
   "metadata": {
    "ExecuteTime": {
     "end_time": "2024-02-05T06:00:45.484328Z",
     "start_time": "2024-02-05T06:00:43.419706700Z"
    }
   },
   "outputs": [
    {
     "data": {
      "text/plain": [
       "0"
      ]
     },
     "execution_count": 12,
     "metadata": {},
     "output_type": "execute_result"
    }
   ],
   "source": [
    "# Count duplicated values\n",
    "product_data.duplicated().sum()"
   ]
  },
  {
   "cell_type": "markdown",
   "id": "b21cfcf8e6dac037",
   "metadata": {},
   "source": [
    "Proceeding forward due to zero null and duplicated values"
   ]
  },
  {
   "cell_type": "markdown",
   "id": "21ddd423d8afa2ec",
   "metadata": {},
   "source": [
    "Displaying Rating Distribution as a graph"
   ]
  },
  {
   "cell_type": "code",
   "execution_count": 13,
   "id": "90606d60c6dfb81c",
   "metadata": {
    "ExecuteTime": {
     "end_time": "2024-02-05T06:00:49.514135300Z",
     "start_time": "2024-02-05T06:00:45.473640300Z"
    }
   },
   "outputs": [
    {
     "data": {
      "image/png": "[encoded data removed]",
      "text/plain": [
       "<Figure size 800x400 with 1 Axes>"
      ]
     },
     "metadata": {},
     "output_type": "display_data"
    }
   ],
   "source": [
    "# Set size of the figure\n",
    "plt.figure(figsize=(8,4))\n",
    "\n",
    "# Create a count plot based on the 'rating' column\n",
    "sns.countplot(x='rating',data=product_data)\n",
    "\n",
    "# Add a title to the plot\n",
    "plt.title('Rating Distribution')\n",
    "\n",
    "# Add a label to the x-axis\n",
    "plt.xlabel('Rating')\n",
    "\n",
    "# Add a label to the y-axis\n",
    "plt.ylabel('Count')\n",
    "\n",
    "# Add a grid to the plot\n",
    "plt.grid()\n",
    "\n",
    "# Display plot\n",
    "plt.show()"
   ]
  },
  {
   "cell_type": "markdown",
   "id": "629e44c4e3162bfa",
   "metadata": {},
   "source": [
    "Analyzing the rating by user"
   ]
  },
  {
   "cell_type": "code",
   "execution_count": 14,
   "id": "b2e18f0933899b98",
   "metadata": {
    "ExecuteTime": {
     "end_time": "2024-02-05T06:00:51.877207200Z",
     "start_time": "2024-02-05T06:00:49.521111100Z"
    }
   },
   "outputs": [
    {
     "name": "stdout",
     "output_type": "stream",
     "text": [
      "Total rating :  2000000\n",
      "Total unique users :  1502732\n",
      "Total unique products :  267175\n"
     ]
    }
   ],
   "source": [
    "print('Total rating : ',product_data.shape[0])\n",
    "print('Total unique users : ',product_data['userId'].nunique())\n",
    "print('Total unique products : ',product_data['productId'].nunique())"
   ]
  },
  {
   "cell_type": "code",
   "execution_count": 15,
   "id": "8c1422ade3cf8fd5",
   "metadata": {
    "ExecuteTime": {
     "end_time": "2024-02-05T06:00:58.826004100Z",
     "start_time": "2024-02-05T06:00:51.867452200Z"
    }
   },
   "outputs": [
    {
     "data": {
      "text/plain": [
       "userId\n",
       "A3OXHLG6DIBRW8    147\n",
       "A5JLAU2ARJ0BO     132\n",
       "ADLVFFE4VBT8      121\n",
       "A680RUE1FDO8B     117\n",
       "A6FIAB28IS79      115\n",
       "Name: rating, dtype: int64"
      ]
     },
     "execution_count": 15,
     "metadata": {},
     "output_type": "execute_result"
    }
   ],
   "source": [
    "# Count the number of rated products per user\n",
    "no_of_rated_products_per_user = product_data.groupby(by='userId')['rating'].count().sort_values(ascending=False)\n",
    "no_of_rated_products_per_user.head()"
   ]
  },
  {
   "cell_type": "code",
   "execution_count": 16,
   "id": "f8b5b074f64de0c3",
   "metadata": {
    "ExecuteTime": {
     "end_time": "2024-02-05T06:00:58.941904600Z",
     "start_time": "2024-02-05T06:00:58.824337Z"
    }
   },
   "outputs": [
    {
     "name": "stdout",
     "output_type": "stream",
     "text": [
      "Number of users who have rated more than 50 products : 52 \n"
     ]
    }
   ],
   "source": [
    "# Count the number of users who have rated more than 50 products\n",
    "print('Number of users who have rated more than 50 products : {} '.format(sum(no_of_rated_products_per_user >= 50)))"
   ]
  },
  {
   "cell_type": "markdown",
   "id": "caa2b9bd2b3260c2",
   "metadata": {},
   "source": [
    "## Popularity Based Recommendation\n",
    "To suggest products to user who just signed up"
   ]
  },
  {
   "cell_type": "code",
   "execution_count": 17,
   "id": "adf3f4b054a865e",
   "metadata": {
    "ExecuteTime": {
     "end_time": "2024-02-05T06:01:21.384623600Z",
     "start_time": "2024-02-05T06:00:58.942915800Z"
    }
   },
   "outputs": [],
   "source": [
    "# Filter the products with more than 50 ratings and making a new dataframe\n",
    "data = product_data.groupby('productId').filter(lambda x:x['rating'].count()>=50)"
   ]
  },
  {
   "cell_type": "code",
   "execution_count": 18,
   "id": "314fdfbbea0cc2de",
   "metadata": {
    "ExecuteTime": {
     "end_time": "2024-02-05T06:01:21.402468700Z",
     "start_time": "2024-02-05T06:01:21.385869Z"
    }
   },
   "outputs": [
    {
     "data": {
      "text/html": [
       "<div>\n",
       "<style scoped>\n",
       "    .dataframe tbody tr th:only-of-type {\n",
       "        vertical-align: middle;\n",
       "    }\n",
       "\n",
       "    .dataframe tbody tr th {\n",
       "        vertical-align: top;\n",
       "    }\n",
       "\n",
       "    .dataframe thead th {\n",
       "        text-align: right;\n",
       "    }\n",
       "</style>\n",
       "<table border=\"1\" class=\"dataframe\">\n",
       "  <thead>\n",
       "    <tr style=\"text-align: right;\">\n",
       "      <th></th>\n",
       "      <th>userId</th>\n",
       "      <th>productId</th>\n",
       "      <th>rating</th>\n",
       "    </tr>\n",
       "  </thead>\n",
       "  <tbody>\n",
       "    <tr>\n",
       "      <th>1</th>\n",
       "      <td>A13QSTMJI6NKP1</td>\n",
       "      <td>B0037FS8WM</td>\n",
       "      <td>4.0</td>\n",
       "    </tr>\n",
       "    <tr>\n",
       "      <th>2</th>\n",
       "      <td>A1R2V143B67E3O</td>\n",
       "      <td>B001NJ0D0Y</td>\n",
       "      <td>5.0</td>\n",
       "    </tr>\n",
       "    <tr>\n",
       "      <th>5</th>\n",
       "      <td>A67LYX6288WI3</td>\n",
       "      <td>B005FIFDSQ</td>\n",
       "      <td>5.0</td>\n",
       "    </tr>\n",
       "    <tr>\n",
       "      <th>8</th>\n",
       "      <td>A1SRJJ3FINSQYY</td>\n",
       "      <td>B004CRSM4I</td>\n",
       "      <td>5.0</td>\n",
       "    </tr>\n",
       "    <tr>\n",
       "      <th>9</th>\n",
       "      <td>A15TM3K5VLY6FC</td>\n",
       "      <td>B002BH3I9U</td>\n",
       "      <td>4.0</td>\n",
       "    </tr>\n",
       "  </tbody>\n",
       "</table>\n",
       "</div>"
      ],
      "text/plain": [
       "           userId   productId  rating\n",
       "1  A13QSTMJI6NKP1  B0037FS8WM     4.0\n",
       "2  A1R2V143B67E3O  B001NJ0D0Y     5.0\n",
       "5   A67LYX6288WI3  B005FIFDSQ     5.0\n",
       "8  A1SRJJ3FINSQYY  B004CRSM4I     5.0\n",
       "9  A15TM3K5VLY6FC  B002BH3I9U     4.0"
      ]
     },
     "execution_count": 18,
     "metadata": {},
     "output_type": "execute_result"
    }
   ],
   "source": [
    "data.head()"
   ]
  },
  {
   "cell_type": "code",
   "execution_count": 19,
   "id": "22ca9e1b6acd5541",
   "metadata": {
    "ExecuteTime": {
     "end_time": "2024-02-05T06:01:21.653177500Z",
     "start_time": "2024-02-05T06:01:21.397991700Z"
    }
   },
   "outputs": [],
   "source": [
    "# Calculate the number of ratings per product\n",
    "# Sort the results in the descending order \n",
    "no_of_rating_per_product = data.groupby('productId')['rating'].count().sort_values(ascending=False)"
   ]
  },
  {
   "cell_type": "code",
   "execution_count": 20,
   "id": "9ee785dafd4f8455",
   "metadata": {
    "ExecuteTime": {
     "end_time": "2024-02-05T06:01:21.662963200Z",
     "start_time": "2024-02-05T06:01:21.600631700Z"
    }
   },
   "outputs": [
    {
     "data": {
      "text/plain": [
       "productId\n",
       "B0074BW614    4784\n",
       "B00DR0PDNE    4183\n",
       "B007WTAJTO    3665\n",
       "B006GWO5WK    3087\n",
       "B0019EHU8G    3039\n",
       "Name: rating, dtype: int64"
      ]
     },
     "execution_count": 20,
     "metadata": {},
     "output_type": "execute_result"
    }
   ],
   "source": [
    "no_of_rating_per_product.head()"
   ]
  },
  {
   "cell_type": "code",
   "execution_count": 21,
   "id": "9167137bf4276905",
   "metadata": {
    "ExecuteTime": {
     "end_time": "2024-02-05T06:01:22.216376800Z",
     "start_time": "2024-02-05T06:01:21.614249400Z"
    }
   },
   "outputs": [
    {
     "data": {
      "image/png": "[encoded data removed]",
      "text/plain": [
       "<Figure size 640x480 with 1 Axes>"
      ]
     },
     "metadata": {},
     "output_type": "display_data"
    }
   ],
   "source": [
    "# Create a bar plot of the top 20 most rated products\n",
    "no_of_rating_per_product.head(20).plot(kind='bar')\n",
    "\n",
    "# Add a title to the plot\n",
    "plt.title('top 20 product')\n",
    "\n",
    "# Add label to the x-axis\n",
    "plt.xlabel('Product ID')\n",
    "\n",
    "# Add label to the x-axis\n",
    "plt.ylabel('num of rating')\n",
    "\n",
    "# Display plot\n",
    "plt.show()"
   ]
  },
  {
   "cell_type": "code",
   "execution_count": 22,
   "id": "8dd5e0a037a2ea8f",
   "metadata": {
    "ExecuteTime": {
     "end_time": "2024-02-05T06:01:22.391681800Z",
     "start_time": "2024-02-05T06:01:22.220519300Z"
    }
   },
   "outputs": [],
   "source": [
    "# Calculate the average rating for each product\n",
    "# Create a new dataframe from that data\n",
    "mean_rating_per_product = pd.DataFrame(data.groupby('productId')['rating'].mean())"
   ]
  },
  {
   "cell_type": "code",
   "execution_count": 23,
   "id": "e10653e1ae825021",
   "metadata": {
    "ExecuteTime": {
     "end_time": "2024-02-05T06:01:22.420691500Z",
     "start_time": "2024-02-05T06:01:22.392868Z"
    }
   },
   "outputs": [
    {
     "data": {
      "text/html": [
       "<div>\n",
       "<style scoped>\n",
       "    .dataframe tbody tr th:only-of-type {\n",
       "        vertical-align: middle;\n",
       "    }\n",
       "\n",
       "    .dataframe tbody tr th {\n",
       "        vertical-align: top;\n",
       "    }\n",
       "\n",
       "    .dataframe thead th {\n",
       "        text-align: right;\n",
       "    }\n",
       "</style>\n",
       "<table border=\"1\" class=\"dataframe\">\n",
       "  <thead>\n",
       "    <tr style=\"text-align: right;\">\n",
       "      <th></th>\n",
       "      <th>rating</th>\n",
       "    </tr>\n",
       "    <tr>\n",
       "      <th>productId</th>\n",
       "      <th></th>\n",
       "    </tr>\n",
       "  </thead>\n",
       "  <tbody>\n",
       "    <tr>\n",
       "      <th>0972683275</th>\n",
       "      <td>4.476395</td>\n",
       "    </tr>\n",
       "    <tr>\n",
       "      <th>1400501466</th>\n",
       "      <td>3.415385</td>\n",
       "    </tr>\n",
       "    <tr>\n",
       "      <th>1400532655</th>\n",
       "      <td>3.591304</td>\n",
       "    </tr>\n",
       "    <tr>\n",
       "      <th>140053271X</th>\n",
       "      <td>3.676768</td>\n",
       "    </tr>\n",
       "    <tr>\n",
       "      <th>1400599997</th>\n",
       "      <td>3.460317</td>\n",
       "    </tr>\n",
       "  </tbody>\n",
       "</table>\n",
       "</div>"
      ],
      "text/plain": [
       "              rating\n",
       "productId           \n",
       "0972683275  4.476395\n",
       "1400501466  3.415385\n",
       "1400532655  3.591304\n",
       "140053271X  3.676768\n",
       "1400599997  3.460317"
      ]
     },
     "execution_count": 23,
     "metadata": {},
     "output_type": "execute_result"
    }
   ],
   "source": [
    "mean_rating_per_product.head()"
   ]
  },
  {
   "cell_type": "code",
   "execution_count": 24,
   "id": "77a11a9ac827b97d",
   "metadata": {
    "ExecuteTime": {
     "end_time": "2024-02-05T06:01:22.814833100Z",
     "start_time": "2024-02-05T06:01:22.412602600Z"
    }
   },
   "outputs": [
    {
     "data": {
      "image/png": "[encoded data removed]",
      "text/plain": [
       "<Figure size 640x480 with 1 Axes>"
      ]
     },
     "metadata": {},
     "output_type": "display_data"
    }
   ],
   "source": [
    "# Create histogram with 100 bins\n",
    "plt.hist(mean_rating_per_product['rating'],bins=100)\n",
    "\n",
    "# Add a title to the histogram \n",
    "plt.title('Mean Rating distribution')\n",
    "\n",
    "# Display histogram\n",
    "plt.show()"
   ]
  },
  {
   "cell_type": "code",
   "execution_count": 25,
   "id": "5cf0722bf09bae5b",
   "metadata": {
    "ExecuteTime": {
     "end_time": "2024-02-05T06:01:22.816837600Z",
     "start_time": "2024-02-05T06:01:22.805063300Z"
    }
   },
   "outputs": [
    {
     "data": {
      "text/plain": [
       "-0.9379527083490128"
      ]
     },
     "execution_count": 25,
     "metadata": {},
     "output_type": "execute_result"
    }
   ],
   "source": [
    "# Check the skewness of the mean rating data\n",
    "mean_rating_per_product['rating'].skew()"
   ]
  },
  {
   "cell_type": "markdown",
   "id": "46c29c5bce551823",
   "metadata": {},
   "source": [
    "Moderately negatively skewed "
   ]
  },
  {
   "cell_type": "code",
   "execution_count": 26,
   "id": "6bf94b098820ae87",
   "metadata": {
    "ExecuteTime": {
     "end_time": "2024-02-05T06:01:23.026714Z",
     "start_time": "2024-02-05T06:01:22.812320500Z"
    }
   },
   "outputs": [],
   "source": [
    "# Add a rating_count column to the mean_rating_per_product dataframe\n",
    "mean_rating_per_product['rating_counts'] = data.groupby('productId')['rating'].count()"
   ]
  },
  {
   "cell_type": "code",
   "execution_count": 27,
   "id": "95b17686625d65c5",
   "metadata": {
    "ExecuteTime": {
     "end_time": "2024-02-05T06:01:23.031680300Z",
     "start_time": "2024-02-05T06:01:23.011705200Z"
    }
   },
   "outputs": [
    {
     "data": {
      "text/html": [
       "<div>\n",
       "<style scoped>\n",
       "    .dataframe tbody tr th:only-of-type {\n",
       "        vertical-align: middle;\n",
       "    }\n",
       "\n",
       "    .dataframe tbody tr th {\n",
       "        vertical-align: top;\n",
       "    }\n",
       "\n",
       "    .dataframe thead th {\n",
       "        text-align: right;\n",
       "    }\n",
       "</style>\n",
       "<table border=\"1\" class=\"dataframe\">\n",
       "  <thead>\n",
       "    <tr style=\"text-align: right;\">\n",
       "      <th></th>\n",
       "      <th>rating</th>\n",
       "      <th>rating_counts</th>\n",
       "    </tr>\n",
       "    <tr>\n",
       "      <th>productId</th>\n",
       "      <th></th>\n",
       "      <th></th>\n",
       "    </tr>\n",
       "  </thead>\n",
       "  <tbody>\n",
       "    <tr>\n",
       "      <th>0972683275</th>\n",
       "      <td>4.476395</td>\n",
       "      <td>233</td>\n",
       "    </tr>\n",
       "    <tr>\n",
       "      <th>1400501466</th>\n",
       "      <td>3.415385</td>\n",
       "      <td>65</td>\n",
       "    </tr>\n",
       "    <tr>\n",
       "      <th>1400532655</th>\n",
       "      <td>3.591304</td>\n",
       "      <td>115</td>\n",
       "    </tr>\n",
       "    <tr>\n",
       "      <th>140053271X</th>\n",
       "      <td>3.676768</td>\n",
       "      <td>99</td>\n",
       "    </tr>\n",
       "    <tr>\n",
       "      <th>1400599997</th>\n",
       "      <td>3.460317</td>\n",
       "      <td>63</td>\n",
       "    </tr>\n",
       "  </tbody>\n",
       "</table>\n",
       "</div>"
      ],
      "text/plain": [
       "              rating  rating_counts\n",
       "productId                          \n",
       "0972683275  4.476395            233\n",
       "1400501466  3.415385             65\n",
       "1400532655  3.591304            115\n",
       "140053271X  3.676768             99\n",
       "1400599997  3.460317             63"
      ]
     },
     "execution_count": 27,
     "metadata": {},
     "output_type": "execute_result"
    }
   ],
   "source": [
    "mean_rating_per_product.head()"
   ]
  },
  {
   "cell_type": "code",
   "execution_count": 28,
   "id": "8b9b77d58ba90b3b",
   "metadata": {
    "ExecuteTime": {
     "end_time": "2024-02-05T06:01:23.081054Z",
     "start_time": "2024-02-05T06:01:23.024649700Z"
    }
   },
   "outputs": [
    {
     "data": {
      "text/html": [
       "<div>\n",
       "<style scoped>\n",
       "    .dataframe tbody tr th:only-of-type {\n",
       "        vertical-align: middle;\n",
       "    }\n",
       "\n",
       "    .dataframe tbody tr th {\n",
       "        vertical-align: top;\n",
       "    }\n",
       "\n",
       "    .dataframe thead th {\n",
       "        text-align: right;\n",
       "    }\n",
       "</style>\n",
       "<table border=\"1\" class=\"dataframe\">\n",
       "  <thead>\n",
       "    <tr style=\"text-align: right;\">\n",
       "      <th></th>\n",
       "      <th>rating</th>\n",
       "      <th>rating_counts</th>\n",
       "    </tr>\n",
       "    <tr>\n",
       "      <th>productId</th>\n",
       "      <th></th>\n",
       "      <th></th>\n",
       "    </tr>\n",
       "  </thead>\n",
       "  <tbody>\n",
       "    <tr>\n",
       "      <th>B0074BW614</th>\n",
       "      <td>4.475543</td>\n",
       "      <td>4784</td>\n",
       "    </tr>\n",
       "  </tbody>\n",
       "</table>\n",
       "</div>"
      ],
      "text/plain": [
       "              rating  rating_counts\n",
       "productId                          \n",
       "B0074BW614  4.475543           4784"
      ]
     },
     "execution_count": 28,
     "metadata": {},
     "output_type": "execute_result"
    }
   ],
   "source": [
    "# Find the product with the highest mean rating\n",
    "mean_rating_per_product[mean_rating_per_product['rating_counts'] == mean_rating_per_product['rating_counts'].max()]"
   ]
  },
  {
   "cell_type": "code",
   "execution_count": 29,
   "id": "168d5948f30b74e4",
   "metadata": {
    "ExecuteTime": {
     "end_time": "2024-02-05T06:01:23.108221200Z",
     "start_time": "2024-02-05T06:01:23.041878200Z"
    }
   },
   "outputs": [
    {
     "name": "stdout",
     "output_type": "stream",
     "text": [
      "Minimum rating count for a product : 50\n",
      "Total products with the minimum rating count : 145\n"
     ]
    }
   ],
   "source": [
    "# The minimum number of ratings a product can have\n",
    "min_rating_counts = mean_rating_per_product['rating_counts'].min()\n",
    "\n",
    "# The number of products with the minimum number of ratings\n",
    "total_min_rating_products = mean_rating_per_product[mean_rating_per_product['rating_counts']==min_rating_counts].shape[0]\n",
    "\n",
    "print('Minimum rating count for a product :', min_rating_counts)\n",
    "print('Total products with the minimum rating count :', total_min_rating_products)"
   ]
  },
  {
   "cell_type": "code",
   "execution_count": 30,
   "id": "f53faad26d9e9b43",
   "metadata": {
    "ExecuteTime": {
     "end_time": "2024-02-05T06:01:23.677229300Z",
     "start_time": "2024-02-05T06:01:23.058625700Z"
    }
   },
   "outputs": [
    {
     "data": {
      "image/png": "[encoded data removed]",
      "text/plain": [
       "<Figure size 640x480 with 1 Axes>"
      ]
     },
     "metadata": {},
     "output_type": "display_data"
    }
   ],
   "source": [
    "# Create histogram with 100 bins\n",
    "plt.hist(mean_rating_per_product['rating_counts'],bins=100)\n",
    "\n",
    "# Add a title to the histogram \n",
    "plt.title('rating count distribution')\n",
    "\n",
    "# Display histogram\n",
    "plt.show()"
   ]
  },
  {
   "cell_type": "code",
   "execution_count": 31,
   "id": "8a7234d8beaa268",
   "metadata": {
    "ExecuteTime": {
     "end_time": "2024-02-05T06:01:25.342827500Z",
     "start_time": "2024-02-05T06:01:23.606491200Z"
    }
   },
   "outputs": [
    {
     "data": {
      "image/png": "[encoded data removed]",
      "text/plain": [
       "<Figure size 600x600 with 3 Axes>"
      ]
     },
     "metadata": {},
     "output_type": "display_data"
    }
   ],
   "source": [
    "# Create a joint plot with x and y axes representing mean rating and rating count\n",
    "sns.jointplot(x='rating',y='rating_counts',data=mean_rating_per_product)\n",
    "\n",
    "# Add a title to the joint plot\n",
    "plt.title('Joint Plot of rating and rating counts')\n",
    "\n",
    "# Prevent subplots from overlapping\n",
    "plt.tight_layout()\n",
    "\n",
    "# Display the joint plot\n",
    "plt.show()"
   ]
  },
  {
   "cell_type": "code",
   "execution_count": 32,
   "id": "2ac3d686db17f5b8",
   "metadata": {
    "ExecuteTime": {
     "end_time": "2024-02-05T06:01:25.668378300Z",
     "start_time": "2024-02-05T06:01:25.339707900Z"
    }
   },
   "outputs": [
    {
     "data": {
      "image/png": "[encoded data removed]",
      "text/plain": [
       "<Figure size 640x480 with 1 Axes>"
      ]
     },
     "metadata": {},
     "output_type": "display_data"
    }
   ],
   "source": [
    "# Create a scatter plot with x and y axes representing mean rating and rating count\n",
    "plt.scatter(x=mean_rating_per_product['rating'], y=mean_rating_per_product['rating_counts'])\n",
    "\n",
    "# Display the scatter plot\n",
    "plt.show()"
   ]
  },
  {
   "cell_type": "code",
   "execution_count": 33,
   "id": "30bfddd5f7c202e1",
   "metadata": {
    "ExecuteTime": {
     "end_time": "2024-02-05T06:01:25.683847500Z",
     "start_time": "2024-02-05T06:01:25.669397800Z"
    }
   },
   "outputs": [
    {
     "name": "stdout",
     "output_type": "stream",
     "text": [
      "Correlation between Rating and Rating Counts is : 0.10142700997466553\n"
     ]
    }
   ],
   "source": [
    "# Calculate the Pearson correlation coefficient between mean rating and ratings count\n",
    "correlation = mean_rating_per_product['rating'].corr(mean_rating_per_product['rating_counts'])\n",
    "print(f'Correlation between Rating and Rating Counts is : {correlation}')"
   ]
  },
  {
   "cell_type": "markdown",
   "id": "6cf21197102bc460",
   "metadata": {},
   "source": [
    "Not much of a correlation"
   ]
  },
  {
   "cell_type": "markdown",
   "id": "a57f2c5917942ec9",
   "metadata": {},
   "source": [
    "## Collaborative Filtering"
   ]
  },
  {
   "cell_type": "code",
   "execution_count": 34,
   "id": "c4b6468b4e695464",
   "metadata": {
    "ExecuteTime": {
     "end_time": "2024-02-05T11:35:48.622000800Z",
     "start_time": "2024-02-05T11:35:48.599580900Z"
    }
   },
   "outputs": [],
   "source": [
    "# Import libraries for collaborative filtering approach\n",
    "from surprise import KNNWithMeans\n",
    "from surprise import Dataset\n",
    "from surprise import accuracy\n",
    "from surprise import Reader\n",
    "from surprise.model_selection import train_test_split"
   ]
  },
  {
   "cell_type": "code",
   "execution_count": 35,
   "id": "23717b0f",
   "metadata": {
    "ExecuteTime": {
     "end_time": "2024-02-05T11:51:55.984650600Z",
     "start_time": "2024-02-05T11:51:55.949696900Z"
    }
   },
   "outputs": [],
   "source": [
    "# Specify the rating scale of data \n",
    "reader = Reader(rating_scale=(1, 5))\n",
    "\n",
    "# load the data from \"data\" into a format suitable for collaborative filtering\n",
    "surprise_data = Dataset.load_from_df(data, reader)"
   ]
  },
  {
   "cell_type": "code",
   "execution_count": 36,
   "id": "29181139",
   "metadata": {},
   "outputs": [],
   "source": [
    "#Split the surprise dataset into 80:20 ratio using train_test_split\n",
    "trainSet, testSet = train_test_split(surprise_data, test_size=0.3,random_state=42)"
   ]
  },
  {
   "cell_type": "markdown",
   "id": "a64ac681",
   "metadata": {},
   "source": [
    "#### Creating a collaborative filtering algorithm (KNNWithMeans) with specified parameters\n",
    "k=5: Number of neighbors to consider\n",
    "\n",
    "'name': Similarity measure (how similar two things are) to use 'pearson_baseline'\n",
    "\n",
    "'user_based': Whether to use user-based or item-based collaborative filtering (set to False for item-based)"
   ]
  },
  {
   "cell_type": "code",
   "execution_count": 37,
   "id": "f03f8119",
   "metadata": {},
   "outputs": [
    {
     "name": "stdout",
     "output_type": "stream",
     "text": [
      "Estimating biases using als...\n",
      "Computing the pearson_baseline similarity matrix...\n",
      "Done computing similarity matrix.\n"
     ]
    },
    {
     "data": {
      "text/plain": [
       "<surprise.prediction_algorithms.knns.KNNWithMeans at 0x1e185aa1ad0>"
      ]
     },
     "execution_count": 37,
     "metadata": {},
     "output_type": "execute_result"
    }
   ],
   "source": [
    "algo = KNNWithMeans(k=5, sim_options={'name': 'pearson_baseline', 'user_based': False})\n",
    "\n",
    "# Train the collaborative filtering algorithm on the training dataset\n",
    "algo.fit(trainSet)"
   ]
  },
  {
   "cell_type": "code",
   "execution_count": 39,
   "id": "baadbf23",
   "metadata": {},
   "outputs": [],
   "source": [
    "# Make predictions on the testing dataset and store the prediction objects in the 'test_pred' list\n",
    "test_pred = algo.test(testSet)"
   ]
  },
  {
   "cell_type": "code",
   "execution_count": null,
   "id": "9c46289f",
   "metadata": {},
   "outputs": [],
   "source": [
    "print(\"Item-based Model : Test Set\")\n",
    "\n",
    "# Calculate and print the Root Mean Squared Error (RMSE) for the collaborative filtering model on the test set \n",
    "# 'verbose=True' is set to display additional information\n",
    "accuracy.rmse(test_pred ,verbose=True)"
   ]
  }
 ],
 "metadata": {
  "kernelspec": {
   "display_name": "Python 3 (ipykernel)",
   "language": "python",
   "name": "python3"
  },
  "language_info": {
   "codemirror_mode": {
    "name": "ipython",
    "version": 3
   },
   "file_extension": ".py",
   "mimetype": "text/x-python",
   "name": "python",
   "nbconvert_exporter": "python",
   "pygments_lexer": "ipython3",
   "version": "3.11.5"
  }
 },
 "nbformat": 4,
 "nbformat_minor": 5
}
