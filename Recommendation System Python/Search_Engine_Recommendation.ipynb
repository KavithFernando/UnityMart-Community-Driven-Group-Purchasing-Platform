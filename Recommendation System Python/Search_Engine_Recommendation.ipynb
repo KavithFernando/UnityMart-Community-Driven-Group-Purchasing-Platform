{
 "cells": [
  {
   "cell_type": "code",
   "execution_count": 1,
   "id": "initial_id",
   "metadata": {
    "collapsed": true,
    "ExecuteTime": {
     "end_time": "2024-03-24T05:39:21.236653600Z",
     "start_time": "2024-03-24T05:39:19.481223700Z"
    }
   },
   "outputs": [
    {
     "name": "stderr",
     "output_type": "stream",
     "text": [
      "[nltk_data] Downloading package punkt to\n",
      "[nltk_data]     C:\\Users\\User\\AppData\\Roaming\\nltk_data...\n",
      "[nltk_data]   Package punkt is already up-to-date!\n"
     ]
    },
    {
     "data": {
      "text/plain": "True"
     },
     "execution_count": 1,
     "metadata": {},
     "output_type": "execute_result"
    }
   ],
   "source": [
    "import numpy as np\n",
    "import pandas as pd\n",
    "import warnings\n",
    "warnings.filterwarnings('ignore')\n",
    "import nltk\n",
    "nltk.download('punkt')"
   ]
  },
  {
   "cell_type": "code",
   "outputs": [
    {
     "data": {
      "text/plain": "   id                                              Title  \\\n0   1   Swissmar Capstore Select Storage Rack for 18-...   \n1   2   Gemini200 Delta CV-880 Gold Crown Livery Airc...   \n2   5   Superior Threads 10501-2172 Magnifico Cream P...   \n3   6            Fashion Angels Color Rox Hair Chox Kit    \n4   8   Union Creative Giant Killing Figure 05: Daisu...   \n\n                                         Description  \\\n0  Swissmar's capstore select 18 storage unit kee...   \n1  Welcome to the exciting world of GeminiJets! O...   \n2  For quilting and embroidery, this product is m...   \n3  Experiment with the haute trend of hair chalki...   \n4  From Union Creative. Turn your display shelf i...   \n\n                                            Category  \n0   Home & Kitchen Kitchen & Dining Kitchen Utens...  \n1   Toys & Games Hobbies Models & Model Kits Pre-...  \n2   Arts, Crafts & Sewing Sewing Thread & Floss S...  \n3   Beauty & Personal Care Hair Care Hair Colorin...  \n4   Toys & Games › Action Figures & Statues › Sta...  ",
      "text/html": "<div>\n<style scoped>\n    .dataframe tbody tr th:only-of-type {\n        vertical-align: middle;\n    }\n\n    .dataframe tbody tr th {\n        vertical-align: top;\n    }\n\n    .dataframe thead th {\n        text-align: right;\n    }\n</style>\n<table border=\"1\" class=\"dataframe\">\n  <thead>\n    <tr style=\"text-align: right;\">\n      <th></th>\n      <th>id</th>\n      <th>Title</th>\n      <th>Description</th>\n      <th>Category</th>\n    </tr>\n  </thead>\n  <tbody>\n    <tr>\n      <th>0</th>\n      <td>1</td>\n      <td>Swissmar Capstore Select Storage Rack for 18-...</td>\n      <td>Swissmar's capstore select 18 storage unit kee...</td>\n      <td>Home &amp; Kitchen Kitchen &amp; Dining Kitchen Utens...</td>\n    </tr>\n    <tr>\n      <th>1</th>\n      <td>2</td>\n      <td>Gemini200 Delta CV-880 Gold Crown Livery Airc...</td>\n      <td>Welcome to the exciting world of GeminiJets! O...</td>\n      <td>Toys &amp; Games Hobbies Models &amp; Model Kits Pre-...</td>\n    </tr>\n    <tr>\n      <th>2</th>\n      <td>5</td>\n      <td>Superior Threads 10501-2172 Magnifico Cream P...</td>\n      <td>For quilting and embroidery, this product is m...</td>\n      <td>Arts, Crafts &amp; Sewing Sewing Thread &amp; Floss S...</td>\n    </tr>\n    <tr>\n      <th>3</th>\n      <td>6</td>\n      <td>Fashion Angels Color Rox Hair Chox Kit</td>\n      <td>Experiment with the haute trend of hair chalki...</td>\n      <td>Beauty &amp; Personal Care Hair Care Hair Colorin...</td>\n    </tr>\n    <tr>\n      <th>4</th>\n      <td>8</td>\n      <td>Union Creative Giant Killing Figure 05: Daisu...</td>\n      <td>From Union Creative. Turn your display shelf i...</td>\n      <td>Toys &amp; Games › Action Figures &amp; Statues › Sta...</td>\n    </tr>\n  </tbody>\n</table>\n</div>"
     },
     "execution_count": 2,
     "metadata": {},
     "output_type": "execute_result"
    }
   ],
   "source": [
    "# Load the dataset\n",
    "amazon_df = pd.read_csv(\"Dataset/amazon_product_search.csv\")\n",
    "amazon_df.head()"
   ],
   "metadata": {
    "collapsed": false,
    "ExecuteTime": {
     "end_time": "2024-03-24T05:39:21.308351600Z",
     "start_time": "2024-03-24T05:39:21.234653200Z"
    }
   },
   "id": "7b8c1391725d25ca",
   "execution_count": 2
  },
  {
   "cell_type": "code",
   "outputs": [
    {
     "data": {
      "text/plain": "                                               Title  \\\n0   Swissmar Capstore Select Storage Rack for 18-...   \n1   Gemini200 Delta CV-880 Gold Crown Livery Airc...   \n2   Superior Threads 10501-2172 Magnifico Cream P...   \n3            Fashion Angels Color Rox Hair Chox Kit    \n4   Union Creative Giant Killing Figure 05: Daisu...   \n\n                                         Description  \\\n0  Swissmar's capstore select 18 storage unit kee...   \n1  Welcome to the exciting world of GeminiJets! O...   \n2  For quilting and embroidery, this product is m...   \n3  Experiment with the haute trend of hair chalki...   \n4  From Union Creative. Turn your display shelf i...   \n\n                                            Category  \n0   Home & Kitchen Kitchen & Dining Kitchen Utens...  \n1   Toys & Games Hobbies Models & Model Kits Pre-...  \n2   Arts, Crafts & Sewing Sewing Thread & Floss S...  \n3   Beauty & Personal Care Hair Care Hair Colorin...  \n4   Toys & Games › Action Figures & Statues › Sta...  ",
      "text/html": "<div>\n<style scoped>\n    .dataframe tbody tr th:only-of-type {\n        vertical-align: middle;\n    }\n\n    .dataframe tbody tr th {\n        vertical-align: top;\n    }\n\n    .dataframe thead th {\n        text-align: right;\n    }\n</style>\n<table border=\"1\" class=\"dataframe\">\n  <thead>\n    <tr style=\"text-align: right;\">\n      <th></th>\n      <th>Title</th>\n      <th>Description</th>\n      <th>Category</th>\n    </tr>\n  </thead>\n  <tbody>\n    <tr>\n      <th>0</th>\n      <td>Swissmar Capstore Select Storage Rack for 18-...</td>\n      <td>Swissmar's capstore select 18 storage unit kee...</td>\n      <td>Home &amp; Kitchen Kitchen &amp; Dining Kitchen Utens...</td>\n    </tr>\n    <tr>\n      <th>1</th>\n      <td>Gemini200 Delta CV-880 Gold Crown Livery Airc...</td>\n      <td>Welcome to the exciting world of GeminiJets! O...</td>\n      <td>Toys &amp; Games Hobbies Models &amp; Model Kits Pre-...</td>\n    </tr>\n    <tr>\n      <th>2</th>\n      <td>Superior Threads 10501-2172 Magnifico Cream P...</td>\n      <td>For quilting and embroidery, this product is m...</td>\n      <td>Arts, Crafts &amp; Sewing Sewing Thread &amp; Floss S...</td>\n    </tr>\n    <tr>\n      <th>3</th>\n      <td>Fashion Angels Color Rox Hair Chox Kit</td>\n      <td>Experiment with the haute trend of hair chalki...</td>\n      <td>Beauty &amp; Personal Care Hair Care Hair Colorin...</td>\n    </tr>\n    <tr>\n      <th>4</th>\n      <td>Union Creative Giant Killing Figure 05: Daisu...</td>\n      <td>From Union Creative. Turn your display shelf i...</td>\n      <td>Toys &amp; Games › Action Figures &amp; Statues › Sta...</td>\n    </tr>\n  </tbody>\n</table>\n</div>"
     },
     "execution_count": 3,
     "metadata": {},
     "output_type": "execute_result"
    }
   ],
   "source": [
    "# Drop the \"id\" axis\n",
    "amazon_df.drop(\"id\", axis=1, inplace=True)\n",
    "amazon_df.head()"
   ],
   "metadata": {
    "collapsed": false,
    "ExecuteTime": {
     "end_time": "2024-03-24T05:39:21.309350900Z",
     "start_time": "2024-03-24T05:39:21.261402400Z"
    }
   },
   "id": "e0642f2e35b282c4",
   "execution_count": 3
  },
  {
   "cell_type": "code",
   "outputs": [
    {
     "data": {
      "text/plain": "Title          0\nDescription    0\nCategory       0\ndtype: int64"
     },
     "execution_count": 4,
     "metadata": {},
     "output_type": "execute_result"
    }
   ],
   "source": [
    "# Check null values\n",
    "amazon_df.isnull().sum()"
   ],
   "metadata": {
    "collapsed": false,
    "ExecuteTime": {
     "end_time": "2024-03-24T05:39:21.310351300Z",
     "start_time": "2024-03-24T05:39:21.264677Z"
    }
   },
   "id": "217352203c00231e",
   "execution_count": 4
  },
  {
   "cell_type": "code",
   "outputs": [],
   "source": [
    "from nltk.stem.snowball import SnowballStemmer\n",
    "\n",
    "# Create a SnowballStemmer instance for English\n",
    "stemmer = SnowballStemmer(\"english\")\n",
    "\n",
    "# Define a function for tokenization and stemming\n",
    "def tokenize_stem(text):\n",
    "    \n",
    "    # Tokenize the text into words and convert to lowercase\n",
    "    tokens = nltk.word_tokenize(text.lower())\n",
    "    \n",
    "    # Stem each token using SnowballStemmer\n",
    "    stemmed = [stemmer.stem(w) for w in tokens]\n",
    "    \n",
    "    return \" \".join(stemmed)"
   ],
   "metadata": {
    "collapsed": false,
    "ExecuteTime": {
     "end_time": "2024-03-24T05:39:21.321277200Z",
     "start_time": "2024-03-24T05:39:21.270713300Z"
    }
   },
   "id": "705c8f0106fdd53f",
   "execution_count": 5
  },
  {
   "cell_type": "code",
   "outputs": [
    {
     "data": {
      "text/plain": "                                               Title  \\\n0   Swissmar Capstore Select Storage Rack for 18-...   \n1   Gemini200 Delta CV-880 Gold Crown Livery Airc...   \n2   Superior Threads 10501-2172 Magnifico Cream P...   \n3            Fashion Angels Color Rox Hair Chox Kit    \n4   Union Creative Giant Killing Figure 05: Daisu...   \n\n                                         Description  \\\n0  Swissmar's capstore select 18 storage unit kee...   \n1  Welcome to the exciting world of GeminiJets! O...   \n2  For quilting and embroidery, this product is m...   \n3  Experiment with the haute trend of hair chalki...   \n4  From Union Creative. Turn your display shelf i...   \n\n                                            Category  \\\n0   Home & Kitchen Kitchen & Dining Kitchen Utens...   \n1   Toys & Games Hobbies Models & Model Kits Pre-...   \n2   Arts, Crafts & Sewing Sewing Thread & Floss S...   \n3   Beauty & Personal Care Hair Care Hair Colorin...   \n4   Toys & Games › Action Figures & Statues › Sta...   \n\n                                      Stemmed Tokens  \n0  swissmar capstor select storag rack for 18-pac...  \n1  gemini200 delta cv-880 gold crown liveri aircr...  \n2  superior thread 10501-2172 magnifico cream puf...  \n3  fashion angel color rox hair chox kit beauti &...  \n4  union creativ giant kill figur 05 : daisuk tsu...  ",
      "text/html": "<div>\n<style scoped>\n    .dataframe tbody tr th:only-of-type {\n        vertical-align: middle;\n    }\n\n    .dataframe tbody tr th {\n        vertical-align: top;\n    }\n\n    .dataframe thead th {\n        text-align: right;\n    }\n</style>\n<table border=\"1\" class=\"dataframe\">\n  <thead>\n    <tr style=\"text-align: right;\">\n      <th></th>\n      <th>Title</th>\n      <th>Description</th>\n      <th>Category</th>\n      <th>Stemmed Tokens</th>\n    </tr>\n  </thead>\n  <tbody>\n    <tr>\n      <th>0</th>\n      <td>Swissmar Capstore Select Storage Rack for 18-...</td>\n      <td>Swissmar's capstore select 18 storage unit kee...</td>\n      <td>Home &amp; Kitchen Kitchen &amp; Dining Kitchen Utens...</td>\n      <td>swissmar capstor select storag rack for 18-pac...</td>\n    </tr>\n    <tr>\n      <th>1</th>\n      <td>Gemini200 Delta CV-880 Gold Crown Livery Airc...</td>\n      <td>Welcome to the exciting world of GeminiJets! O...</td>\n      <td>Toys &amp; Games Hobbies Models &amp; Model Kits Pre-...</td>\n      <td>gemini200 delta cv-880 gold crown liveri aircr...</td>\n    </tr>\n    <tr>\n      <th>2</th>\n      <td>Superior Threads 10501-2172 Magnifico Cream P...</td>\n      <td>For quilting and embroidery, this product is m...</td>\n      <td>Arts, Crafts &amp; Sewing Sewing Thread &amp; Floss S...</td>\n      <td>superior thread 10501-2172 magnifico cream puf...</td>\n    </tr>\n    <tr>\n      <th>3</th>\n      <td>Fashion Angels Color Rox Hair Chox Kit</td>\n      <td>Experiment with the haute trend of hair chalki...</td>\n      <td>Beauty &amp; Personal Care Hair Care Hair Colorin...</td>\n      <td>fashion angel color rox hair chox kit beauti &amp;...</td>\n    </tr>\n    <tr>\n      <th>4</th>\n      <td>Union Creative Giant Killing Figure 05: Daisu...</td>\n      <td>From Union Creative. Turn your display shelf i...</td>\n      <td>Toys &amp; Games › Action Figures &amp; Statues › Sta...</td>\n      <td>union creativ giant kill figur 05 : daisuk tsu...</td>\n    </tr>\n  </tbody>\n</table>\n</div>"
     },
     "execution_count": 6,
     "metadata": {},
     "output_type": "execute_result"
    }
   ],
   "source": [
    "# Apply \"tokenize_stem()\" to create a new column in a DataFrame\n",
    "amazon_df[\"Stemmed Tokens\"] = amazon_df.apply(lambda row: tokenize_stem(row[\"Title\"] + \" \" + row[\"Category\"]), axis=1)\n",
    "amazon_df.head()"
   ],
   "metadata": {
    "collapsed": false,
    "ExecuteTime": {
     "end_time": "2024-03-24T05:39:21.689619400Z",
     "start_time": "2024-03-24T05:39:21.274194Z"
    }
   },
   "id": "8cabc1eb056b5377",
   "execution_count": 6
  },
  {
   "cell_type": "code",
   "outputs": [],
   "source": [
    "from sklearn.feature_extraction.text import TfidfVectorizer\n",
    "from sklearn.metrics.pairwise import cosine_similarity\n",
    "\n",
    "# Create a TfidfVectorizer instance with the custom tokenizer\n",
    "tfidf_vectorizer = TfidfVectorizer(tokenizer=tokenize_stem)\n",
    "\n",
    "# Define a function to check cosine similarity between two texts\n",
    "def check_cosine_similarity(text1, text2):\n",
    "    # Create a TF-IDF matrix for the given texts\n",
    "    matrix = tfidf_vectorizer.fit_transform([text1, text2])\n",
    "    \n",
    "    # Calculate cosine similarity between the vectors in the matrix\n",
    "    similarity_matrix = cosine_similarity(matrix)[0][1]\n",
    "    \n",
    "    # Return the cosine similarity value\n",
    "    return similarity_matrix"
   ],
   "metadata": {
    "collapsed": false,
    "ExecuteTime": {
     "end_time": "2024-03-24T05:39:21.690621900Z",
     "start_time": "2024-03-24T05:39:21.671610900Z"
    }
   },
   "id": "a7b32be5d78a172a",
   "execution_count": 7
  },
  {
   "cell_type": "code",
   "outputs": [],
   "source": [
    "def search_product(query):\n",
    "    # Tokenize and stem the user query\n",
    "    stemmed_query = tokenize_stem(query)\n",
    "    \n",
    "    # Apply the check_cosine_similarity function to calculate similarity for each product\n",
    "    amazon_df[\"Similarity\"] = amazon_df[\"Stemmed Tokens\"].apply(lambda x: check_cosine_similarity(stemmed_query, x))\n",
    "    \n",
    "    # Sort the DataFrame by similarity in descending order and take the top 10 results\n",
    "    result = amazon_df.sort_values(by=[\"Similarity\"], ascending=False).head(10)[[\"Title\", \"Description\", \"Category\"]]\n",
    "    \n",
    "    # Return the result containing product titles, descriptions, and categories\n",
    "    return result"
   ],
   "metadata": {
    "collapsed": false,
    "ExecuteTime": {
     "end_time": "2024-03-24T05:39:21.690621900Z",
     "start_time": "2024-03-24T05:39:21.677563300Z"
    }
   },
   "id": "f8e2a7eb3a04df19",
   "execution_count": 8
  },
  {
   "cell_type": "code",
   "outputs": [
    {
     "data": {
      "text/plain": "                                                 Title  \\\n380   Hasbro Nerf Weather Blitz Football - Colors M...   \n330            KOLE IMPORTS GIANT HOT DOG SQUEAKY TOY    \n144                       Hog Wild Raccoon Popper Toy    \n218            Green Toys Rescue Boat with Helicopter    \n124   GUESS Boys' Little Printed Twill Cargo Pocket...   \n72                   FyrFlyz Green White LEDs Cyclone    \n243   The Body Shop Drops of Youth Liquid Peel, 4.9...   \n67             ALEX Toys Rub a Dub Tub Tunes Symphony    \n520   Goliath 31601 Zoingo Boingo, The Flexible Fre...   \n436                           KMC Closer Missing Link    \n\n                                           Description  \\\n380  The NERF WEATHER BLITZ is tough! Designed with...   \n330  Giant Hot Dog Squeaky Dog Toy . Give dogs a bi...   \n144  The Raccoon Popper is making more mischief. Sq...   \n218  No water rescue is out of reach when the Green...   \n124  Little boys printed twill cargo short pant wit...   \n72   Get your hands on a one of a kind toy with the...   \n243  The Drops of Youth™ Youth Liquid Peel exfoliat...   \n67   ALEX Toys Rub a Dub Tub Tunes Symphony has eve...   \n520  Zoingo Boingo is the fantastic flexible freest...   \n436                 No further description available.    \n\n                                              Category  \n380   Toys & Games Sports & Outdoor Play Sports Toy...  \n330                Pet Supplies Dogs Toys Squeak Toys   \n144   Toys & Games Sports & Outdoor Play Blasters &...  \n218   Toys & Games Baby & Toddler Toys Car Seat & S...  \n124    Clothing, Shoes & Jewelry Boys Clothing Shorts   \n72    Toys & Games › Novelty & Gag Toys › Light-Up ...  \n243         Automotive Motorcycle & Powersports Parts   \n67     Toys & Games › Baby & Toddler Toys › Bath Toys   \n520   Sports & Outdoors › Sports & Fitness › Leisur...  \n436   Sports & Outdoors › Outdoor Recreation › Cycl...  ",
      "text/html": "<div>\n<style scoped>\n    .dataframe tbody tr th:only-of-type {\n        vertical-align: middle;\n    }\n\n    .dataframe tbody tr th {\n        vertical-align: top;\n    }\n\n    .dataframe thead th {\n        text-align: right;\n    }\n</style>\n<table border=\"1\" class=\"dataframe\">\n  <thead>\n    <tr style=\"text-align: right;\">\n      <th></th>\n      <th>Title</th>\n      <th>Description</th>\n      <th>Category</th>\n    </tr>\n  </thead>\n  <tbody>\n    <tr>\n      <th>380</th>\n      <td>Hasbro Nerf Weather Blitz Football - Colors M...</td>\n      <td>The NERF WEATHER BLITZ is tough! Designed with...</td>\n      <td>Toys &amp; Games Sports &amp; Outdoor Play Sports Toy...</td>\n    </tr>\n    <tr>\n      <th>330</th>\n      <td>KOLE IMPORTS GIANT HOT DOG SQUEAKY TOY</td>\n      <td>Giant Hot Dog Squeaky Dog Toy . Give dogs a bi...</td>\n      <td>Pet Supplies Dogs Toys Squeak Toys</td>\n    </tr>\n    <tr>\n      <th>144</th>\n      <td>Hog Wild Raccoon Popper Toy</td>\n      <td>The Raccoon Popper is making more mischief. Sq...</td>\n      <td>Toys &amp; Games Sports &amp; Outdoor Play Blasters &amp;...</td>\n    </tr>\n    <tr>\n      <th>218</th>\n      <td>Green Toys Rescue Boat with Helicopter</td>\n      <td>No water rescue is out of reach when the Green...</td>\n      <td>Toys &amp; Games Baby &amp; Toddler Toys Car Seat &amp; S...</td>\n    </tr>\n    <tr>\n      <th>124</th>\n      <td>GUESS Boys' Little Printed Twill Cargo Pocket...</td>\n      <td>Little boys printed twill cargo short pant wit...</td>\n      <td>Clothing, Shoes &amp; Jewelry Boys Clothing Shorts</td>\n    </tr>\n    <tr>\n      <th>72</th>\n      <td>FyrFlyz Green White LEDs Cyclone</td>\n      <td>Get your hands on a one of a kind toy with the...</td>\n      <td>Toys &amp; Games › Novelty &amp; Gag Toys › Light-Up ...</td>\n    </tr>\n    <tr>\n      <th>243</th>\n      <td>The Body Shop Drops of Youth Liquid Peel, 4.9...</td>\n      <td>The Drops of Youth™ Youth Liquid Peel exfoliat...</td>\n      <td>Automotive Motorcycle &amp; Powersports Parts</td>\n    </tr>\n    <tr>\n      <th>67</th>\n      <td>ALEX Toys Rub a Dub Tub Tunes Symphony</td>\n      <td>ALEX Toys Rub a Dub Tub Tunes Symphony has eve...</td>\n      <td>Toys &amp; Games › Baby &amp; Toddler Toys › Bath Toys</td>\n    </tr>\n    <tr>\n      <th>520</th>\n      <td>Goliath 31601 Zoingo Boingo, The Flexible Fre...</td>\n      <td>Zoingo Boingo is the fantastic flexible freest...</td>\n      <td>Sports &amp; Outdoors › Sports &amp; Fitness › Leisur...</td>\n    </tr>\n    <tr>\n      <th>436</th>\n      <td>KMC Closer Missing Link</td>\n      <td>No further description available.</td>\n      <td>Sports &amp; Outdoors › Outdoor Recreation › Cycl...</td>\n    </tr>\n  </tbody>\n</table>\n</div>"
     },
     "execution_count": 9,
     "metadata": {},
     "output_type": "execute_result"
    }
   ],
   "source": [
    "search_product(\"Toys\")"
   ],
   "metadata": {
    "collapsed": false,
    "ExecuteTime": {
     "end_time": "2024-03-24T05:39:22.733570400Z",
     "start_time": "2024-03-24T05:39:21.680785600Z"
    }
   },
   "id": "d50959012fde19c5",
   "execution_count": 9
  },
  {
   "cell_type": "code",
   "outputs": [],
   "source": [],
   "metadata": {
    "collapsed": false,
    "ExecuteTime": {
     "end_time": "2024-03-24T05:39:22.745416800Z",
     "start_time": "2024-03-24T05:39:22.734355100Z"
    }
   },
   "id": "20939abcc218c77e",
   "execution_count": 9
  }
 ],
 "metadata": {
  "kernelspec": {
   "display_name": "Python 3",
   "language": "python",
   "name": "python3"
  },
  "language_info": {
   "codemirror_mode": {
    "name": "ipython",
    "version": 2
   },
   "file_extension": ".py",
   "mimetype": "text/x-python",
   "name": "python",
   "nbconvert_exporter": "python",
   "pygments_lexer": "ipython2",
   "version": "2.7.6"
  }
 },
 "nbformat": 4,
 "nbformat_minor": 5
}
